{
 "cells": [
  {
   "cell_type": "markdown",
   "metadata": {},
   "source": [
    "plotting pid as a function of prediction"
   ]
  },
  {
   "cell_type": "code",
   "execution_count": 68,
   "metadata": {},
   "outputs": [
    {
     "name": "stdout",
     "output_type": "stream",
     "text": [
      "0.12.1\n"
     ]
    }
   ],
   "source": [
    "import pandas as pd\n",
    "import matplotlib.pyplot as plt\n",
    "import numpy as np\n",
    "import seaborn as sns\n",
    "print(sns.__version__)\n",
    "from matplotlib.colors import LogNorm, Normalize\n",
    "\n",
    "path_to_db = \"/groups/icecube/peter/storage/Multiclassification/Test/last_one_lvl3MC/dynedge_pid_test_run/results.csv\"\n",
    "feature_data = pd.read_csv(path_to_db)"
   ]
  },
  {
   "cell_type": "code",
   "execution_count": 69,
   "metadata": {},
   "outputs": [],
   "source": [
    "preds = [\"pid_noise_pred\",\"pid_muon_pred\",\"pid_neutrino_pred\"]\n",
    "pids = [1,12,13]"
   ]
  },
  {
   "cell_type": "code",
   "execution_count": 70,
   "metadata": {},
   "outputs": [],
   "source": [
    "## transform data\n",
    "# remove anti\n",
    "feature_data['pid'] = feature_data['pid'].apply(abs)\n",
    "# make all neutrinos the same class; to match prediction\n",
    "feature_data.loc[feature_data['pid']==14, \"pid\"]=12\n",
    "feature_data.loc[feature_data['pid']==16, \"pid\"]=12"
   ]
  },
  {
   "cell_type": "code",
   "execution_count": 168,
   "metadata": {},
   "outputs": [
    {
     "data": {
      "text/plain": [
       "pid   pid_noise_pred\n",
       "1.0   1.000000e+00      3263\n",
       "      9.936540e-01         2\n",
       "      9.979399e-01         2\n",
       "      9.883731e-01         2\n",
       "      9.958396e-01         2\n",
       "                        ... \n",
       "13.0  4.554880e-12         1\n",
       "      4.531656e-12         1\n",
       "      4.531099e-12         1\n",
       "      4.511483e-12         1\n",
       "      9.951838e-01         1\n",
       "Length: 29349, dtype: int64"
      ]
     },
     "execution_count": 168,
     "metadata": {},
     "output_type": "execute_result"
    }
   ],
   "source": [
    "a = feature_data[[\"pid_noise_pred\",\"pid\"]].groupby(by=\"pid\")\n",
    "b = feature_data[[\"pid_muon_pred\",\"pid\"]].groupby(by=\"pid\")\n",
    "c = feature_data[[\"pid_neutrino_pred\",\"pid\"]].groupby(by=\"pid\")\n",
    "a.value_counts()"
   ]
  },
  {
   "cell_type": "code",
   "execution_count": 122,
   "metadata": {},
   "outputs": [
    {
     "name": "stdout",
     "output_type": "stream",
     "text": [
      "[0        0.967094\n",
      "2        0.623522\n",
      "6        1.000000\n",
      "9        0.846743\n",
      "15       0.984564\n",
      "           ...   \n",
      "32976    1.000000\n",
      "32979    0.980119\n",
      "32985    0.924875\n",
      "32988    1.000000\n",
      "32990    0.978678\n",
      "Name: pid_noise_pred, Length: 6559, dtype: float64, 1        1.476296e-09\n",
      "3        1.150592e-02\n",
      "4        3.382895e-07\n",
      "7        1.855778e-14\n",
      "8        5.308883e-05\n",
      "             ...     \n",
      "32992    1.532910e-07\n",
      "32993    2.971106e-08\n",
      "32995    1.027378e-05\n",
      "32996    1.318803e-11\n",
      "32999    3.719980e-09\n",
      "Name: pid_noise_pred, Length: 19779, dtype: float64, 5        3.977881e-16\n",
      "10       6.895918e-09\n",
      "11       1.495949e-06\n",
      "19       2.584643e-12\n",
      "21       7.359793e-11\n",
      "             ...     \n",
      "32987    2.821006e-16\n",
      "32991    1.310348e-06\n",
      "32994    1.388225e-13\n",
      "32997    3.247883e-14\n",
      "32998    4.629225e-07\n",
      "Name: pid_noise_pred, Length: 6662, dtype: float64]\n"
     ]
    }
   ],
   "source": [
    "preds = [\"pid_noise_pred\",\"pid_muon_pred\",\"pid_neutrino_pred\"]\n",
    "pids = [1,12,13]\n",
    "color=[\"b\",\"y\",\"g\"]\n",
    "for i, pred in enumerate(preds):\n",
    "    pid_list=[]\n",
    "    pid_histlist=[]\n",
    "    pid_bin_centers=[]\n",
    "\n",
    "    temp = 0\n",
    "    for i, pid in enumerate(pids):\n",
    "        y, bin_edges = np.histogram(feature_data[pred].loc[feature_data[\"pid\"]==pid], bins=50)\n",
    "        pid_list.append(feature_data[pred].loc[feature_data[\"pid\"]==pid])\n",
    "        if i >= 0:\n",
    "            pid_histlist.append(y+temp)\n",
    "        else:\n",
    "            pid_histlist.append(y)\n",
    "        temp = y\n",
    "        pid_bin_centers.append(0.5*(bin_edges[1:] + bin_edges[:-1]))\n",
    "\n",
    "    print(pid_list)\n",
    "    break\n",
    "    sns.histplot(\n",
    "    pid_list, x=\"pid_noise_pred\", y=\"pid_muon_pred\", hue=\"pid\",\n",
    "        bins=50, cbar=True, log_scale=True\n",
    "    )"
   ]
  },
  {
   "cell_type": "code",
   "execution_count": 108,
   "metadata": {},
   "outputs": [
    {
     "name": "stderr",
     "output_type": "stream",
     "text": [
      "/tmp/ipykernel_18370/3221103619.py:1: UserWarning: \n",
      "\n",
      "`distplot` is a deprecated function and will be removed in seaborn v0.14.0.\n",
      "\n",
      "Please adapt your code to use either `displot` (a figure-level function with\n",
      "similar flexibility) or `histplot` (an axes-level function for histograms).\n",
      "\n",
      "For a guide to updating your code to use the new functions, please see\n",
      "https://gist.github.com/mwaskom/de44147ed2974457ad6372750bbe5751\n",
      "\n",
      "  sns.distplot(a.pid_noise_pred)\n"
     ]
    },
    {
     "ename": "ValueError",
     "evalue": "setting an array element with a sequence.",
     "output_type": "error",
     "traceback": [
      "\u001b[0;31m---------------------------------------------------------------------------\u001b[0m",
      "\u001b[0;31mTypeError\u001b[0m                                 Traceback (most recent call last)",
      "File \u001b[0;32m~/anaconda3/envs/graphnet/lib/python3.8/site-packages/pandas/core/series.py:206\u001b[0m, in \u001b[0;36m_coerce_method.<locals>.wrapper\u001b[0;34m(self)\u001b[0m\n\u001b[1;32m    205\u001b[0m     \u001b[39mreturn\u001b[39;00m converter(\u001b[39mself\u001b[39m\u001b[39m.\u001b[39miloc[\u001b[39m0\u001b[39m])\n\u001b[0;32m--> 206\u001b[0m \u001b[39mraise\u001b[39;00m \u001b[39mTypeError\u001b[39;00m(\u001b[39mf\u001b[39m\u001b[39m\"\u001b[39m\u001b[39mcannot convert the series to \u001b[39m\u001b[39m{\u001b[39;00mconverter\u001b[39m}\u001b[39;00m\u001b[39m\"\u001b[39m)\n",
      "\u001b[0;31mTypeError\u001b[0m: cannot convert the series to <class 'float'>",
      "\nThe above exception was the direct cause of the following exception:\n",
      "\u001b[0;31mValueError\u001b[0m                                Traceback (most recent call last)",
      "\u001b[1;32m/groups/icecube/qgf305/workspace/analyses/multi_classification_on_stop_and_track_muons/plotting/distributions/PIDofPrediction2D.ipynb Cell 8\u001b[0m in \u001b[0;36m<cell line: 1>\u001b[0;34m()\u001b[0m\n\u001b[0;32m----> <a href='vscode-notebook-cell://ssh-remote%2B7b22686f73744e616d65223a226865705f444556454c4f50227d/groups/icecube/qgf305/workspace/analyses/multi_classification_on_stop_and_track_muons/plotting/distributions/PIDofPrediction2D.ipynb#X14sdnNjb2RlLXJlbW90ZQ%3D%3D?line=0'>1</a>\u001b[0m sns\u001b[39m.\u001b[39;49mdistplot(a\u001b[39m.\u001b[39;49mpid_noise_pred)\n",
      "File \u001b[0;32m~/anaconda3/envs/graphnet/lib/python3.8/site-packages/seaborn/distributions.py:2458\u001b[0m, in \u001b[0;36mdistplot\u001b[0;34m(a, bins, hist, kde, rug, fit, hist_kws, kde_kws, rug_kws, fit_kws, color, vertical, norm_hist, axlabel, label, ax, x)\u001b[0m\n\u001b[1;32m   2455\u001b[0m     a \u001b[39m=\u001b[39m x\n\u001b[1;32m   2457\u001b[0m \u001b[39m# Make a a 1-d float array\u001b[39;00m\n\u001b[0;32m-> 2458\u001b[0m a \u001b[39m=\u001b[39m np\u001b[39m.\u001b[39;49masarray(a, \u001b[39mfloat\u001b[39;49m)\n\u001b[1;32m   2459\u001b[0m \u001b[39mif\u001b[39;00m a\u001b[39m.\u001b[39mndim \u001b[39m>\u001b[39m \u001b[39m1\u001b[39m:\n\u001b[1;32m   2460\u001b[0m     a \u001b[39m=\u001b[39m a\u001b[39m.\u001b[39msqueeze()\n",
      "File \u001b[0;32m~/anaconda3/envs/graphnet/lib/python3.8/site-packages/pandas/core/series.py:893\u001b[0m, in \u001b[0;36mSeries.__array__\u001b[0;34m(self, dtype)\u001b[0m\n\u001b[1;32m    846\u001b[0m \u001b[39mdef\u001b[39;00m \u001b[39m__array__\u001b[39m(\u001b[39mself\u001b[39m, dtype: npt\u001b[39m.\u001b[39mDTypeLike \u001b[39m|\u001b[39m \u001b[39mNone\u001b[39;00m \u001b[39m=\u001b[39m \u001b[39mNone\u001b[39;00m) \u001b[39m-\u001b[39m\u001b[39m>\u001b[39m np\u001b[39m.\u001b[39mndarray:\n\u001b[1;32m    847\u001b[0m     \u001b[39m\"\"\"\u001b[39;00m\n\u001b[1;32m    848\u001b[0m \u001b[39m    Return the values as a NumPy array.\u001b[39;00m\n\u001b[1;32m    849\u001b[0m \n\u001b[0;32m   (...)\u001b[0m\n\u001b[1;32m    891\u001b[0m \u001b[39m          dtype='datetime64[ns]')\u001b[39;00m\n\u001b[1;32m    892\u001b[0m \u001b[39m    \"\"\"\u001b[39;00m\n\u001b[0;32m--> 893\u001b[0m     \u001b[39mreturn\u001b[39;00m np\u001b[39m.\u001b[39;49masarray(\u001b[39mself\u001b[39;49m\u001b[39m.\u001b[39;49m_values, dtype)\n",
      "\u001b[0;31mValueError\u001b[0m: setting an array element with a sequence."
     ]
    },
    {
     "data": {
      "image/png": "[encoded data removed]",
      "text/plain": [
       "<Figure size 640x480 with 1 Axes>"
      ]
     },
     "metadata": {},
     "output_type": "display_data"
    }
   ],
   "source": []
  },
  {
   "cell_type": "code",
   "execution_count": 72,
   "metadata": {},
   "outputs": [
    {
     "name": "stderr",
     "output_type": "stream",
     "text": [
      "/groups/icecube/qgf305/anaconda3/envs/graphnet/lib/python3.8/site-packages/pandas/core/arraylike.py:402: RuntimeWarning: divide by zero encountered in log10\n",
      "  result = getattr(ufunc, method)(*inputs, **kwargs)\n",
      "/groups/icecube/qgf305/anaconda3/envs/graphnet/lib/python3.8/site-packages/pandas/core/arraylike.py:402: RuntimeWarning: divide by zero encountered in log10\n",
      "  result = getattr(ufunc, method)(*inputs, **kwargs)\n"
     ]
    },
    {
     "ename": "ValueError",
     "evalue": "autodetected range of [-inf, 0.0] is not finite",
     "output_type": "error",
     "traceback": [
      "\u001b[0;31m---------------------------------------------------------------------------\u001b[0m",
      "\u001b[0;31mValueError\u001b[0m                                Traceback (most recent call last)",
      "\u001b[1;32m/groups/icecube/qgf305/workspace/analyses/multi_classification_on_stop_and_track_muons/plotting/distributions/PIDofPrediction2D.ipynb Cell 5\u001b[0m in \u001b[0;36m<cell line: 1>\u001b[0;34m()\u001b[0m\n\u001b[0;32m----> <a href='vscode-notebook-cell://ssh-remote%2B7b22686f73744e616d65223a226865705f444556454c4f50227d/groups/icecube/qgf305/workspace/analyses/multi_classification_on_stop_and_track_muons/plotting/distributions/PIDofPrediction2D.ipynb#X11sdnNjb2RlLXJlbW90ZQ%3D%3D?line=0'>1</a>\u001b[0m sns\u001b[39m.\u001b[39;49mhistplot(\n\u001b[1;32m      <a href='vscode-notebook-cell://ssh-remote%2B7b22686f73744e616d65223a226865705f444556454c4f50227d/groups/icecube/qgf305/workspace/analyses/multi_classification_on_stop_and_track_muons/plotting/distributions/PIDofPrediction2D.ipynb#X11sdnNjb2RlLXJlbW90ZQ%3D%3D?line=1'>2</a>\u001b[0m     feature_data, x\u001b[39m=\u001b[39;49m\u001b[39m\"\u001b[39;49m\u001b[39mpid_noise_pred\u001b[39;49m\u001b[39m\"\u001b[39;49m, y\u001b[39m=\u001b[39;49m\u001b[39m\"\u001b[39;49m\u001b[39mpid_muon_pred\u001b[39;49m\u001b[39m\"\u001b[39;49m, hue\u001b[39m=\u001b[39;49m\u001b[39m\"\u001b[39;49m\u001b[39mpid\u001b[39;49m\u001b[39m\"\u001b[39;49m,\n\u001b[1;32m      <a href='vscode-notebook-cell://ssh-remote%2B7b22686f73744e616d65223a226865705f444556454c4f50227d/groups/icecube/qgf305/workspace/analyses/multi_classification_on_stop_and_track_muons/plotting/distributions/PIDofPrediction2D.ipynb#X11sdnNjb2RlLXJlbW90ZQ%3D%3D?line=2'>3</a>\u001b[0m     bins\u001b[39m=\u001b[39;49m\u001b[39m50\u001b[39;49m, cbar\u001b[39m=\u001b[39;49m\u001b[39mTrue\u001b[39;49;00m, log_scale\u001b[39m=\u001b[39;49m\u001b[39mTrue\u001b[39;49;00m\n\u001b[1;32m      <a href='vscode-notebook-cell://ssh-remote%2B7b22686f73744e616d65223a226865705f444556454c4f50227d/groups/icecube/qgf305/workspace/analyses/multi_classification_on_stop_and_track_muons/plotting/distributions/PIDofPrediction2D.ipynb#X11sdnNjb2RlLXJlbW90ZQ%3D%3D?line=3'>4</a>\u001b[0m )\n",
      "File \u001b[0;32m~/anaconda3/envs/graphnet/lib/python3.8/site-packages/seaborn/distributions.py:1450\u001b[0m, in \u001b[0;36mhistplot\u001b[0;34m(data, x, y, hue, weights, stat, bins, binwidth, binrange, discrete, cumulative, common_bins, common_norm, multiple, element, fill, shrink, kde, kde_kws, line_kws, thresh, pthresh, pmax, cbar, cbar_ax, cbar_kws, palette, hue_order, hue_norm, color, log_scale, legend, ax, **kwargs)\u001b[0m\n\u001b[1;32m   1432\u001b[0m     p\u001b[39m.\u001b[39mplot_univariate_histogram(\n\u001b[1;32m   1433\u001b[0m         multiple\u001b[39m=\u001b[39mmultiple,\n\u001b[1;32m   1434\u001b[0m         element\u001b[39m=\u001b[39melement,\n\u001b[0;32m   (...)\u001b[0m\n\u001b[1;32m   1445\u001b[0m         \u001b[39m*\u001b[39m\u001b[39m*\u001b[39mkwargs,\n\u001b[1;32m   1446\u001b[0m     )\n\u001b[1;32m   1448\u001b[0m \u001b[39melse\u001b[39;00m:\n\u001b[0;32m-> 1450\u001b[0m     p\u001b[39m.\u001b[39;49mplot_bivariate_histogram(\n\u001b[1;32m   1451\u001b[0m         common_bins\u001b[39m=\u001b[39;49mcommon_bins,\n\u001b[1;32m   1452\u001b[0m         common_norm\u001b[39m=\u001b[39;49mcommon_norm,\n\u001b[1;32m   1453\u001b[0m         thresh\u001b[39m=\u001b[39;49mthresh,\n\u001b[1;32m   1454\u001b[0m         pthresh\u001b[39m=\u001b[39;49mpthresh,\n\u001b[1;32m   1455\u001b[0m         pmax\u001b[39m=\u001b[39;49mpmax,\n\u001b[1;32m   1456\u001b[0m         color\u001b[39m=\u001b[39;49mcolor,\n\u001b[1;32m   1457\u001b[0m         legend\u001b[39m=\u001b[39;49mlegend,\n\u001b[1;32m   1458\u001b[0m         cbar\u001b[39m=\u001b[39;49mcbar,\n\u001b[1;32m   1459\u001b[0m         cbar_ax\u001b[39m=\u001b[39;49mcbar_ax,\n\u001b[1;32m   1460\u001b[0m         cbar_kws\u001b[39m=\u001b[39;49mcbar_kws,\n\u001b[1;32m   1461\u001b[0m         estimate_kws\u001b[39m=\u001b[39;49mestimate_kws,\n\u001b[1;32m   1462\u001b[0m         \u001b[39m*\u001b[39;49m\u001b[39m*\u001b[39;49mkwargs,\n\u001b[1;32m   1463\u001b[0m     )\n\u001b[1;32m   1465\u001b[0m \u001b[39mreturn\u001b[39;00m ax\n",
      "File \u001b[0;32m~/anaconda3/envs/graphnet/lib/python3.8/site-packages/seaborn/distributions.py:764\u001b[0m, in \u001b[0;36m_DistributionPlotter.plot_bivariate_histogram\u001b[0;34m(self, common_bins, common_norm, thresh, pthresh, pmax, color, legend, cbar, cbar_ax, cbar_kws, estimate_kws, **plot_kws)\u001b[0m\n\u001b[1;32m    762\u001b[0m     all_data \u001b[39m=\u001b[39m \u001b[39mself\u001b[39m\u001b[39m.\u001b[39mcomp_data\u001b[39m.\u001b[39mdropna()\n\u001b[1;32m    763\u001b[0m     \u001b[39mif\u001b[39;00m common_bins:\n\u001b[0;32m--> 764\u001b[0m         estimator\u001b[39m.\u001b[39;49mdefine_bin_params(\n\u001b[1;32m    765\u001b[0m             all_data[\u001b[39m\"\u001b[39;49m\u001b[39mx\u001b[39;49m\u001b[39m\"\u001b[39;49m],\n\u001b[1;32m    766\u001b[0m             all_data[\u001b[39m\"\u001b[39;49m\u001b[39my\u001b[39;49m\u001b[39m\"\u001b[39;49m],\n\u001b[1;32m    767\u001b[0m             all_data\u001b[39m.\u001b[39;49mget(\u001b[39m\"\u001b[39;49m\u001b[39mweights\u001b[39;49m\u001b[39m\"\u001b[39;49m, \u001b[39mNone\u001b[39;49;00m),\n\u001b[1;32m    768\u001b[0m         )\n\u001b[1;32m    769\u001b[0m \u001b[39melse\u001b[39;00m:\n\u001b[1;32m    770\u001b[0m     common_norm \u001b[39m=\u001b[39m \u001b[39mFalse\u001b[39;00m\n",
      "File \u001b[0;32m~/anaconda3/envs/graphnet/lib/python3.8/site-packages/seaborn/_statistics.py:324\u001b[0m, in \u001b[0;36mHistogram.define_bin_params\u001b[0;34m(self, x1, x2, weights, cache)\u001b[0m\n\u001b[1;32m    320\u001b[0m             discrete \u001b[39m=\u001b[39m discrete[i]\n\u001b[1;32m    322\u001b[0m         \u001b[39m# Define the bins for this variable\u001b[39;00m\n\u001b[0;32m--> 324\u001b[0m         bin_edges\u001b[39m.\u001b[39mappend(\u001b[39mself\u001b[39;49m\u001b[39m.\u001b[39;49m_define_bin_edges(\n\u001b[1;32m    325\u001b[0m             x, weights, bins, binwidth, binrange, discrete,\n\u001b[1;32m    326\u001b[0m         ))\n\u001b[1;32m    328\u001b[0m     bin_kws \u001b[39m=\u001b[39m \u001b[39mdict\u001b[39m(bins\u001b[39m=\u001b[39m\u001b[39mtuple\u001b[39m(bin_edges))\n\u001b[1;32m    330\u001b[0m \u001b[39mif\u001b[39;00m cache:\n",
      "File \u001b[0;32m~/anaconda3/envs/graphnet/lib/python3.8/site-packages/seaborn/_statistics.py:270\u001b[0m, in \u001b[0;36mHistogram._define_bin_edges\u001b[0;34m(self, x, weights, bins, binwidth, binrange, discrete)\u001b[0m\n\u001b[1;32m    268\u001b[0m         bin_edges \u001b[39m=\u001b[39m np\u001b[39m.\u001b[39mappend(bin_edges, bin_edges\u001b[39m.\u001b[39mmax() \u001b[39m+\u001b[39m step)\n\u001b[1;32m    269\u001b[0m \u001b[39melse\u001b[39;00m:\n\u001b[0;32m--> 270\u001b[0m     bin_edges \u001b[39m=\u001b[39m np\u001b[39m.\u001b[39;49mhistogram_bin_edges(\n\u001b[1;32m    271\u001b[0m         x, bins, binrange, weights,\n\u001b[1;32m    272\u001b[0m     )\n\u001b[1;32m    273\u001b[0m \u001b[39mreturn\u001b[39;00m bin_edges\n",
      "File \u001b[0;32m<__array_function__ internals>:180\u001b[0m, in \u001b[0;36mhistogram_bin_edges\u001b[0;34m(*args, **kwargs)\u001b[0m\n",
      "File \u001b[0;32m~/anaconda3/envs/graphnet/lib/python3.8/site-packages/numpy/lib/histograms.py:669\u001b[0m, in \u001b[0;36mhistogram_bin_edges\u001b[0;34m(a, bins, range, weights)\u001b[0m\n\u001b[1;32m    472\u001b[0m \u001b[39mr\u001b[39m\u001b[39m\"\"\"\u001b[39;00m\n\u001b[1;32m    473\u001b[0m \u001b[39mFunction to calculate only the edges of the bins used by the `histogram`\u001b[39;00m\n\u001b[1;32m    474\u001b[0m \u001b[39mfunction.\u001b[39;00m\n\u001b[0;32m   (...)\u001b[0m\n\u001b[1;32m    666\u001b[0m \n\u001b[1;32m    667\u001b[0m \u001b[39m\"\"\"\u001b[39;00m\n\u001b[1;32m    668\u001b[0m a, weights \u001b[39m=\u001b[39m _ravel_and_check_weights(a, weights)\n\u001b[0;32m--> 669\u001b[0m bin_edges, _ \u001b[39m=\u001b[39m _get_bin_edges(a, bins, \u001b[39mrange\u001b[39;49m, weights)\n\u001b[1;32m    670\u001b[0m \u001b[39mreturn\u001b[39;00m bin_edges\n",
      "File \u001b[0;32m~/anaconda3/envs/graphnet/lib/python3.8/site-packages/numpy/lib/histograms.py:426\u001b[0m, in \u001b[0;36m_get_bin_edges\u001b[0;34m(a, bins, range, weights)\u001b[0m\n\u001b[1;32m    423\u001b[0m     \u001b[39mif\u001b[39;00m n_equal_bins \u001b[39m<\u001b[39m \u001b[39m1\u001b[39m:\n\u001b[1;32m    424\u001b[0m         \u001b[39mraise\u001b[39;00m \u001b[39mValueError\u001b[39;00m(\u001b[39m'\u001b[39m\u001b[39m`bins` must be positive, when an integer\u001b[39m\u001b[39m'\u001b[39m)\n\u001b[0;32m--> 426\u001b[0m     first_edge, last_edge \u001b[39m=\u001b[39m _get_outer_edges(a, \u001b[39mrange\u001b[39;49m)\n\u001b[1;32m    428\u001b[0m \u001b[39melif\u001b[39;00m np\u001b[39m.\u001b[39mndim(bins) \u001b[39m==\u001b[39m \u001b[39m1\u001b[39m:\n\u001b[1;32m    429\u001b[0m     bin_edges \u001b[39m=\u001b[39m np\u001b[39m.\u001b[39masarray(bins)\n",
      "File \u001b[0;32m~/anaconda3/envs/graphnet/lib/python3.8/site-packages/numpy/lib/histograms.py:323\u001b[0m, in \u001b[0;36m_get_outer_edges\u001b[0;34m(a, range)\u001b[0m\n\u001b[1;32m    321\u001b[0m     first_edge, last_edge \u001b[39m=\u001b[39m a\u001b[39m.\u001b[39mmin(), a\u001b[39m.\u001b[39mmax()\n\u001b[1;32m    322\u001b[0m     \u001b[39mif\u001b[39;00m \u001b[39mnot\u001b[39;00m (np\u001b[39m.\u001b[39misfinite(first_edge) \u001b[39mand\u001b[39;00m np\u001b[39m.\u001b[39misfinite(last_edge)):\n\u001b[0;32m--> 323\u001b[0m         \u001b[39mraise\u001b[39;00m \u001b[39mValueError\u001b[39;00m(\n\u001b[1;32m    324\u001b[0m             \u001b[39m\"\u001b[39m\u001b[39mautodetected range of [\u001b[39m\u001b[39m{}\u001b[39;00m\u001b[39m, \u001b[39m\u001b[39m{}\u001b[39;00m\u001b[39m] is not finite\u001b[39m\u001b[39m\"\u001b[39m\u001b[39m.\u001b[39mformat(first_edge, last_edge))\n\u001b[1;32m    326\u001b[0m \u001b[39m# expand empty range to avoid divide by zero\u001b[39;00m\n\u001b[1;32m    327\u001b[0m \u001b[39mif\u001b[39;00m first_edge \u001b[39m==\u001b[39m last_edge:\n",
      "\u001b[0;31mValueError\u001b[0m: autodetected range of [-inf, 0.0] is not finite"
     ]
    },
    {
     "data": {
      "image/png": "[encoded data removed]",
      "text/plain": [
       "<Figure size 640x480 with 1 Axes>"
      ]
     },
     "metadata": {},
     "output_type": "display_data"
    }
   ],
   "source": [
    "\n",
    "sns.histplot(\n",
    "    feature_data, x=\"pid_noise_pred\", y=\"pid_muon_pred\", hue=\"pid\",\n",
    "    bins=50, cbar=True, log_scale=True\n",
    ")"
   ]
  },
  {
   "cell_type": "code",
   "execution_count": 8,
   "metadata": {},
   "outputs": [
    {
     "ename": "ValueError",
     "evalue": "x and y must have the same length.",
     "output_type": "error",
     "traceback": [
      "\u001b[0;31m---------------------------------------------------------------------------\u001b[0m",
      "\u001b[0;31mValueError\u001b[0m                                Traceback (most recent call last)",
      "\u001b[1;32m/groups/icecube/qgf305/workspace/analyses/multi_classification_on_stop_and_track_muons/plotting/distributions/PIDofPrediction2D.ipynb Cell 5\u001b[0m in \u001b[0;36m<cell line: 4>\u001b[0;34m()\u001b[0m\n\u001b[1;32m     <a href='vscode-notebook-cell://ssh-remote%2B7b22686f73744e616d65223a226865705f444556454c4f50227d/groups/icecube/qgf305/workspace/analyses/multi_classification_on_stop_and_track_muons/plotting/distributions/PIDofPrediction2D.ipynb#W5sdnNjb2RlLXJlbW90ZQ%3D%3D?line=11'>12</a>\u001b[0m \u001b[39mfor\u001b[39;00m i, pid \u001b[39min\u001b[39;00m \u001b[39menumerate\u001b[39m(pids):\n\u001b[1;32m     <a href='vscode-notebook-cell://ssh-remote%2B7b22686f73744e616d65223a226865705f444556454c4f50227d/groups/icecube/qgf305/workspace/analyses/multi_classification_on_stop_and_track_muons/plotting/distributions/PIDofPrediction2D.ipynb#W5sdnNjb2RlLXJlbW90ZQ%3D%3D?line=12'>13</a>\u001b[0m     pid_list\u001b[39m.\u001b[39mappend(feature_data[pred]\u001b[39m.\u001b[39mloc[feature_data[\u001b[39m\"\u001b[39m\u001b[39mpid\u001b[39m\u001b[39m\"\u001b[39m]\u001b[39m==\u001b[39mpid])\n\u001b[0;32m---> <a href='vscode-notebook-cell://ssh-remote%2B7b22686f73744e616d65223a226865705f444556454c4f50227d/groups/icecube/qgf305/workspace/analyses/multi_classification_on_stop_and_track_muons/plotting/distributions/PIDofPrediction2D.ipynb#W5sdnNjb2RlLXJlbW90ZQ%3D%3D?line=14'>15</a>\u001b[0m plt\u001b[39m.\u001b[39;49mhist2d(pid_list[\u001b[39m0\u001b[39;49m],pid_list[\u001b[39m1\u001b[39;49m], bins\u001b[39m=\u001b[39;49m\u001b[39m50\u001b[39;49m, log\u001b[39m=\u001b[39;49m\u001b[39mTrue\u001b[39;49;00m)\n\u001b[1;32m     <a href='vscode-notebook-cell://ssh-remote%2B7b22686f73744e616d65223a226865705f444556454c4f50227d/groups/icecube/qgf305/workspace/analyses/multi_classification_on_stop_and_track_muons/plotting/distributions/PIDofPrediction2D.ipynb#W5sdnNjb2RlLXJlbW90ZQ%3D%3D?line=15'>16</a>\u001b[0m plt\u001b[39m.\u001b[39mtitle(pred\u001b[39m.\u001b[39mreplace(\u001b[39m\"\u001b[39m\u001b[39m_\u001b[39m\u001b[39m\"\u001b[39m,\u001b[39m\"\u001b[39m\u001b[39m \u001b[39m\u001b[39m\"\u001b[39m)[\u001b[39m4\u001b[39m:])\n\u001b[1;32m     <a href='vscode-notebook-cell://ssh-remote%2B7b22686f73744e616d65223a226865705f444556454c4f50227d/groups/icecube/qgf305/workspace/analyses/multi_classification_on_stop_and_track_muons/plotting/distributions/PIDofPrediction2D.ipynb#W5sdnNjb2RlLXJlbW90ZQ%3D%3D?line=16'>17</a>\u001b[0m plt\u001b[39m.\u001b[39mlegend()\n",
      "File \u001b[0;32m~/anaconda3/envs/graphnet/lib/python3.8/site-packages/matplotlib/pyplot.py:2587\u001b[0m, in \u001b[0;36mhist2d\u001b[0;34m(x, y, bins, range, density, weights, cmin, cmax, data, **kwargs)\u001b[0m\n\u001b[1;32m   2583\u001b[0m \u001b[39m@_copy_docstring_and_deprecators\u001b[39m(Axes\u001b[39m.\u001b[39mhist2d)\n\u001b[1;32m   2584\u001b[0m \u001b[39mdef\u001b[39;00m \u001b[39mhist2d\u001b[39m(\n\u001b[1;32m   2585\u001b[0m         x, y, bins\u001b[39m=\u001b[39m\u001b[39m10\u001b[39m, \u001b[39mrange\u001b[39m\u001b[39m=\u001b[39m\u001b[39mNone\u001b[39;00m, density\u001b[39m=\u001b[39m\u001b[39mFalse\u001b[39;00m, weights\u001b[39m=\u001b[39m\u001b[39mNone\u001b[39;00m,\n\u001b[1;32m   2586\u001b[0m         cmin\u001b[39m=\u001b[39m\u001b[39mNone\u001b[39;00m, cmax\u001b[39m=\u001b[39m\u001b[39mNone\u001b[39;00m, \u001b[39m*\u001b[39m, data\u001b[39m=\u001b[39m\u001b[39mNone\u001b[39;00m, \u001b[39m*\u001b[39m\u001b[39m*\u001b[39mkwargs):\n\u001b[0;32m-> 2587\u001b[0m     __ret \u001b[39m=\u001b[39m gca()\u001b[39m.\u001b[39;49mhist2d(\n\u001b[1;32m   2588\u001b[0m         x, y, bins\u001b[39m=\u001b[39;49mbins, \u001b[39mrange\u001b[39;49m\u001b[39m=\u001b[39;49m\u001b[39mrange\u001b[39;49m, density\u001b[39m=\u001b[39;49mdensity,\n\u001b[1;32m   2589\u001b[0m         weights\u001b[39m=\u001b[39;49mweights, cmin\u001b[39m=\u001b[39;49mcmin, cmax\u001b[39m=\u001b[39;49mcmax,\n\u001b[1;32m   2590\u001b[0m         \u001b[39m*\u001b[39;49m\u001b[39m*\u001b[39;49m({\u001b[39m\"\u001b[39;49m\u001b[39mdata\u001b[39;49m\u001b[39m\"\u001b[39;49m: data} \u001b[39mif\u001b[39;49;00m data \u001b[39mis\u001b[39;49;00m \u001b[39mnot\u001b[39;49;00m \u001b[39mNone\u001b[39;49;00m \u001b[39melse\u001b[39;49;00m {}), \u001b[39m*\u001b[39;49m\u001b[39m*\u001b[39;49mkwargs)\n\u001b[1;32m   2591\u001b[0m     sci(__ret[\u001b[39m-\u001b[39m\u001b[39m1\u001b[39m])\n\u001b[1;32m   2592\u001b[0m     \u001b[39mreturn\u001b[39;00m __ret\n",
      "File \u001b[0;32m~/anaconda3/envs/graphnet/lib/python3.8/site-packages/matplotlib/__init__.py:1423\u001b[0m, in \u001b[0;36m_preprocess_data.<locals>.inner\u001b[0;34m(ax, data, *args, **kwargs)\u001b[0m\n\u001b[1;32m   1420\u001b[0m \u001b[39m@functools\u001b[39m\u001b[39m.\u001b[39mwraps(func)\n\u001b[1;32m   1421\u001b[0m \u001b[39mdef\u001b[39;00m \u001b[39minner\u001b[39m(ax, \u001b[39m*\u001b[39margs, data\u001b[39m=\u001b[39m\u001b[39mNone\u001b[39;00m, \u001b[39m*\u001b[39m\u001b[39m*\u001b[39mkwargs):\n\u001b[1;32m   1422\u001b[0m     \u001b[39mif\u001b[39;00m data \u001b[39mis\u001b[39;00m \u001b[39mNone\u001b[39;00m:\n\u001b[0;32m-> 1423\u001b[0m         \u001b[39mreturn\u001b[39;00m func(ax, \u001b[39m*\u001b[39;49m\u001b[39mmap\u001b[39;49m(sanitize_sequence, args), \u001b[39m*\u001b[39;49m\u001b[39m*\u001b[39;49mkwargs)\n\u001b[1;32m   1425\u001b[0m     bound \u001b[39m=\u001b[39m new_sig\u001b[39m.\u001b[39mbind(ax, \u001b[39m*\u001b[39margs, \u001b[39m*\u001b[39m\u001b[39m*\u001b[39mkwargs)\n\u001b[1;32m   1426\u001b[0m     auto_label \u001b[39m=\u001b[39m (bound\u001b[39m.\u001b[39marguments\u001b[39m.\u001b[39mget(label_namer)\n\u001b[1;32m   1427\u001b[0m                   \u001b[39mor\u001b[39;00m bound\u001b[39m.\u001b[39mkwargs\u001b[39m.\u001b[39mget(label_namer))\n",
      "File \u001b[0;32m~/anaconda3/envs/graphnet/lib/python3.8/site-packages/matplotlib/axes/_axes.py:7044\u001b[0m, in \u001b[0;36mAxes.hist2d\u001b[0;34m(self, x, y, bins, range, density, weights, cmin, cmax, **kwargs)\u001b[0m\n\u001b[1;32m   6951\u001b[0m \u001b[39m@_preprocess_data\u001b[39m(replace_names\u001b[39m=\u001b[39m[\u001b[39m\"\u001b[39m\u001b[39mx\u001b[39m\u001b[39m\"\u001b[39m, \u001b[39m\"\u001b[39m\u001b[39my\u001b[39m\u001b[39m\"\u001b[39m, \u001b[39m\"\u001b[39m\u001b[39mweights\u001b[39m\u001b[39m\"\u001b[39m])\n\u001b[1;32m   6952\u001b[0m \u001b[39m@_docstring\u001b[39m\u001b[39m.\u001b[39mdedent_interpd\n\u001b[1;32m   6953\u001b[0m \u001b[39mdef\u001b[39;00m \u001b[39mhist2d\u001b[39m(\u001b[39mself\u001b[39m, x, y, bins\u001b[39m=\u001b[39m\u001b[39m10\u001b[39m, \u001b[39mrange\u001b[39m\u001b[39m=\u001b[39m\u001b[39mNone\u001b[39;00m, density\u001b[39m=\u001b[39m\u001b[39mFalse\u001b[39;00m, weights\u001b[39m=\u001b[39m\u001b[39mNone\u001b[39;00m,\n\u001b[1;32m   6954\u001b[0m            cmin\u001b[39m=\u001b[39m\u001b[39mNone\u001b[39;00m, cmax\u001b[39m=\u001b[39m\u001b[39mNone\u001b[39;00m, \u001b[39m*\u001b[39m\u001b[39m*\u001b[39mkwargs):\n\u001b[1;32m   6955\u001b[0m     \u001b[39m\"\"\"\u001b[39;00m\n\u001b[1;32m   6956\u001b[0m \u001b[39m    Make a 2D histogram plot.\u001b[39;00m\n\u001b[1;32m   6957\u001b[0m \n\u001b[0;32m   (...)\u001b[0m\n\u001b[1;32m   7041\u001b[0m \u001b[39m      `.colors.PowerNorm`.\u001b[39;00m\n\u001b[1;32m   7042\u001b[0m \u001b[39m    \"\"\"\u001b[39;00m\n\u001b[0;32m-> 7044\u001b[0m     h, xedges, yedges \u001b[39m=\u001b[39m np\u001b[39m.\u001b[39;49mhistogram2d(x, y, bins\u001b[39m=\u001b[39;49mbins, \u001b[39mrange\u001b[39;49m\u001b[39m=\u001b[39;49m\u001b[39mrange\u001b[39;49m,\n\u001b[1;32m   7045\u001b[0m                                        density\u001b[39m=\u001b[39;49mdensity, weights\u001b[39m=\u001b[39;49mweights)\n\u001b[1;32m   7047\u001b[0m     \u001b[39mif\u001b[39;00m cmin \u001b[39mis\u001b[39;00m \u001b[39mnot\u001b[39;00m \u001b[39mNone\u001b[39;00m:\n\u001b[1;32m   7048\u001b[0m         h[h \u001b[39m<\u001b[39m cmin] \u001b[39m=\u001b[39m \u001b[39mNone\u001b[39;00m\n",
      "File \u001b[0;32m<__array_function__ internals>:180\u001b[0m, in \u001b[0;36mhistogram2d\u001b[0;34m(*args, **kwargs)\u001b[0m\n",
      "File \u001b[0;32m~/anaconda3/envs/graphnet/lib/python3.8/site-packages/numpy/lib/twodim_base.py:815\u001b[0m, in \u001b[0;36mhistogram2d\u001b[0;34m(x, y, bins, range, normed, weights, density)\u001b[0m\n\u001b[1;32m    812\u001b[0m \u001b[39mfrom\u001b[39;00m \u001b[39mnumpy\u001b[39;00m \u001b[39mimport\u001b[39;00m histogramdd\n\u001b[1;32m    814\u001b[0m \u001b[39mif\u001b[39;00m \u001b[39mlen\u001b[39m(x) \u001b[39m!=\u001b[39m \u001b[39mlen\u001b[39m(y):\n\u001b[0;32m--> 815\u001b[0m     \u001b[39mraise\u001b[39;00m \u001b[39mValueError\u001b[39;00m(\u001b[39m'\u001b[39m\u001b[39mx and y must have the same length.\u001b[39m\u001b[39m'\u001b[39m)\n\u001b[1;32m    817\u001b[0m \u001b[39mtry\u001b[39;00m:\n\u001b[1;32m    818\u001b[0m     N \u001b[39m=\u001b[39m \u001b[39mlen\u001b[39m(bins)\n",
      "\u001b[0;31mValueError\u001b[0m: x and y must have the same length."
     ]
    },
    {
     "data": {
      "image/png": "[encoded data removed]",
      "text/plain": [
       "<Figure size 2000x1000 with 1 Axes>"
      ]
     },
     "metadata": {},
     "output_type": "display_data"
    }
   ],
   "source": [
    "preds = [\"pid_noise_pred\",\"pid_muon_pred\",\"pid_neutrino_pred\"]\n",
    "pids = [1,12,13]\n",
    "color=[\"b\",\"y\",\"g\"]\n",
    "for i, pred in enumerate(preds):\n",
    "    pid_list=[]\n",
    "    pid_histlist=[]\n",
    "    pid_bin_centers=[]\n",
    "    \n",
    "    plt.figure(figsize=(20,10))\n",
    "\n",
    "    temp = 0\n",
    "    for i, pid in enumerate(pids):\n",
    "        pid_list.append(feature_data[pred].loc[feature_data[\"pid\"]==pid])\n",
    "    \n",
    "    plt.hist2d(pid_list[0],pid_list[1], bins=50, log=True)\n",
    "    plt.title(pred.replace(\"_\",\" \")[4:])\n",
    "    plt.legend()\n",
    "    plt.yscale(\"log\")\n",
    "    plt.savefig(\"/groups/icecube/qgf305/workspace/analyses/multi_classification_on_stop_and_track_muons/plotting/distributions/test_plot/\"+pred.replace(\"_\",\"\")[3:-4]+\"2D.png\")"
   ]
  },
  {
   "cell_type": "code",
   "execution_count": null,
   "metadata": {},
   "outputs": [],
   "source": []
  }
 ],
 "metadata": {
  "kernelspec": {
   "display_name": "Python 3.8.13 ('graphnet')",
   "language": "python",
   "name": "python3"
  },
  "language_info": {
   "codemirror_mode": {
    "name": "ipython",
    "version": 3
   },
   "file_extension": ".py",
   "mimetype": "text/x-python",
   "name": "python",
   "nbconvert_exporter": "python",
   "pygments_lexer": "ipython3",
   "version": "3.8.13"
  },
  "orig_nbformat": 4,
  "vscode": {
   "interpreter": {
    "hash": "e54c104f54ca5f79eede1c2e02355cc39841da57601eff628eedcebaaa867660"
   }
  }
 },
 "nbformat": 4,
 "nbformat_minor": 2
}
