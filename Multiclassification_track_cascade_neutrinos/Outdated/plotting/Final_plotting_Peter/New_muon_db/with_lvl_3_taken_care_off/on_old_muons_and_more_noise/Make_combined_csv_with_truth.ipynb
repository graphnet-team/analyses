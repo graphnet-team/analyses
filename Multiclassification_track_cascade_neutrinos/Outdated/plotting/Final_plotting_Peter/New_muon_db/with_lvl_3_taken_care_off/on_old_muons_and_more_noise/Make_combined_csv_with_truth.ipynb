{
 "cells": [
  {
   "cell_type": "code",
   "execution_count": 1,
   "metadata": {},
   "outputs": [],
   "source": [
    "import sqlite3 as sql\n",
    "\n",
    "import numpy as np\n",
    "import pandas as pd\n",
    "from pandas import cut, read_sql\n",
    "import pickle as pkl\n",
    "from random import choices\n",
    "from sklearn import metrics\n",
    "import matplotlib.pyplot as plt\n",
    "import matplotlib.colors as colors\n",
    "import scipy.optimize as optimize\n",
    "from standard_plotting import set_size"
   ]
  },
  {
   "cell_type": "code",
   "execution_count": 2,
   "metadata": {},
   "outputs": [],
   "source": [
    "\n",
    "# indir_track_cascade_MC = \"/groups/icecube/petersen/GraphNetDatabaseRepository/multi_classification_track_cascade_neutrino/using_new_muons_Peter_database/inference/old_morten_peter_db/track_mu_Track_cascade_whole_MP_db.csv\"\n",
    "# indir_energy_MC = \"/groups/icecube/petersen/GraphNetDatabaseRepository/multi_classification_track_cascade_neutrino/using_new_muons_Peter_database/inference/old_morten_peter_db/energy_Energy_Whole_MP.csv\"\n",
    "# indir_zenith_MC = \"/groups/icecube/petersen/GraphNetDatabaseRepository/multi_classification_track_cascade_neutrino/using_new_muons_Peter_database/inference/old_morten_peter_db/zenith_Zenith_Whole_MP.csv\"\n",
    "# indir_azimuth_MC = \"/groups/icecube/petersen/GraphNetDatabaseRepository/multi_classification_track_cascade_neutrino/using_new_muons_Peter_database/inference/old_morten_peter_db/azimuth_Azimuth_Whole_MP.csv\"\n",
    "# indir_multiclass_MC = \"/groups/icecube/petersen/GraphNetDatabaseRepository/multi_classification_track_cascade_neutrino/using_new_muons_Peter_database/inference/old_morten_peter_db/pid_Multiclass_try_2_on_old_db_trained_on_new_muons.csv\"\n",
    "# indir_position_MC = \"/groups/icecube/petersen/GraphNetDatabaseRepository/multi_classification_track_cascade_neutrino/using_new_muons_Peter_database/inference/old_morten_peter_db/['position_x', 'position_y', 'position_z']_Position_Whole_MP.csv\"\n",
    "# indir_osc_weight_and_lvl3_bool_MC = \"/groups/icecube/petersen/GraphNetDatabaseRepository/multi_classification_track_cascade_neutrino/using_new_muons_Peter_database/inference/old_morten_peter_db/Osc_weight_and_lvl3_bool.csv\"\n",
    "indir_MC = \"/groups/icecube/petersen/GraphNetDatabaseRepository/multi_classification_track_cascade_neutrino/using_new_muons_Peter_database/inference/track_cascade_sets/Old_muon_more_noise_Monte_Carlo_all_events_all_variables.csv\"\n"
   ]
  },
  {
   "cell_type": "code",
   "execution_count": 3,
   "metadata": {},
   "outputs": [],
   "source": [
    "# track_cascade_MC = pd.read_csv(indir_track_cascade_MC).sort_values('event_no').reset_index(drop = True)\n",
    "# energy_MC = pd.read_csv(indir_energy_MC).sort_values('event_no').reset_index(drop = True)\n",
    "# zenith_MC = pd.read_csv(indir_zenith_MC).sort_values('event_no').reset_index(drop = True)\n",
    "# azimuth_MC = pd.read_csv(indir_azimuth_MC).sort_values('event_no').reset_index(drop = True)\n",
    "# multiclass_MC = pd.read_csv(indir_multiclass_MC).sort_values('event_no').reset_index(drop = True)\n",
    "# position_MC = pd.read_csv(indir_position_MC).sort_values('event_no').reset_index(drop = True)\n",
    "# osc_weight_and_lvl3_bool_MC = pd.read_csv(indir_osc_weight_and_lvl3_bool_MC).sort_values('event_no').reset_index(drop = True)\n",
    "MC = pd.read_csv(indir_MC).sort_values('event_no').reset_index(drop = True)"
   ]
  },
  {
   "cell_type": "code",
   "execution_count": 4,
   "metadata": {},
   "outputs": [],
   "source": [
    "# indir_db_MC = \"/groups/icecube/petersen/GraphNetDatabaseRepository/osc_next_database_Peter_and_Morten/merged_database/osc_next_level3_v2.00_genie_muongun_noise_120000_140000_160000_130000_888003.db\"\n",
    "# with sql.connect(indir_db_MC) as con:\n",
    "#          query = f\"\"\"\n",
    "#          SELECT\n",
    "#              event_no, pid, interaction_type\n",
    "#          FROM \n",
    "#              truth\n",
    "#          \"\"\"\n",
    "#          MC_truth = read_sql(query,con)\n",
    "# MC_truth = MC_truth.sort_values('event_no').reset_index(drop = True)"
   ]
  },
  {
   "cell_type": "code",
   "execution_count": 5,
   "metadata": {},
   "outputs": [],
   "source": [
    "# track_mu = []\n",
    "# for i in range(len(MC_truth)):\n",
    "#     if (MC_truth['pid'][i] == -14 or MC_truth['pid'][i] == 14) and MC_truth['interaction_type'][i] == 1:\n",
    "#         track_mu.append(1)\n",
    "#     else:\n",
    "#         track_mu.append(0)"
   ]
  },
  {
   "cell_type": "code",
   "execution_count": 6,
   "metadata": {},
   "outputs": [],
   "source": [
    "# MC_truth['track_mu'] = np.array(track_mu)"
   ]
  },
  {
   "cell_type": "code",
   "execution_count": 8,
   "metadata": {},
   "outputs": [
    {
     "name": "stdout",
     "output_type": "stream",
     "text": [
      "(30796130, 27)\n",
      "(30796130, 30)\n"
     ]
    }
   ],
   "source": [
    "# print(np.shape(MC))\n",
    "# total_MC = pd.merge(MC.reset_index(drop=True),MC_truth.reset_index(drop=True),on='event_no',how='inner').reset_index(drop=True)\n",
    "# print(np.shape(total_MC))"
   ]
  },
  {
   "cell_type": "code",
   "execution_count": 9,
   "metadata": {},
   "outputs": [
    {
     "ename": "KeyError",
     "evalue": "'pid'",
     "output_type": "error",
     "traceback": [
      "\u001b[0;31m---------------------------------------------------------------------------\u001b[0m",
      "\u001b[0;31mKeyError\u001b[0m                                  Traceback (most recent call last)",
      "File \u001b[0;32m~/anaconda3/envs/graphnet/lib/python3.8/site-packages/pandas/core/indexes/base.py:3621\u001b[0m, in \u001b[0;36mIndex.get_loc\u001b[0;34m(self, key, method, tolerance)\u001b[0m\n\u001b[1;32m   3620\u001b[0m \u001b[39mtry\u001b[39;00m:\n\u001b[0;32m-> 3621\u001b[0m     \u001b[39mreturn\u001b[39;00m \u001b[39mself\u001b[39;49m\u001b[39m.\u001b[39;49m_engine\u001b[39m.\u001b[39;49mget_loc(casted_key)\n\u001b[1;32m   3622\u001b[0m \u001b[39mexcept\u001b[39;00m \u001b[39mKeyError\u001b[39;00m \u001b[39mas\u001b[39;00m err:\n",
      "File \u001b[0;32m~/anaconda3/envs/graphnet/lib/python3.8/site-packages/pandas/_libs/index.pyx:136\u001b[0m, in \u001b[0;36mpandas._libs.index.IndexEngine.get_loc\u001b[0;34m()\u001b[0m\n",
      "File \u001b[0;32m~/anaconda3/envs/graphnet/lib/python3.8/site-packages/pandas/_libs/index.pyx:163\u001b[0m, in \u001b[0;36mpandas._libs.index.IndexEngine.get_loc\u001b[0;34m()\u001b[0m\n",
      "File \u001b[0;32mpandas/_libs/hashtable_class_helper.pxi:5198\u001b[0m, in \u001b[0;36mpandas._libs.hashtable.PyObjectHashTable.get_item\u001b[0;34m()\u001b[0m\n",
      "File \u001b[0;32mpandas/_libs/hashtable_class_helper.pxi:5206\u001b[0m, in \u001b[0;36mpandas._libs.hashtable.PyObjectHashTable.get_item\u001b[0;34m()\u001b[0m\n",
      "\u001b[0;31mKeyError\u001b[0m: 'pid'",
      "\nThe above exception was the direct cause of the following exception:\n",
      "\u001b[0;31mKeyError\u001b[0m                                  Traceback (most recent call last)",
      "\u001b[1;32m/groups/icecube/peter/workspace/analyses/multi_classification_on_stop_and_track_muons/plotting/Final_plotting_Peter/New_muon_db/with_lvl_3_taken_care_off/on_old_muons_and_more_noise/Make_combined_csv_with_truth.ipynb Cell 8\u001b[0m in \u001b[0;36m1\n\u001b[0;32m----> <a href='vscode-notebook-cell://ssh-remote%2B7b22686f73744e616d65223a226865705f4350555f3032227d/groups/icecube/peter/workspace/analyses/multi_classification_on_stop_and_track_muons/plotting/Final_plotting_Peter/New_muon_db/with_lvl_3_taken_care_off/on_old_muons_and_more_noise/Make_combined_csv_with_truth.ipynb#X64sdnNjb2RlLXJlbW90ZQ%3D%3D?line=0'>1</a>\u001b[0m total_MC_no_neutrinos \u001b[39m=\u001b[39m total_MC[total_MC[\u001b[39m'\u001b[39;49m\u001b[39mpid\u001b[39;49m\u001b[39m'\u001b[39;49m]\u001b[39m.\u001b[39misin((\u001b[39m-\u001b[39m\u001b[39m1\u001b[39m,\u001b[39m1\u001b[39m,\u001b[39m-\u001b[39m\u001b[39m13\u001b[39m,\u001b[39m13\u001b[39m))]\n",
      "File \u001b[0;32m~/anaconda3/envs/graphnet/lib/python3.8/site-packages/pandas/core/frame.py:3505\u001b[0m, in \u001b[0;36mDataFrame.__getitem__\u001b[0;34m(self, key)\u001b[0m\n\u001b[1;32m   3503\u001b[0m \u001b[39mif\u001b[39;00m \u001b[39mself\u001b[39m\u001b[39m.\u001b[39mcolumns\u001b[39m.\u001b[39mnlevels \u001b[39m>\u001b[39m \u001b[39m1\u001b[39m:\n\u001b[1;32m   3504\u001b[0m     \u001b[39mreturn\u001b[39;00m \u001b[39mself\u001b[39m\u001b[39m.\u001b[39m_getitem_multilevel(key)\n\u001b[0;32m-> 3505\u001b[0m indexer \u001b[39m=\u001b[39m \u001b[39mself\u001b[39;49m\u001b[39m.\u001b[39;49mcolumns\u001b[39m.\u001b[39;49mget_loc(key)\n\u001b[1;32m   3506\u001b[0m \u001b[39mif\u001b[39;00m is_integer(indexer):\n\u001b[1;32m   3507\u001b[0m     indexer \u001b[39m=\u001b[39m [indexer]\n",
      "File \u001b[0;32m~/anaconda3/envs/graphnet/lib/python3.8/site-packages/pandas/core/indexes/base.py:3623\u001b[0m, in \u001b[0;36mIndex.get_loc\u001b[0;34m(self, key, method, tolerance)\u001b[0m\n\u001b[1;32m   3621\u001b[0m     \u001b[39mreturn\u001b[39;00m \u001b[39mself\u001b[39m\u001b[39m.\u001b[39m_engine\u001b[39m.\u001b[39mget_loc(casted_key)\n\u001b[1;32m   3622\u001b[0m \u001b[39mexcept\u001b[39;00m \u001b[39mKeyError\u001b[39;00m \u001b[39mas\u001b[39;00m err:\n\u001b[0;32m-> 3623\u001b[0m     \u001b[39mraise\u001b[39;00m \u001b[39mKeyError\u001b[39;00m(key) \u001b[39mfrom\u001b[39;00m \u001b[39merr\u001b[39;00m\n\u001b[1;32m   3624\u001b[0m \u001b[39mexcept\u001b[39;00m \u001b[39mTypeError\u001b[39;00m:\n\u001b[1;32m   3625\u001b[0m     \u001b[39m# If we have a listlike key, _check_indexing_error will raise\u001b[39;00m\n\u001b[1;32m   3626\u001b[0m     \u001b[39m#  InvalidIndexError. Otherwise we fall through and re-raise\u001b[39;00m\n\u001b[1;32m   3627\u001b[0m     \u001b[39m#  the TypeError.\u001b[39;00m\n\u001b[1;32m   3628\u001b[0m     \u001b[39mself\u001b[39m\u001b[39m.\u001b[39m_check_indexing_error(key)\n",
      "\u001b[0;31mKeyError\u001b[0m: 'pid'"
     ]
    }
   ],
   "source": [
    "# total_MC_no_neutrinos = total_MC[total_MC['pid'].isin((-1,1,-13,13))]"
   ]
  },
  {
   "cell_type": "code",
   "execution_count": 11,
   "metadata": {},
   "outputs": [],
   "source": [
    "indir_MC_130000_muons_neutrinos_and_noise = \"/groups/icecube/petersen/GraphNetDatabaseRepository/multi_classification_track_cascade_neutrino/using_new_muons_Peter_database/inference/track_cascade_sets/Old_muon_more_noise_Monte_Carlo_all_events_all_variables.csv\"\n",
    "MC = pd.read_csv(indir_MC_130000_muons_neutrinos_and_noise).sort_values('event_no').reset_index(drop = True)"
   ]
  },
  {
   "cell_type": "code",
   "execution_count": null,
   "metadata": {},
   "outputs": [],
   "source": []
  },
  {
   "cell_type": "code",
   "execution_count": 13,
   "metadata": {},
   "outputs": [],
   "source": [
    "total_MC = pd.merge(MC.reset_index(drop=True),MC_truth.reset_index(drop=True),on='event_no',how='inner').reset_index(drop=True)\n"
   ]
  },
  {
   "cell_type": "code",
   "execution_count": 15,
   "metadata": {},
   "outputs": [
    {
     "data": {
      "text/plain": [
       "Index(['track_mu_pred', 'event_no', 'energy_pred', 'zenith_pred',\n",
       "       'zenith_kappa', 'azimuth_pred', 'azimuth_kappa', 'pid_noise_pred',\n",
       "       'pid_muon_pred', 'pid_neutrino_pred', 'pid_x',\n",
       "       'pid_neutrino_pred_logit', 'position_x_pred', 'position_y_pred',\n",
       "       'position_z_pred', 'RunID', 'EventID', 'SubrunID', 'SubEventID',\n",
       "       'total_osc_weight', 'L3_oscNext_bool', 'azimuth', 'zenith', 'energy',\n",
       "       'position_z', 'position_y', 'position_x', 'pid_y', 'interaction_type',\n",
       "       'track_mu'],\n",
       "      dtype='object')"
      ]
     },
     "execution_count": 15,
     "metadata": {},
     "output_type": "execute_result"
    }
   ],
   "source": [
    "total_MC.columns"
   ]
  },
  {
   "cell_type": "code",
   "execution_count": 20,
   "metadata": {},
   "outputs": [],
   "source": [
    "total_MC.drop(columns=['pid_y','interaction_type'],inplace=True)"
   ]
  },
  {
   "cell_type": "code",
   "execution_count": 21,
   "metadata": {},
   "outputs": [],
   "source": [
    "total_MC.rename(columns={\"pid_x\": \"pid\"},inplace=True)"
   ]
  },
  {
   "cell_type": "code",
   "execution_count": 22,
   "metadata": {},
   "outputs": [],
   "source": [
    "total_MC_no_neutrinos = total_MC[total_MC['pid'].isin((-1,1,-13,13))]"
   ]
  },
  {
   "cell_type": "code",
   "execution_count": 23,
   "metadata": {},
   "outputs": [
    {
     "data": {
      "text/plain": [
       "Index(['track_mu_pred', 'event_no', 'energy_pred', 'zenith_pred',\n",
       "       'zenith_kappa', 'azimuth_pred', 'azimuth_kappa', 'pid_noise_pred',\n",
       "       'pid_muon_pred', 'pid_neutrino_pred', 'pid', 'pid_neutrino_pred_logit',\n",
       "       'position_x_pred', 'position_y_pred', 'position_z_pred', 'RunID',\n",
       "       'EventID', 'SubrunID', 'SubEventID', 'total_osc_weight',\n",
       "       'L3_oscNext_bool', 'azimuth', 'zenith', 'energy', 'position_z',\n",
       "       'position_y', 'position_x', 'track_mu'],\n",
       "      dtype='object')"
      ]
     },
     "execution_count": 23,
     "metadata": {},
     "output_type": "execute_result"
    }
   ],
   "source": [
    "total_MC_no_neutrinos.columns"
   ]
  },
  {
   "cell_type": "code",
   "execution_count": 24,
   "metadata": {},
   "outputs": [],
   "source": [
    "outdir = \"/groups/icecube/petersen/GraphNetDatabaseRepository/multi_classification_track_cascade_neutrino/using_new_muons_Peter_database/inference/track_cascade_sets/\"\n",
    "\n",
    "total_MC_no_neutrinos.to_csv(outdir + 'Old_muon_more_noise_Monte_Carlo_all_events_all_variables.csv',index=False)"
   ]
  },
  {
   "cell_type": "code",
   "execution_count": 25,
   "metadata": {},
   "outputs": [
    {
     "data": {
      "text/plain": [
       "(469794, 28)"
      ]
     },
     "execution_count": 25,
     "metadata": {},
     "output_type": "execute_result"
    }
   ],
   "source": [
    "np.shape(total_MC_no_neutrinos[total_MC_no_neutrinos['pid_neutrino_pred_logit']>1])"
   ]
  },
  {
   "cell_type": "code",
   "execution_count": 26,
   "metadata": {},
   "outputs": [],
   "source": [
    "small_MC = total_MC_no_neutrinos[total_MC_no_neutrinos['pid_neutrino_pred_logit']>1]\n",
    "small_MC.to_csv(outdir + 'Old_muon_more_noise_Monte_Carlo_neutrino_prob_logit_above_1_all_variables.csv',index=False)"
   ]
  },
  {
   "cell_type": "code",
   "execution_count": 27,
   "metadata": {},
   "outputs": [],
   "source": [
    "\n",
    "small_small_MC = total_MC_no_neutrinos[total_MC_no_neutrinos['pid_neutrino_pred_logit']>12]\n",
    "small_small_MC.to_csv(outdir + 'Old_muon_more_noise_Monte_Carlo_neutrino_prob_logit_above_12_all_variables.csv',index=False)"
   ]
  },
  {
   "cell_type": "code",
   "execution_count": 4,
   "metadata": {},
   "outputs": [],
   "source": [
    "# def to_logit(p):\n",
    "#     eps = 0.0000001\n",
    "#     try:\n",
    "#         if np.isnan(p):\n",
    "#             return\n",
    "#         p = p*(1-2*eps)+eps\n",
    "#         logit = np.log(p/(1-p))\n",
    "#     except ZeroDivisionError as e:\n",
    "#         print(e)\n",
    "#     return logit\n",
    "\n",
    "# multiclass_MC['pid_neutrino_pred_logit'] = pd.Series(multiclass_MC['pid_neutrino_pred']).apply(to_logit)"
   ]
  },
  {
   "cell_type": "code",
   "execution_count": 5,
   "metadata": {},
   "outputs": [],
   "source": [
    "# osc_weight_and_lvl3_bool_MC['osc_weight'] = osc_weight_and_lvl3_bool_MC['osc_weight'].fillna(0)"
   ]
  },
  {
   "cell_type": "code",
   "execution_count": 6,
   "metadata": {},
   "outputs": [],
   "source": [
    "# nr_electron_neutrino_i3_files = 602\n",
    "# nr_muon_neutrino_i3_files = 1518\n",
    "# nr_tau_neutrino_i3_files = 334\n",
    "# nr_noise_i3_files = 7001\n",
    "\n",
    "# nr_muon_i3_files = 11230 - 7002-334-1518-602\n",
    "\n",
    "\n",
    "# nr_electron_neutrinos_total = 8118575 + 183333\n",
    "# nr_muon_neutrinos_total = 19923619 + 183333\n",
    "# nr_tau_neutrinos_total = 8702748 + 183333\n",
    "# nr_muon_total = 15990173\n",
    "# nr_noise_total = 15186239\n",
    "\n",
    "# nr_electron_neutrinos_test =8118575 + 183333\n",
    "# nr_muon_neutrinos_test = 19923619 + 183333\n",
    "# nr_tau_neutrinos_test =8702748 + 183333\n",
    "# nr_muon_test = nr_muon_total\n",
    "# nr_noise_test = nr_noise_total\n",
    "\n",
    "# electron_neutrino_add_weight = 1/(nr_electron_neutrino_i3_files*nr_electron_neutrinos_test/nr_electron_neutrinos_total)\n",
    "# muon_neutrino_add_weight = 1/(nr_muon_neutrino_i3_files*nr_muon_neutrinos_test/nr_muon_neutrinos_total)\n",
    "# tau_neutrino_add_weight = 1/(nr_tau_neutrino_i3_files*nr_tau_neutrinos_test/nr_tau_neutrinos_total)\n",
    "# muon_add_weight = 1/(nr_muon_i3_files*nr_muon_test/nr_muon_total)\n",
    "# noise_add_weight = 1/(nr_noise_i3_files*nr_noise_test/nr_noise_total)\n",
    "# print(electron_neutrino_add_weight,muon_neutrino_add_weight,tau_neutrino_add_weight)\n",
    "\n",
    "# electron_neutrino_event_nos = multiclass_MC['event_no'][multiclass_MC['pid'].isin((-12,12))].to_list()\n",
    "# muon_neutrino_event_nos = multiclass_MC['event_no'][multiclass_MC['pid'].isin((-14,14))].to_list()\n",
    "# tau_neutrino_event_nos = multiclass_MC['event_no'][multiclass_MC['pid'].isin((-16,16))].to_list()\n",
    "# muon_event_nos = multiclass_MC['event_no'][multiclass_MC['pid'].isin((-13,13))].to_list()\n",
    "# noise_event_nos = multiclass_MC['event_no'][multiclass_MC['pid'].isin((-1,1))].to_list()\n",
    "# neutrino_event_nos = multiclass_MC['event_no'][multiclass_MC['pid'].isin((-12,12,-14,14,-16,16))].to_list()\n",
    "\n",
    "# print(osc_weight_and_lvl3_bool_MC['osc_weight'][osc_weight_and_lvl3_bool_MC['event_no'].isin((electron_neutrino_event_nos))].head(10))\n",
    "# osc_weight_and_lvl3_bool_MC['osc_weight'][osc_weight_and_lvl3_bool_MC['event_no'].isin((electron_neutrino_event_nos))] *= electron_neutrino_add_weight\n",
    "# print(osc_weight_and_lvl3_bool_MC['osc_weight'][osc_weight_and_lvl3_bool_MC['event_no'].isin((electron_neutrino_event_nos))].head(10))\n",
    "# osc_weight_and_lvl3_bool_MC['osc_weight'][osc_weight_and_lvl3_bool_MC['event_no'].isin((muon_neutrino_event_nos))] *= muon_neutrino_add_weight\n",
    "# osc_weight_and_lvl3_bool_MC['osc_weight'][osc_weight_and_lvl3_bool_MC['event_no'].isin((tau_neutrino_event_nos))] *= tau_neutrino_add_weight\n",
    "# osc_weight_and_lvl3_bool_MC['osc_weight'][osc_weight_and_lvl3_bool_MC['event_no'].isin((muon_event_nos))] *= muon_add_weight\n",
    "# osc_weight_and_lvl3_bool_MC['osc_weight'][osc_weight_and_lvl3_bool_MC['event_no'].isin((noise_event_nos))] *= noise_add_weight"
   ]
  },
  {
   "cell_type": "code",
   "execution_count": 7,
   "metadata": {},
   "outputs": [],
   "source": [
    "# print(np.shape(track_cascade_MC))\n",
    "# print(np.shape(energy_MC))\n",
    "# print(np.shape(zenith_MC))\n",
    "# print(np.shape(azimuth_MC))\n",
    "# print(np.shape(multiclass_MC))\n",
    "# print(np.shape(position_MC))\n",
    "# print(np.shape(osc_weight_and_lvl3_bool_MC))"
   ]
  },
  {
   "cell_type": "code",
   "execution_count": 8,
   "metadata": {},
   "outputs": [],
   "source": [
    "# print((track_cascade_MC.columns))\n",
    "# print((energy_MC.columns))\n",
    "# print((zenith_MC.columns))\n",
    "# print((azimuth_MC.columns))\n",
    "# print((multiclass_MC.columns))\n",
    "# print((position_MC.columns))\n",
    "# print((osc_weight_and_lvl3_bool_MC.columns))"
   ]
  },
  {
   "cell_type": "code",
   "execution_count": 9,
   "metadata": {},
   "outputs": [],
   "source": [
    "# track_cascade_MC.drop(columns=['Unnamed: 0'],inplace=True)\n",
    "# energy_MC.drop(columns=['Unnamed: 0'],inplace=True)\n",
    "# zenith_MC.drop(columns=['Unnamed: 0'],inplace=True)\n",
    "# azimuth_MC.drop(columns=['Unnamed: 0'],inplace=True)\n",
    "# multiclass_MC.drop(columns=['Unnamed: 0'],inplace=True)\n",
    "# position_MC.drop(columns=['Unnamed: 0'],inplace=True)\n",
    "#osc_weight_and_lvl3_bool_MC.drop(columns=['Unnamed: 0'],inplace=True)"
   ]
  },
  {
   "cell_type": "code",
   "execution_count": 10,
   "metadata": {},
   "outputs": [],
   "source": [
    "# indir_db_MC = \"/groups/icecube/petersen/GraphNetDatabaseRepository/osc_next_database_Peter_and_Morten/merged_database/osc_next_level3_v2.00_genie_muongun_noise_120000_140000_160000_130000_888003.db\"\n",
    "# with sql.connect(indir_db_MC) as con:\n",
    "#          query = f\"\"\"\n",
    "#          SELECT\n",
    "#              event_no, azimuth, zenith, energy, position_x, position_y, position_z\n",
    "#          FROM \n",
    "#              truth\n",
    "#          \"\"\"\n",
    "#          MC_truths = read_sql(query,con)\n",
    "# MC_truths = MC_truths.sort_values('event_no').reset_index(drop = True)"
   ]
  },
  {
   "cell_type": "code",
   "execution_count": 11,
   "metadata": {},
   "outputs": [],
   "source": [
    "indir_db_MC = \"/groups/icecube/petersen/GraphNetDatabaseRepository/osc_next_database_Peter_and_Morten/merged_database/osc_next_level3_v2.00_genie_muongun_noise_120000_140000_160000_130000_888003.db\"\n",
    "with sql.connect(indir_db_MC) as con:\n",
    "         query = f\"\"\"\n",
    "         SELECT\n",
    "             event_no, position_x\n",
    "         FROM \n",
    "             truth\n",
    "         \"\"\"\n",
    "         MC_pos_x = read_sql(query,con)\n",
    "MC_pos_x = MC_pos_x.sort_values('event_no').reset_index(drop = True)"
   ]
  },
  {
   "cell_type": "code",
   "execution_count": 12,
   "metadata": {},
   "outputs": [],
   "source": [
    "# total_MC = pd.merge(track_cascade_MC.reset_index(drop=True),energy_MC.reset_index(drop=True),on='event_no',how='inner').reset_index(drop=True)\n",
    "# total_MC = pd.merge(total_MC.reset_index(drop=True),zenith_MC.reset_index(drop=True),on='event_no',how='inner').reset_index(drop=True)\n",
    "# total_MC = pd.merge(total_MC.reset_index(drop=True),azimuth_MC.reset_index(drop=True),on='event_no',how='inner').reset_index(drop=True)\n",
    "# total_MC = pd.merge(total_MC.reset_index(drop=True),multiclass_MC.reset_index(drop=True),on='event_no',how='inner').reset_index(drop=True)\n",
    "# total_MC = pd.merge(total_MC.reset_index(drop=True),position_MC.reset_index(drop=True),on='event_no',how='inner').reset_index(drop=True)\n",
    "# total_MC = pd.merge(total_MC.reset_index(drop=True),osc_weight_and_lvl3_bool_MC.reset_index(drop=True),on='event_no',how='inner').reset_index(drop=True)\n",
    "# total_MC = pd.merge(total_MC.reset_index(drop=True),MC_truths.reset_index(drop=True),on='event_no',how='inner').reset_index(drop=True)\n",
    "total_MC = pd.merge(MC.reset_index(drop=True),MC_pos_x.reset_index(drop=True),on='event_no',how='inner').reset_index(drop=True)\n"
   ]
  },
  {
   "cell_type": "code",
   "execution_count": 16,
   "metadata": {},
   "outputs": [
    {
     "data": {
      "text/plain": [
       "Index(['track_mu_pred', 'event_no', 'energy_pred', 'zenith_pred',\n",
       "       'zenith_kappa', 'azimuth_pred', 'azimuth_kappa', 'pid_noise_pred',\n",
       "       'pid_muon_pred', 'pid_neutrino_pred', 'pid', 'pid_neutrino_pred_logit',\n",
       "       'position_x_pred', 'position_y_pred', 'position_z_pred', 'RunID',\n",
       "       'EventID', 'SubrunID', 'SubEventID', 'total_osc_weight',\n",
       "       'L3_oscNext_bool', 'azimuth', 'zenith', 'energy', 'position_z',\n",
       "       'position_y', 'position_z.1', 'position_x'],\n",
       "      dtype='object')"
      ]
     },
     "execution_count": 16,
     "metadata": {},
     "output_type": "execute_result"
    }
   ],
   "source": [
    "total_MC.columns"
   ]
  },
  {
   "cell_type": "code",
   "execution_count": 17,
   "metadata": {},
   "outputs": [],
   "source": [
    "total_MC.drop(columns=['position_z.1'],inplace=True)"
   ]
  },
  {
   "cell_type": "code",
   "execution_count": 18,
   "metadata": {},
   "outputs": [],
   "source": [
    "total_MC_no_neutrinos = total_MC"
   ]
  },
  {
   "cell_type": "code",
   "execution_count": 13,
   "metadata": {},
   "outputs": [],
   "source": [
    "# total_MC_no_neutrinos = total_MC[total_MC['pid'].isin((-1,1,-13,13))]\n"
   ]
  },
  {
   "cell_type": "code",
   "execution_count": 14,
   "metadata": {},
   "outputs": [],
   "source": [
    "# total_MC_no_neutrinos.rename(columns={\"osc_weight\": \"total_osc_weight\"},inplace=True)"
   ]
  },
  {
   "cell_type": "code",
   "execution_count": null,
   "metadata": {},
   "outputs": [
    {
     "name": "stdout",
     "output_type": "stream",
     "text": [
      "Index(['track_mu_pred', 'event_no', 'energy_pred', 'zenith_pred',\n",
      "       'zenith_kappa', 'azimuth_pred', 'azimuth_kappa', 'pid_noise_pred',\n",
      "       'pid_muon_pred', 'pid_neutrino_pred', 'pid', 'pid_neutrino_pred_logit',\n",
      "       'position_x_pred', 'position_y_pred', 'position_z_pred', 'RunID',\n",
      "       'EventID', 'SubrunID', 'SubEventID', 'total_osc_weight',\n",
      "       'L3_oscNext_bool', 'azimuth', 'zenith', 'energy', 'position_z',\n",
      "       'position_y', 'position_z'],\n",
      "      dtype='object')\n"
     ]
    }
   ],
   "source": [
    "# print(total_MC_no_neutrinos.columns)"
   ]
  },
  {
   "cell_type": "code",
   "execution_count": 19,
   "metadata": {},
   "outputs": [],
   "source": [
    "outdir = \"/groups/icecube/petersen/GraphNetDatabaseRepository/multi_classification_track_cascade_neutrino/using_new_muons_Peter_database/inference/track_cascade_sets/\"\n",
    "\n",
    "total_MC_no_neutrinos.to_csv(outdir + 'Old_muon_more_noise_Monte_Carlo_all_events_all_variables.csv',index=False)"
   ]
  },
  {
   "cell_type": "code",
   "execution_count": null,
   "metadata": {},
   "outputs": [
    {
     "data": {
      "text/plain": [
       "(472532, 27)"
      ]
     },
     "execution_count": 20,
     "metadata": {},
     "output_type": "execute_result"
    }
   ],
   "source": [
    "np.shape(total_MC_no_neutrinos[total_MC_no_neutrinos['pid_neutrino_pred_logit']>1])"
   ]
  },
  {
   "cell_type": "code",
   "execution_count": 21,
   "metadata": {},
   "outputs": [],
   "source": [
    "small_MC = total_MC_no_neutrinos[total_MC_no_neutrinos['pid_neutrino_pred_logit']>1]\n",
    "small_MC.to_csv(outdir + 'Old_muon_more_noise_Monte_Carlo_neutrino_prob_logit_above_1_all_variables.csv',index=False)"
   ]
  },
  {
   "cell_type": "code",
   "execution_count": 22,
   "metadata": {},
   "outputs": [],
   "source": [
    "\n",
    "small_small_MC = total_MC_no_neutrinos[total_MC_no_neutrinos['pid_neutrino_pred_logit']>12]\n",
    "small_small_MC.to_csv(outdir + 'Old_muon_more_noise_Monte_Carlo_neutrino_prob_logit_above_12_all_variables.csv',index=False)"
   ]
  },
  {
   "cell_type": "code",
   "execution_count": 23,
   "metadata": {},
   "outputs": [
    {
     "name": "stdout",
     "output_type": "stream",
     "text": [
      "(459, 27)\n"
     ]
    }
   ],
   "source": [
    "print(np.shape(small_small_MC))"
   ]
  },
  {
   "cell_type": "code",
   "execution_count": 24,
   "metadata": {},
   "outputs": [],
   "source": [
    "train_indir = \"/groups/icecube/petersen/GraphNetDatabaseRepository/osc_next_database_new_muons_peter/train_val_test_split/Multiclassification/Multiclassification_train_event_no.csv\"\n",
    "val_indir = \"/groups/icecube/petersen/GraphNetDatabaseRepository/osc_next_database_new_muons_peter/train_val_test_split/Multiclassification/Multiclassification_val_event_no.csv\""
   ]
  },
  {
   "cell_type": "code",
   "execution_count": 25,
   "metadata": {},
   "outputs": [],
   "source": [
    "train = pd.read_csv(train_indir).sort_values('event_no').reset_index(drop = True)\n",
    "val = pd.read_csv(val_indir).sort_values('event_no').reset_index(drop = True)\n",
    "New_muon_indir = \"/groups/icecube/petersen/GraphNetDatabaseRepository/osc_next_database_new_muons_peter/Merged_db/osc_next_level3_v2.00_genie_muongun_noise_120000_140000_160000_139008_888003_retro.db\"\n",
    "\n",
    "indir_db_MC = \"/groups/icecube/petersen/GraphNetDatabaseRepository/osc_next_database_Peter_and_Morten/merged_database/osc_next_level3_v2.00_genie_muongun_noise_120000_140000_160000_130000_888003.db\"\n",
    "with sql.connect(indir_db_MC) as con:\n",
    "         query = f\"\"\"\n",
    "         SELECT\n",
    "             event_no, RunID, EventID, SubrunID, SubEventID\n",
    "         FROM \n",
    "             truth\n",
    "         \"\"\"\n",
    "         new_muon = read_sql(query,con)\n",
    "\n",
    "new_muon = new_muon.sort_values('event_no').reset_index(drop = True)"
   ]
  },
  {
   "cell_type": "code",
   "execution_count": 37,
   "metadata": {},
   "outputs": [],
   "source": [
    "new_muon.rename(columns={\"event_no\": \"new_muon_event_no\"},inplace=True)\n"
   ]
  },
  {
   "cell_type": "code",
   "execution_count": 38,
   "metadata": {},
   "outputs": [],
   "source": [
    "new_muon_train_and_val = new_muon[(new_muon['new_muon_event_no'].isin(train['event_no'].to_list()))|(new_muon['new_muon_event_no'].isin(val['event_no'].to_list()))]\n"
   ]
  },
  {
   "cell_type": "markdown",
   "metadata": {},
   "source": [
    "merged = pd.concat([new_muon,])"
   ]
  },
  {
   "cell_type": "code",
   "execution_count": 55,
   "metadata": {},
   "outputs": [],
   "source": [
    "merged_df = total_MC_no_neutrinos.merge(new_muon_train_and_val[['RunID', 'EventID', 'SubrunID', 'SubEventID']], \n",
    "                                        on=['RunID', 'EventID', 'SubrunID', 'SubEventID'], \n",
    "                                        how='left', indicator=True)"
   ]
  },
  {
   "cell_type": "code",
   "execution_count": 66,
   "metadata": {},
   "outputs": [
    {
     "data": {
      "text/plain": [
       "770340"
      ]
     },
     "execution_count": 66,
     "metadata": {},
     "output_type": "execute_result"
    }
   ],
   "source": [
    "sum(merged_df['_merge'] =='both')"
   ]
  },
  {
   "cell_type": "code",
   "execution_count": 69,
   "metadata": {},
   "outputs": [],
   "source": [
    "filtered_df = merged_df.loc[~((merged_df['_merge'] == 'both') & merged_df['pid'].isin((-1,1)))].drop(columns='_merge')"
   ]
  },
  {
   "cell_type": "code",
   "execution_count": 70,
   "metadata": {},
   "outputs": [
    {
     "name": "stdout",
     "output_type": "stream",
     "text": [
      "Index(['track_mu_pred', 'event_no', 'energy_pred', 'zenith_pred',\n",
      "       'zenith_kappa', 'azimuth_pred', 'azimuth_kappa', 'pid_noise_pred',\n",
      "       'pid_muon_pred', 'pid_neutrino_pred', 'pid', 'pid_neutrino_pred_logit',\n",
      "       'position_x_pred', 'position_y_pred', 'position_z_pred', 'RunID',\n",
      "       'EventID', 'SubrunID', 'SubEventID', 'total_osc_weight',\n",
      "       'L3_oscNext_bool', 'azimuth', 'zenith', 'energy', 'position_z',\n",
      "       'position_y', 'position_x'],\n",
      "      dtype='object')\n",
      "31176412\n",
      "1649999\n",
      "30796130\n",
      "380282\n"
     ]
    }
   ],
   "source": [
    "print(filtered_df.columns)\n",
    "print(len(merged_df))\n",
    "print(len(new_muon_train_and_val))\n",
    "print(len(filtered_df))\n",
    "print(len(total_MC_no_neutrinos)-len(filtered_df))"
   ]
  },
  {
   "cell_type": "code",
   "execution_count": 76,
   "metadata": {},
   "outputs": [
    {
     "name": "stdout",
     "output_type": "stream",
     "text": [
      "14805957\n",
      "15186239\n",
      "15990173\n",
      "15990173\n"
     ]
    }
   ],
   "source": [
    "print(np.sum(filtered_df['pid']==-1))\n",
    "print(np.sum(total_MC_no_neutrinos['pid']==-1))\n",
    "print(np.sum(filtered_df['pid']==13))\n",
    "print(np.sum(total_MC_no_neutrinos['pid']==13))"
   ]
  },
  {
   "cell_type": "code",
   "execution_count": 82,
   "metadata": {},
   "outputs": [
    {
     "name": "stdout",
     "output_type": "stream",
     "text": [
      "6.624471551454647\n",
      "6.624471551454506\n"
     ]
    }
   ],
   "source": [
    "print(np.sum(filtered_df['total_osc_weight'][filtered_df['pid'].isin((-1,1))]))\n",
    "print(np.sum(total_MC_no_neutrinos['total_osc_weight'][total_MC_no_neutrinos['pid'].isin((-1,1))]))"
   ]
  },
  {
   "cell_type": "code",
   "execution_count": 81,
   "metadata": {},
   "outputs": [],
   "source": [
    "# filtered_df['total_osc_weight'][filtered_df['pid'].isin((-1,1))] = filtered_df['total_osc_weight'][filtered_df['pid'].isin((-1,1))] *6.624471551454506/6.458586680912811"
   ]
  },
  {
   "cell_type": "code",
   "execution_count": 83,
   "metadata": {},
   "outputs": [],
   "source": [
    "outdir = \"/groups/icecube/petersen/GraphNetDatabaseRepository/multi_classification_track_cascade_neutrino/using_new_muons_Peter_database/inference/track_cascade_sets/\"\n",
    "\n",
    "filtered_df.to_csv(outdir + 'Old_muon_more_noise_Monte_Carlo_all_events_all_variables.csv',index=False)"
   ]
  },
  {
   "cell_type": "code",
   "execution_count": 84,
   "metadata": {},
   "outputs": [],
   "source": [
    "small_MC = filtered_df[filtered_df['pid_neutrino_pred_logit']>1]\n",
    "small_MC.to_csv(outdir + 'Old_muon_more_noise_Monte_Carlo_neutrino_prob_logit_above_1_all_variables.csv',index=False)\n",
    "small_small_MC = filtered_df[filtered_df['pid_neutrino_pred_logit']>12]\n",
    "small_small_MC.to_csv(outdir + 'Old_muon_more_noise_Monte_Carlo_neutrino_prob_logit_above_12_all_variables.csv',index=False)"
   ]
  },
  {
   "cell_type": "code",
   "execution_count": null,
   "metadata": {},
   "outputs": [],
   "source": []
  }
 ],
 "metadata": {
  "kernelspec": {
   "display_name": "graphnet",
   "language": "python",
   "name": "python3"
  },
  "language_info": {
   "codemirror_mode": {
    "name": "ipython",
    "version": 3
   },
   "file_extension": ".py",
   "mimetype": "text/x-python",
   "name": "python",
   "nbconvert_exporter": "python",
   "pygments_lexer": "ipython3",
   "version": "3.8.15"
  },
  "orig_nbformat": 4
 },
 "nbformat": 4,
 "nbformat_minor": 2
}
