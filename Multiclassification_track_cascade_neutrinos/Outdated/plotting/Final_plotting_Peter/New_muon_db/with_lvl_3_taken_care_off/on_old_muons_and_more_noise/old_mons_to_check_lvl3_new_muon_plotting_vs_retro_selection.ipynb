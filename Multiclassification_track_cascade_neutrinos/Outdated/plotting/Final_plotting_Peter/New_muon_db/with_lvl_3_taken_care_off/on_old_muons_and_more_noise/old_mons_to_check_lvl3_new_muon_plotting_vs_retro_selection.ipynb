{
 "cells": [
  {
   "cell_type": "code",
   "execution_count": 1,
   "metadata": {},
   "outputs": [],
   "source": [
    "import sqlite3 as sql\n",
    "\n",
    "import numpy as np\n",
    "import pandas as pd\n",
    "from pandas import cut, read_sql\n",
    "import pickle as pkl\n",
    "from random import choices\n",
    "from sklearn import metrics\n",
    "import matplotlib.pyplot as plt\n",
    "import matplotlib.colors as colors\n",
    "import scipy.optimize as optimize\n",
    "from standard_plotting import set_size"
   ]
  },
  {
   "cell_type": "code",
   "execution_count": 2,
   "metadata": {},
   "outputs": [],
   "source": [
    "tex_fonts = {\n",
    "    # Use LaTeX to write all text\n",
    "    \"text.usetex\": False,\n",
    "    # Use 10pt font in plots, to match 10pt font in document\n",
    "    \"axes.labelsize\": 11,\n",
    "    \"font.size\": 11,\n",
    "    # Make the legend/label fonts a little smaller\n",
    "    \"legend.fontsize\": 9,\n",
    "    \"xtick.labelsize\": 9,\n",
    "    \"ytick.labelsize\": 9\n",
    "}\n",
    "\n",
    "plt.rcParams.update(tex_fonts)\n",
    "\n",
    "outdir = \"/groups/icecube/petersen/GraphNetDatabaseRepository/multi_classification_track_cascade_neutrino/using_new_muons_Peter_database/plotting/Comparison_using_lvl_3_cut/MC_selection_lvls_and_vs_retro/On_old_muons_to_check_rates/\""
   ]
  },
  {
   "cell_type": "code",
   "execution_count": 3,
   "metadata": {},
   "outputs": [],
   "source": [
    "# indir_db_MC = \"/groups/icecube/petersen/GraphNetDatabaseRepository/osc_next_database_new_muons_peter/Merged_db/osc_next_level3_v2.00_genie_muongun_noise_120000_140000_160000_139008_888003_retro.db\"\n",
    "# with sql.connect(indir_db_MC) as con:\n",
    "#         query = f\"\"\"\n",
    "#         SELECT\n",
    "#             event_no, interaction_type, pid\n",
    "#         FROM \n",
    "#             truth\n",
    "#         \"\"\"\n",
    "#         MC_interaction_type = read_sql(query,con)\n",
    "\n",
    "#outdir_interaction_type = \"/groups/icecube/petersen/GraphNetDatabaseRepository/multi_classification_track_cascade_neutrino/using_new_muons_Peter_database/inference/Test_set/\"\n",
    "#MC_interaction_type = pd.read_csv(outdir_interaction_type + 'interaction_type_New_muon_test.csv')"
   ]
  },
  {
   "cell_type": "code",
   "execution_count": 4,
   "metadata": {},
   "outputs": [],
   "source": [
    "#indir_multiclass_old = \"/groups/icecube/petersen/GraphNetDatabaseRepository/multi_classification_track_cascade_neutrino/using_MP_lvl3/trained_models/osc_next_level3_v2/dynedge_pid_classification3_test/results.csv\"\n",
    "indir_multiclass_MC = \"/groups/icecube/petersen/GraphNetDatabaseRepository/multi_classification_track_cascade_neutrino/using_new_muons_Peter_database/inference/old_morten_peter_db/pid_Multiclass_try_2_on_old_db_trained_on_new_muons.csv\"\n",
    "#indir_track_cascade = \"/groups/icecube/petersen/GraphNetDatabaseRepository/multi_classification_track_cascade_neutrino/using_new_muons_Peter_database/inference/Test_set/track_cascade_New_muon_test_set_inc_truth.csv\"\n",
    "indir_energy_MC = \"/groups/icecube/petersen/GraphNetDatabaseRepository/multi_classification_track_cascade_neutrino/using_new_muons_Peter_database/inference/Test_set/energy_New_muon_test_set_inc_truth.csv\"\n",
    "indir_zenith_MC = \"/groups/icecube/petersen/GraphNetDatabaseRepository/multi_classification_track_cascade_neutrino/using_new_muons_Peter_database/inference/Test_set/zenith_New_muon_test_set.csv\"\n",
    "indir_azimuth_MC = \"/groups/icecube/petersen/GraphNetDatabaseRepository/multi_classification_track_cascade_neutrino/using_new_muons_Peter_database/inference/Test_set/azimuth_New_muon_test_set.csv\"\n",
    "indir_retro = \"/groups/icecube/petersen/GraphNetDatabaseRepository/multi_classification_track_cascade_neutrino/using_new_muons_Peter_database/inference/Retro/retro_on_new_muon_test_set.csv\"\n",
    "indir_multiclass_RD = \"/groups/icecube/petersen/GraphNetDatabaseRepository/multi_classification_track_cascade_neutrino/using_new_muons_Peter_database/inference/Burnsample/pid_Burnsample_RD_Full_db_new_muon.csv\"\n",
    "indir_lvl3_RD = \"/groups/icecube/petersen/GraphNetDatabaseRepository/multi_classification_track_cascade_neutrino/using_new_muons_Peter_database/inference/Burnsample/lvl3_variables_burnsample.csv\"\n",
    "indir_lvl3_MC = \"/groups/icecube/petersen/GraphNetDatabaseRepository/multi_classification_track_cascade_neutrino/using_new_muons_Peter_database/inference/Test_set/lvl3_variables_new_muon.csv\"\n",
    "indir_position_MC = \"/groups/icecube/petersen/GraphNetDatabaseRepository/multi_classification_track_cascade_neutrino/using_new_muons_Peter_database/inference/Test_set/position_vertex_new_muon.csv\"\n"
   ]
  },
  {
   "cell_type": "code",
   "execution_count": 5,
   "metadata": {},
   "outputs": [],
   "source": [
    "\n",
    "#track_cascade_MC = pd.read_csv(indir_track_cascade_MC).sort_values('event_no').reset_index(drop = True)\n",
    "# energy_MC = pd.read_csv(indir_energy_MC).sort_values('event_no').reset_index(drop = True)\n",
    "# zenith_MC = pd.read_csv(indir_zenith_MC).sort_values('event_no').reset_index(drop = True)\n",
    "# azimuth_MC = pd.read_csv(indir_azimuth_MC).sort_values('event_no').reset_index(drop = True)\n",
    "multiclass_MC = pd.read_csv(indir_multiclass_MC).sort_values('event_no').reset_index(drop = True)\n",
    "# retro = pd.read_csv(indir_retro).sort_values('event_no').reset_index(drop = True)\n",
    "multiclass_RD = pd.read_csv(indir_multiclass_RD).sort_values('event_no').reset_index(drop = True)\n",
    "lvl3_RD = pd.read_csv(indir_lvl3_RD, usecols = ['event_no','L3_oscNext_bool']).sort_values('event_no').reset_index(drop = True)\n",
    "# lvl3_MC = pd.read_csv(indir_lvl3_MC, usecols = ['event_no','L3_oscNext_bool']).sort_values('event_no').reset_index(drop = True)\n",
    "# position_MC = pd.read_csv(indir_position_MC).sort_values('event_no').reset_index(drop = True)\n"
   ]
  },
  {
   "cell_type": "code",
   "execution_count": 6,
   "metadata": {},
   "outputs": [],
   "source": [
    "lvl3_RD = pd.read_csv(indir_lvl3_RD, usecols = ['event_no','L3_oscNext_bool']).sort_values('event_no').reset_index(drop = True)\n"
   ]
  },
  {
   "cell_type": "code",
   "execution_count": 7,
   "metadata": {},
   "outputs": [],
   "source": [
    "# indir_MP = \"/groups/icecube/petersen/GraphNetDatabaseRepository/osc_next_database_Peter_and_Morten/merged_database/osc_next_level3_v2.00_genie_muongun_noise_120000_140000_160000_130000_888003.db\"\n",
    "# indir_MP_with_retro = \"/groups/icecube/petersen/GraphNetDatabaseRepository/osc_next_database_Peter_and_Morten/merged_database/osc_next_level3_v2.00_genie_muongun_noise_120000_140000_160000_130000_888003_retro.db\"\n",
    "# with sql.connect(indir_MP) as con:\n",
    "#     query = \"\"\"\n",
    "#     SELECT\n",
    "#         event_no, L3_oscNext_bool, RunID, EventID, SubRunID, SubEventID\n",
    "#     FROM \n",
    "#         truth\n",
    "#     \"\"\"\n",
    "#     truth_not_retro = read_sql(query,con)"
   ]
  },
  {
   "cell_type": "code",
   "execution_count": 8,
   "metadata": {},
   "outputs": [],
   "source": [
    "# with sql.connect(indir_MP_with_retro) as con:\n",
    "#     query = \"\"\"\n",
    "#     SELECT\n",
    "#         event_no, osc_weight\n",
    "#     FROM \n",
    "#         retro\n",
    "#     \"\"\"\n",
    "#     retro = read_sql(query,con)"
   ]
  },
  {
   "cell_type": "code",
   "execution_count": 9,
   "metadata": {},
   "outputs": [],
   "source": [
    "# with sql.connect(indir_MP_with_retro) as con:\n",
    "#     query = \"\"\"\n",
    "#     SELECT\n",
    "#         event_no, RunID, EventID, SubRunID, SubEventID\n",
    "#     FROM \n",
    "#         truth\n",
    "#     \"\"\"\n",
    "#     truth_retro = read_sql(query,con)"
   ]
  },
  {
   "cell_type": "code",
   "execution_count": 10,
   "metadata": {},
   "outputs": [],
   "source": [
    "# print(truth_retro.columns)"
   ]
  },
  {
   "cell_type": "code",
   "execution_count": 11,
   "metadata": {},
   "outputs": [],
   "source": [
    "# retro_with_run_etc = pd.merge(truth_retro.reset_index(drop=True),retro.reset_index(drop=True),on='event_no',how='inner')\n",
    "# retro_with_run_etc.drop(columns = 'event_no', inplace = True)\n",
    "# osc_weight_and_lvl_3_bool = pd.merge(retro_with_run_etc.reset_index(drop=True),truth_not_retro.reset_index(drop=True),on=[\"RunID\", \"EventID\", \"SubrunID\", \"SubEventID\"],how='inner')\n",
    "save_osc_bool = \"/groups/icecube/petersen/GraphNetDatabaseRepository/multi_classification_track_cascade_neutrino/using_new_muons_Peter_database/inference/old_morten_peter_db/\"\n",
    "# osc_weight_and_lvl_3_bool.to_csv(save_osc_bool + 'Osc_weight_and_lvl3_bool.csv',index=False)\n",
    "osc_weight_and_lvl_3_bool = pd.read_csv(save_osc_bool + 'Osc_weight_and_lvl3_bool.csv').reset_index(drop=True)"
   ]
  },
  {
   "cell_type": "code",
   "execution_count": 12,
   "metadata": {},
   "outputs": [],
   "source": [
    "\n",
    "# safe_load_place_MC = \"/groups/icecube/petersen/GraphNetDatabaseRepository/multi_classification_track_cascade_neutrino/using_new_muons_Peter_database/inference/Test_set/logit/Neutrino_prob_logit_MC.csv\"\n",
    "# load_logit_MC = True\n",
    "# if load_logit_MC:\n",
    "#     input = pd.read_csv(safe_load_place_MC)\n",
    "#     multiclass_MC['pid_neutrino_pred_logit'] = input['pid_neutrino_pred_logit']\n",
    "\n",
    "\n",
    "\n",
    "# safe_load_place_RD = \"/groups/icecube/petersen/GraphNetDatabaseRepository/multi_classification_track_cascade_neutrino/using_MP_lvl3/inference/event_selections/Neutrino_prob_logit_RD.csv\"\n",
    "# load_logit_RD = True\n",
    "# if load_logit_RD:\n",
    "#     input = pd.read_csv(safe_load_place_RD)\n",
    "#     multiclass_RD['pid_neutrino_pred_logit'] = input['pid_neutrino_pred']\n",
    "def to_logit(p):\n",
    "    eps = 0.0000001\n",
    "    try:\n",
    "        if np.isnan(p):\n",
    "            return\n",
    "        p = p*(1-2*eps)+eps\n",
    "        logit = np.log(p/(1-p))\n",
    "    except ZeroDivisionError as e:\n",
    "        print(e)\n",
    "    return logit\n",
    "\n",
    "safe_load_place_MC = \"/groups/icecube/petersen/GraphNetDatabaseRepository/multi_classification_track_cascade_neutrino/using_new_muons_Peter_database/inference/Test_set/logit/Neutrino_prob_logit_MC.csv\"\n",
    "load_logit_MC = False\n",
    "if load_logit_MC:\n",
    "    input = pd.read_csv(safe_load_place_MC)\n",
    "    multiclass_MC['pid_neutrino_pred_logit'] = input['pid_neutrino_pred_logit']\n",
    "else:\n",
    "    multiclass_MC['pid_neutrino_pred_logit'] = pd.Series(multiclass_MC['pid_neutrino_pred']).apply(to_logit)\n",
    "    #multiclass_MC['pid_neutrino_pred_logit'].to_csv(safe_load_place_MC)\n",
    "\n",
    "\n",
    "\n",
    "\n",
    "safe_load_place_RD = \"/groups/icecube/petersen/GraphNetDatabaseRepository/multi_classification_track_cascade_neutrino/using_MP_lvl3/inference/event_selections/Neutrino_prob_logit_RD.csv\"\n",
    "load_logit_RD = False\n",
    "if load_logit_RD:\n",
    "    input = pd.read_csv(safe_load_place_RD)\n",
    "    multiclass_RD['pid_neutrino_pred_logit'] = input['pid_neutrino_pred']\n",
    "else:\n",
    "    multiclass_RD['pid_neutrino_pred_logit'] = pd.Series(multiclass_RD['pid_neutrino_pred']).apply(to_logit)\n",
    "    #multiclass_RD['pid_neutrino_pred_logit'].to_csv(safe_load_place_RD)\n"
   ]
  },
  {
   "cell_type": "code",
   "execution_count": 13,
   "metadata": {},
   "outputs": [],
   "source": [
    "# indir_osc_weight_MC = \"/groups/icecube/petersen/GraphNetDatabaseRepository/multi_classification_track_cascade_neutrino/using_new_muons_Peter_database/inference/Test_set/osc_weights_new_muon.csv\"\n",
    "# osc_weight_MC = pd.read_csv(indir_osc_weight_MC)\n",
    "# print(len(osc_weight_MC))\n",
    "# print(osc_weight_MC[osc_weight_MC['event_no']==28956376])\n",
    "# osc_weight_MC['osc_weight'][osc_weight_MC['event_no']==28956376] = 0\n",
    "# print(osc_weight_MC[osc_weight_MC['event_no']==28956376])\n",
    "osc_weight_and_lvl_3_bool['osc_weight'] = osc_weight_and_lvl_3_bool['osc_weight'].fillna(0)"
   ]
  },
  {
   "cell_type": "code",
   "execution_count": 14,
   "metadata": {},
   "outputs": [
    {
     "name": "stdout",
     "output_type": "stream",
     "text": [
      "0.0016611295681063123 0.0006587615283267457 0.0029940119760479044\n",
      "0    1.766630e-07\n",
      "1    1.433782e-07\n",
      "2    3.373838e-07\n",
      "3    1.323553e-07\n",
      "4    1.557353e-07\n",
      "5    2.447223e-07\n",
      "6    3.449067e-07\n",
      "7    1.641326e-07\n",
      "8    1.885508e-07\n",
      "9    1.855439e-07\n",
      "Name: osc_weight, dtype: float64\n"
     ]
    },
    {
     "name": "stderr",
     "output_type": "stream",
     "text": [
      "/tmp/ipykernel_902/2856560989.py:36: SettingWithCopyWarning: \n",
      "A value is trying to be set on a copy of a slice from a DataFrame\n",
      "\n",
      "See the caveats in the documentation: https://pandas.pydata.org/pandas-docs/stable/user_guide/indexing.html#returning-a-view-versus-a-copy\n",
      "  osc_weight_and_lvl_3_bool['osc_weight'][osc_weight_and_lvl_3_bool['event_no'].isin((electron_neutrino_event_nos))] *= electron_neutrino_add_weight\n"
     ]
    },
    {
     "name": "stdout",
     "output_type": "stream",
     "text": [
      "0    2.934601e-10\n",
      "1    2.381697e-10\n",
      "2    5.604382e-10\n",
      "3    2.198592e-10\n",
      "4    2.586965e-10\n",
      "5    4.065154e-10\n",
      "6    5.729347e-10\n",
      "7    2.726455e-10\n",
      "8    3.132074e-10\n",
      "9    3.082124e-10\n",
      "Name: osc_weight, dtype: float64\n"
     ]
    },
    {
     "name": "stderr",
     "output_type": "stream",
     "text": [
      "/tmp/ipykernel_902/2856560989.py:38: SettingWithCopyWarning: \n",
      "A value is trying to be set on a copy of a slice from a DataFrame\n",
      "\n",
      "See the caveats in the documentation: https://pandas.pydata.org/pandas-docs/stable/user_guide/indexing.html#returning-a-view-versus-a-copy\n",
      "  osc_weight_and_lvl_3_bool['osc_weight'][osc_weight_and_lvl_3_bool['event_no'].isin((muon_neutrino_event_nos))] *= muon_neutrino_add_weight\n",
      "/tmp/ipykernel_902/2856560989.py:39: SettingWithCopyWarning: \n",
      "A value is trying to be set on a copy of a slice from a DataFrame\n",
      "\n",
      "See the caveats in the documentation: https://pandas.pydata.org/pandas-docs/stable/user_guide/indexing.html#returning-a-view-versus-a-copy\n",
      "  osc_weight_and_lvl_3_bool['osc_weight'][osc_weight_and_lvl_3_bool['event_no'].isin((tau_neutrino_event_nos))] *= tau_neutrino_add_weight\n",
      "/tmp/ipykernel_902/2856560989.py:40: SettingWithCopyWarning: \n",
      "A value is trying to be set on a copy of a slice from a DataFrame\n",
      "\n",
      "See the caveats in the documentation: https://pandas.pydata.org/pandas-docs/stable/user_guide/indexing.html#returning-a-view-versus-a-copy\n",
      "  osc_weight_and_lvl_3_bool['osc_weight'][osc_weight_and_lvl_3_bool['event_no'].isin((muon_event_nos))] *= muon_add_weight\n",
      "/tmp/ipykernel_902/2856560989.py:41: SettingWithCopyWarning: \n",
      "A value is trying to be set on a copy of a slice from a DataFrame\n",
      "\n",
      "See the caveats in the documentation: https://pandas.pydata.org/pandas-docs/stable/user_guide/indexing.html#returning-a-view-versus-a-copy\n",
      "  osc_weight_and_lvl_3_bool['osc_weight'][osc_weight_and_lvl_3_bool['event_no'].isin((noise_event_nos))] *= noise_add_weight\n"
     ]
    }
   ],
   "source": [
    "nr_electron_neutrino_i3_files = 602\n",
    "nr_muon_neutrino_i3_files = 1518\n",
    "nr_tau_neutrino_i3_files = 334\n",
    "nr_noise_i3_files = 7001\n",
    "\n",
    "nr_muon_i3_files = 11230 - 7002-334-1518-602\n",
    "\n",
    "\n",
    "nr_electron_neutrinos_total = 8118575 + 183333\n",
    "nr_muon_neutrinos_total = 19923619 + 183333\n",
    "nr_tau_neutrinos_total = 8702748 + 183333\n",
    "nr_muon_total = 15990173\n",
    "nr_noise_total = 15186239\n",
    "\n",
    "nr_electron_neutrinos_test =8118575 + 183333\n",
    "nr_muon_neutrinos_test = 19923619 + 183333\n",
    "nr_tau_neutrinos_test =8702748 + 183333\n",
    "nr_muon_test = nr_muon_total\n",
    "nr_noise_test = nr_noise_total\n",
    "\n",
    "electron_neutrino_add_weight = 1/(nr_electron_neutrino_i3_files*nr_electron_neutrinos_test/nr_electron_neutrinos_total)\n",
    "muon_neutrino_add_weight = 1/(nr_muon_neutrino_i3_files*nr_muon_neutrinos_test/nr_muon_neutrinos_total)\n",
    "tau_neutrino_add_weight = 1/(nr_tau_neutrino_i3_files*nr_tau_neutrinos_test/nr_tau_neutrinos_total)\n",
    "muon_add_weight = 1/(nr_muon_i3_files*nr_muon_test/nr_muon_total)\n",
    "noise_add_weight = 1/(nr_noise_i3_files*nr_noise_test/nr_noise_total)\n",
    "print(electron_neutrino_add_weight,muon_neutrino_add_weight,tau_neutrino_add_weight)\n",
    "\n",
    "electron_neutrino_event_nos = multiclass_MC['event_no'][multiclass_MC['pid'].isin((-12,12))].to_list()\n",
    "muon_neutrino_event_nos = multiclass_MC['event_no'][multiclass_MC['pid'].isin((-14,14))].to_list()\n",
    "tau_neutrino_event_nos = multiclass_MC['event_no'][multiclass_MC['pid'].isin((-16,16))].to_list()\n",
    "muon_event_nos = multiclass_MC['event_no'][multiclass_MC['pid'].isin((-13,13))].to_list()\n",
    "noise_event_nos = multiclass_MC['event_no'][multiclass_MC['pid'].isin((-1,1))].to_list()\n",
    "neutrino_event_nos = multiclass_MC['event_no'][multiclass_MC['pid'].isin((-12,12,-14,14,-16,16))].to_list()\n",
    "\n",
    "print(osc_weight_and_lvl_3_bool['osc_weight'][osc_weight_and_lvl_3_bool['event_no'].isin((electron_neutrino_event_nos))].head(10))\n",
    "osc_weight_and_lvl_3_bool['osc_weight'][osc_weight_and_lvl_3_bool['event_no'].isin((electron_neutrino_event_nos))] *= electron_neutrino_add_weight\n",
    "print(osc_weight_and_lvl_3_bool['osc_weight'][osc_weight_and_lvl_3_bool['event_no'].isin((electron_neutrino_event_nos))].head(10))\n",
    "osc_weight_and_lvl_3_bool['osc_weight'][osc_weight_and_lvl_3_bool['event_no'].isin((muon_neutrino_event_nos))] *= muon_neutrino_add_weight\n",
    "osc_weight_and_lvl_3_bool['osc_weight'][osc_weight_and_lvl_3_bool['event_no'].isin((tau_neutrino_event_nos))] *= tau_neutrino_add_weight\n",
    "osc_weight_and_lvl_3_bool['osc_weight'][osc_weight_and_lvl_3_bool['event_no'].isin((muon_event_nos))] *= muon_add_weight\n",
    "osc_weight_and_lvl_3_bool['osc_weight'][osc_weight_and_lvl_3_bool['event_no'].isin((noise_event_nos))] *= noise_add_weight"
   ]
  },
  {
   "cell_type": "code",
   "execution_count": 15,
   "metadata": {},
   "outputs": [],
   "source": [
    "#track_cascade_MC = pd.merge(track_cascade_MC.reset_index(drop=True),osc_weight_MC.reset_index(drop=True),on='event_no',how='inner').reset_index(drop=True)\n",
    "# energy_MC = pd.merge(energy_MC.reset_index(drop=True),osc_weight_MC.reset_index(drop=True),on='event_no',how='inner').reset_index(drop=True)\n",
    "# zenith_MC = pd.merge(zenith_MC.reset_index(drop=True),osc_weight_MC.reset_index(drop=True),on='event_no',how='inner').reset_index(drop=True)\n",
    "# azimuth_MC = pd.merge(azimuth_MC.reset_index(drop=True),osc_weight_MC.reset_index(drop=True),on='event_no',how='inner').reset_index(drop=True)\n",
    "# multiclass_MC = pd.merge(multiclass_MC.reset_index(drop=True),osc_weight_MC.reset_index(drop=True),on='event_no',how='inner').reset_index(drop=True)\n",
    "# position_MC = pd.merge(position_MC.reset_index(drop=True),osc_weight_MC.reset_index(drop=True),on='event_no',how='inner').reset_index(drop=True)"
   ]
  },
  {
   "cell_type": "code",
   "execution_count": 16,
   "metadata": {},
   "outputs": [],
   "source": [
    "multiclass_MC = pd.merge(multiclass_MC.reset_index(drop=True),osc_weight_and_lvl_3_bool.reset_index(drop=True),on='event_no',how='inner').reset_index(drop=True)"
   ]
  },
  {
   "cell_type": "code",
   "execution_count": null,
   "metadata": {},
   "outputs": [],
   "source": []
  },
  {
   "cell_type": "code",
   "execution_count": 17,
   "metadata": {},
   "outputs": [],
   "source": [
    "Burnsample_weight = 1/(365.2425*24*3600*10*0.01)\n",
    "\n",
    "multiclass_RD['osc_weight'] = np.ones(len(multiclass_RD))*Burnsample_weight "
   ]
  },
  {
   "cell_type": "code",
   "execution_count": 18,
   "metadata": {},
   "outputs": [],
   "source": [
    "neutrino_cut = 12\n",
    "pure_selection_MC_neutrinos = multiclass_MC['event_no'][(multiclass_MC['pid_neutrino_pred_logit']>neutrino_cut) & (multiclass_MC['pid'].isin((-12,12,-14,14,-16,16)))]\n",
    "pure_selection_MC_electron_neutrinos = multiclass_MC['event_no'][(multiclass_MC['pid_neutrino_pred_logit']>neutrino_cut) & (multiclass_MC['pid'].isin((-12,12)))]\n",
    "pure_selection_MC_muon_neutrinos = multiclass_MC['event_no'][(multiclass_MC['pid_neutrino_pred_logit']>neutrino_cut) & (multiclass_MC['pid'].isin((-14,14)))]\n",
    "pure_selection_MC_tau_neutrinos = multiclass_MC['event_no'][(multiclass_MC['pid_neutrino_pred_logit']>neutrino_cut) & (multiclass_MC['pid'].isin((-16,16)))]\n",
    "pure_selection_MC_noise = multiclass_MC['event_no'][(multiclass_MC['pid_neutrino_pred_logit']>neutrino_cut) & (multiclass_MC['pid'].isin((-1,1)))]\n",
    "pure_selection_MC_muons = multiclass_MC['event_no'][(multiclass_MC['pid_neutrino_pred_logit']>neutrino_cut) & (multiclass_MC['pid'].isin((-13,13)))]\n",
    "pure_selection_RD = multiclass_RD['event_no'][multiclass_RD['pid_neutrino_pred_logit']>neutrino_cut]"
   ]
  },
  {
   "cell_type": "code",
   "execution_count": 19,
   "metadata": {},
   "outputs": [
    {
     "name": "stdout",
     "output_type": "stream",
     "text": [
      "this is the number of muons surviving 447\n",
      "this is the number of noise surviving 12\n",
      "this is the number of neutrinos surviving 12863658\n",
      "this is the number of electron neutrinos surviving 2989456\n",
      "this is the number of muon neutrinos surviving 6577461\n",
      "this is the number of tau neutrinos surviving 3296741\n",
      "this is the rate of muons surviving 5.915943271478376e-05\n",
      "this is the rate of noise surviving 5.234584982987059e-06\n",
      "this is the rate of neutrinos surviving 0.0028260181148384205\n",
      "this is the rate of electron neutrinos surviving 0.0005732844285600554\n",
      "this is the rate of muon neutrinos surviving 0.0021409245515398153\n",
      "this is the rate of tau neutrinos surviving 0.00011180913473855145\n",
      "this is the RD rate that survives: 0.00577558948025145\n"
     ]
    }
   ],
   "source": [
    "print('this is the number of muons surviving',len(multiclass_MC['osc_weight'][multiclass_MC['event_no'].isin(pure_selection_MC_muons.to_list())]))\n",
    "print('this is the number of noise surviving',len(multiclass_MC['osc_weight'][multiclass_MC['event_no'].isin(pure_selection_MC_noise.to_list())]))\n",
    "print('this is the number of neutrinos surviving',len(multiclass_MC['osc_weight'][multiclass_MC['event_no'].isin(pure_selection_MC_neutrinos.to_list())]))\n",
    "print('this is the number of electron neutrinos surviving',len(multiclass_MC['osc_weight'][multiclass_MC['event_no'].isin(pure_selection_MC_electron_neutrinos.to_list())]))\n",
    "print('this is the number of muon neutrinos surviving',len(multiclass_MC['osc_weight'][multiclass_MC['event_no'].isin(pure_selection_MC_muon_neutrinos.to_list())]))\n",
    "print('this is the number of tau neutrinos surviving',len(multiclass_MC['osc_weight'][multiclass_MC['event_no'].isin(pure_selection_MC_tau_neutrinos.to_list())]))\n",
    "\n",
    "print('this is the rate of muons surviving',np.sum(multiclass_MC['osc_weight'][multiclass_MC['event_no'].isin(pure_selection_MC_muons.to_list())]))\n",
    "print('this is the rate of noise surviving',np.sum(multiclass_MC['osc_weight'][multiclass_MC['event_no'].isin(pure_selection_MC_noise.to_list())]))\n",
    "print('this is the rate of neutrinos surviving',np.sum(multiclass_MC['osc_weight'][multiclass_MC['event_no'].isin(pure_selection_MC_neutrinos.to_list())]))\n",
    "print('this is the rate of electron neutrinos surviving',np.sum(multiclass_MC['osc_weight'][multiclass_MC['event_no'].isin(pure_selection_MC_electron_neutrinos.to_list())]))\n",
    "print('this is the rate of muon neutrinos surviving',np.sum(multiclass_MC['osc_weight'][multiclass_MC['event_no'].isin(pure_selection_MC_muon_neutrinos.to_list())]))\n",
    "print('this is the rate of tau neutrinos surviving',np.sum(multiclass_MC['osc_weight'][multiclass_MC['event_no'].isin(pure_selection_MC_tau_neutrinos.to_list())]))\n",
    "\n",
    "print('this is the RD rate that survives:',np.sum(multiclass_RD['osc_weight'][multiclass_RD['event_no'].isin(pure_selection_RD.to_list())]))"
   ]
  },
  {
   "cell_type": "code",
   "execution_count": 20,
   "metadata": {},
   "outputs": [
    {
     "name": "stdout",
     "output_type": "stream",
     "text": [
      "fraction passed MC =  0.3666082952968667\n",
      "fraction passed RD =  0.036074197898271945\n",
      "THIS IS AFTER LVL3 filter\n",
      "this is the number of muons surviving 347\n",
      "this is the number of noise surviving 0\n",
      "this is the number of neutrinos surviving 9756657\n",
      "this is the number of electron neutrinos surviving 2286907\n",
      "this is the number of muon neutrinos surviving 4991600\n",
      "this is the number of tau neutrinos surviving 2478150\n",
      "this is the rate of muons surviving 2.6019735844285416e-05\n",
      "this is the rate of noise surviving 0.0\n",
      "this is the rate of neutrinos surviving 0.002224605199526865\n",
      "this is the rate of electron neutrinos surviving 0.0004757926963357428\n",
      "this is the rate of muon neutrinos surviving 0.001652271404858608\n",
      "this is the rate of tau neutrinos surviving 9.654109833251053e-05\n",
      "this is the RD rate that survives: 0.002773715281501204\n"
     ]
    }
   ],
   "source": [
    "lvl3_MC_passed_event_nos = multiclass_MC['event_no'][multiclass_MC['L3_oscNext_bool'] == 1].to_list()\n",
    "lvl3_RD_passed_event_nos = lvl3_RD['event_no'][lvl3_RD['L3_oscNext_bool'] == 1].to_list()\n",
    "print('fraction passed MC = ',len(lvl3_MC_passed_event_nos)/len(multiclass_MC))\n",
    "print('fraction passed RD = ',len(lvl3_RD_passed_event_nos)/len(lvl3_RD))\n",
    "\n",
    "\n",
    "multiclass_RD = multiclass_RD[multiclass_RD['event_no'].isin(lvl3_RD_passed_event_nos)]\n",
    "\n",
    "# energy_MC = energy_MC[energy_MC['event_no'].isin(lvl3_MC_passed_event_nos)]\n",
    "# zenith_MC = zenith_MC[zenith_MC['event_no'].isin(lvl3_MC_passed_event_nos)]\n",
    "# azimuth_MC = azimuth_MC[azimuth_MC['event_no'].isin(lvl3_MC_passed_event_nos)]\n",
    "multiclass_MC = multiclass_MC[multiclass_MC['event_no'].isin(lvl3_MC_passed_event_nos)]\n",
    "# position_MC = position_MC[position_MC['event_no'].isin(lvl3_MC_passed_event_nos)]\n",
    "\n",
    "print('THIS IS AFTER LVL3 filter')\n",
    "print('this is the number of muons surviving',len(multiclass_MC['osc_weight'][multiclass_MC['event_no'].isin(pure_selection_MC_muons.to_list())]))\n",
    "print('this is the number of noise surviving',len(multiclass_MC['osc_weight'][multiclass_MC['event_no'].isin(pure_selection_MC_noise.to_list())]))\n",
    "print('this is the number of neutrinos surviving',len(multiclass_MC['osc_weight'][multiclass_MC['event_no'].isin(pure_selection_MC_neutrinos.to_list())]))\n",
    "print('this is the number of electron neutrinos surviving',len(multiclass_MC['osc_weight'][multiclass_MC['event_no'].isin(pure_selection_MC_electron_neutrinos.to_list())]))\n",
    "print('this is the number of muon neutrinos surviving',len(multiclass_MC['osc_weight'][multiclass_MC['event_no'].isin(pure_selection_MC_muon_neutrinos.to_list())]))\n",
    "print('this is the number of tau neutrinos surviving',len(multiclass_MC['osc_weight'][multiclass_MC['event_no'].isin(pure_selection_MC_tau_neutrinos.to_list())]))\n",
    "\n",
    "print('this is the rate of muons surviving',np.sum(multiclass_MC['osc_weight'][multiclass_MC['event_no'].isin(pure_selection_MC_muons.to_list())]))\n",
    "print('this is the rate of noise surviving',np.sum(multiclass_MC['osc_weight'][multiclass_MC['event_no'].isin(pure_selection_MC_noise.to_list())]))\n",
    "print('this is the rate of neutrinos surviving',np.sum(multiclass_MC['osc_weight'][multiclass_MC['event_no'].isin(pure_selection_MC_neutrinos.to_list())]))\n",
    "print('this is the rate of electron neutrinos surviving',np.sum(multiclass_MC['osc_weight'][multiclass_MC['event_no'].isin(pure_selection_MC_electron_neutrinos.to_list())]))\n",
    "print('this is the rate of muon neutrinos surviving',np.sum(multiclass_MC['osc_weight'][multiclass_MC['event_no'].isin(pure_selection_MC_muon_neutrinos.to_list())]))\n",
    "print('this is the rate of tau neutrinos surviving',np.sum(multiclass_MC['osc_weight'][multiclass_MC['event_no'].isin(pure_selection_MC_tau_neutrinos.to_list())]))\n",
    "\n",
    "print('this is the RD rate that survives:',np.sum(multiclass_RD['osc_weight'][multiclass_RD['event_no'].isin(pure_selection_RD.to_list())]))"
   ]
  },
  {
   "cell_type": "code",
   "execution_count": 21,
   "metadata": {},
   "outputs": [
    {
     "name": "stdout",
     "output_type": "stream",
     "text": [
      "this is the total final rate: 0.00225062493537115\n",
      "this is the percent of muons surviving 1.1561115952887329\n",
      "this is the percent of noise surviving 0.0\n",
      "this is the percent of neutrinos surviving 98.84388840471128\n",
      "this is the percent of electron neutrinos surviving 21.14047031373888\n",
      "this is the percent of muon neutrinos surviving 73.41389402077927\n",
      "this is the percent of tau neutrinos surviving 4.289524070192973\n"
     ]
    }
   ],
   "source": [
    "muon_final_rate = np.sum(multiclass_MC['osc_weight'][multiclass_MC['event_no'].isin(pure_selection_MC_muons.to_list())])\n",
    "noise_final_rate = np.sum(multiclass_MC['osc_weight'][multiclass_MC['event_no'].isin(pure_selection_MC_noise.to_list())])\n",
    "neutrinos_final_rate = np.sum(multiclass_MC['osc_weight'][multiclass_MC['event_no'].isin(pure_selection_MC_neutrinos.to_list())])\n",
    "electron_neutrinos_final_rate = np.sum(multiclass_MC['osc_weight'][multiclass_MC['event_no'].isin(pure_selection_MC_electron_neutrinos.to_list())])\n",
    "muon_neutrinos_final_rate = np.sum(multiclass_MC['osc_weight'][multiclass_MC['event_no'].isin(pure_selection_MC_muon_neutrinos.to_list())])\n",
    "tau_neutrinos_final_rate = np.sum(multiclass_MC['osc_weight'][multiclass_MC['event_no'].isin(pure_selection_MC_tau_neutrinos.to_list())])\n",
    "total_final_rate = neutrinos_final_rate + muon_final_rate + noise_final_rate\n",
    "\n",
    "print('this is the total final rate:',total_final_rate)\n",
    "print('this is the percent of muons surviving',muon_final_rate/total_final_rate*100)\n",
    "print('this is the percent of noise surviving',noise_final_rate/total_final_rate*100)\n",
    "print('this is the percent of neutrinos surviving',neutrinos_final_rate/total_final_rate*100)\n",
    "print('this is the percent of electron neutrinos surviving',electron_neutrinos_final_rate/total_final_rate*100)\n",
    "print('this is the percent of muon neutrinos surviving',muon_neutrinos_final_rate/total_final_rate*100)\n",
    "print('this is the percent of tau neutrinos surviving',tau_neutrinos_final_rate/total_final_rate*100)\n"
   ]
  },
  {
   "cell_type": "code",
   "execution_count": 22,
   "metadata": {},
   "outputs": [],
   "source": [
    "\n",
    "noise_rates = []\n",
    "muon_rates = []\n",
    "neutrino_rates = []\n",
    "electron_neutrino_rates = []\n",
    "muon_neutrino_rates = []\n",
    "tau_neutrino_rates = []\n",
    "RD_rates = []\n",
    "\n",
    "cuts = np.linspace(-17,16,34)\n",
    "for i in range(len(cuts)):\n",
    "    neutrino_cut = cuts[i]\n",
    "    pure_selection_MC_neutrinos = multiclass_MC['event_no'][(multiclass_MC['pid_neutrino_pred_logit']>neutrino_cut) & (multiclass_MC['pid'].isin((-12,12,-14,14,-16,16)))]\n",
    "    pure_selection_MC_electron_neutrinos = multiclass_MC['event_no'][(multiclass_MC['pid_neutrino_pred_logit']>neutrino_cut) & (multiclass_MC['pid'].isin((-12,12)))]\n",
    "    pure_selection_MC_muon_neutrinos = multiclass_MC['event_no'][(multiclass_MC['pid_neutrino_pred_logit']>neutrino_cut) & (multiclass_MC['pid'].isin((-14,14)))]\n",
    "    pure_selection_MC_tau_neutrinos = multiclass_MC['event_no'][(multiclass_MC['pid_neutrino_pred_logit']>neutrino_cut) & (multiclass_MC['pid'].isin((-16,16)))]\n",
    "    pure_selection_MC_noise = multiclass_MC['event_no'][(multiclass_MC['pid_neutrino_pred_logit']>neutrino_cut) & (multiclass_MC['pid'].isin((-1,1)))]\n",
    "    pure_selection_MC_muons = multiclass_MC['event_no'][(multiclass_MC['pid_neutrino_pred_logit']>neutrino_cut) & (multiclass_MC['pid'].isin((-13,13)))]\n",
    "    pure_selection_RD = multiclass_RD['event_no'][multiclass_RD['pid_neutrino_pred_logit']>neutrino_cut]\n",
    "\n",
    "    muon_rates.append(np.sum(multiclass_MC['osc_weight'][multiclass_MC['event_no'].isin(pure_selection_MC_muons.to_list())]))\n",
    "    noise_rates.append(np.sum(multiclass_MC['osc_weight'][multiclass_MC['event_no'].isin(pure_selection_MC_noise.to_list())]))\n",
    "    neutrino_rates.append(np.sum(multiclass_MC['osc_weight'][multiclass_MC['event_no'].isin(pure_selection_MC_neutrinos.to_list())]))\n",
    "    electron_neutrino_rates.append(np.sum(multiclass_MC['osc_weight'][multiclass_MC['event_no'].isin(pure_selection_MC_electron_neutrinos.to_list())]))\n",
    "    muon_neutrino_rates.append(np.sum(multiclass_MC['osc_weight'][multiclass_MC['event_no'].isin(pure_selection_MC_muon_neutrinos.to_list())]))\n",
    "    tau_neutrino_rates.append(np.sum(multiclass_MC['osc_weight'][multiclass_MC['event_no'].isin(pure_selection_MC_tau_neutrinos.to_list())]))\n",
    "    RD_rates.append(np.sum(multiclass_RD['osc_weight'][multiclass_RD['event_no'].isin(pure_selection_RD.to_list())]))\n",
    "\n",
    "    "
   ]
  },
  {
   "cell_type": "code",
   "execution_count": 23,
   "metadata": {},
   "outputs": [
    {
     "data": {
      "image/png": "[encoded data removed]",
      "text/plain": [
       "<Figure size 559.055x587.376 with 2 Axes>"
      ]
     },
     "metadata": {},
     "output_type": "display_data"
    }
   ],
   "source": [
    "figure_size = set_size('thesis',subplots = (2,1))\n",
    "figure_size_yfrac = 0.85\n",
    "fig, axs = plt.subplots(2,1,figsize=(figure_size[0],figure_size[1]*figure_size_yfrac),sharex=True,height_ratios=[3, 1])\n",
    "\n",
    "\n",
    "axs[0].plot(cuts,neutrino_rates,label='Neutrinos',)\n",
    "axs[0].plot(cuts,muon_rates,label='Muons')\n",
    "axs[0].plot(cuts,noise_rates,label='Noise')\n",
    "axs[0].plot(cuts,electron_neutrino_rates,label='Electron neutrinos')\n",
    "axs[0].plot(cuts,muon_neutrino_rates,label='Muon neutrinos')\n",
    "axs[0].plot(cuts,tau_neutrino_rates,label='Tau neutrinos')\n",
    "axs[0].plot(cuts,RD_rates,'.',label='Data',linewidth=2.5)#,linestyle='dashed')\n",
    "axs[0].plot(cuts,np.array(neutrino_rates)+np.array(muon_rates)+np.array(noise_rates),label='MC total',color='k',linewidth=2.5)\n",
    "axs[0].set_ylabel('Rate (Hz)')\n",
    "axs[1].set_xlabel('Neutrino cut')\n",
    "axs[0].set_yscale('log')\n",
    "axs[0].set_xlim(right=20)\n",
    "axs[0].set_ylim(top=10)\n",
    "axs[0].legend()\n",
    "axs[0].grid(True)\n",
    "\n",
    "RD_MC_ratio = RD_rates/(np.array(neutrino_rates)+np.array(muon_rates)+np.array(noise_rates))\n",
    "axs[1].set_ylabel('Ratio')\n",
    "axs[1].plot(cuts,RD_MC_ratio,'.',color='red',label='Data / MC')\n",
    "axs[1].hlines(RD_MC_ratio[0],np.min(cuts)-0.02,np.max(cuts)+0.02,color='k',linestyles='dashed')\n",
    "axs[1].legend()\n",
    "fig.tight_layout()\n",
    "outdir = outdir\n",
    "fig.savefig(outdir+ 'MC_vs_retro_selection_old_muons_and_more_noise.png', format='png', bbox_inches='tight')"
   ]
  },
  {
   "cell_type": "code",
   "execution_count": 24,
   "metadata": {},
   "outputs": [
    {
     "name": "stdout",
     "output_type": "stream",
     "text": [
      "0.46651965324315825\n",
      "0.7057766542218613\n",
      "-16.118095550958316\n"
     ]
    }
   ],
   "source": [
    "print(np.sum(multiclass_MC['osc_weight']))\n",
    "print(np.sum(multiclass_RD['osc_weight']))\n",
    "print(np.min(multiclass_MC['pid_neutrino_pred_logit']))"
   ]
  },
  {
   "cell_type": "code",
   "execution_count": 25,
   "metadata": {},
   "outputs": [
    {
     "name": "stdout",
     "output_type": "stream",
     "text": [
      "15.0\n",
      "muon 3.3215935565800185e-06\n",
      "noise 0.0\n",
      "neutrino 0.0009407730279523337\n",
      "0.00018486375896738203\n",
      "0.0007150474863055387\n",
      "4.086178267941191e-05\n",
      "0.0011747015364474997\n"
     ]
    }
   ],
   "source": [
    "i=32\n",
    "print(cuts[i])\n",
    "print('muon',muon_rates[i])\n",
    "print('noise',noise_rates[i])\n",
    "print('neutrino',neutrino_rates[i])\n",
    "print(electron_neutrino_rates[i])\n",
    "print(muon_neutrino_rates[i])\n",
    "print(tau_neutrino_rates[i])\n",
    "print(RD_rates[i])"
   ]
  },
  {
   "cell_type": "code",
   "execution_count": null,
   "metadata": {},
   "outputs": [],
   "source": []
  }
 ],
 "metadata": {
  "kernelspec": {
   "display_name": "graphnet",
   "language": "python",
   "name": "python3"
  },
  "language_info": {
   "codemirror_mode": {
    "name": "ipython",
    "version": 3
   },
   "file_extension": ".py",
   "mimetype": "text/x-python",
   "name": "python",
   "nbconvert_exporter": "python",
   "pygments_lexer": "ipython3",
   "version": "3.8.15"
  },
  "orig_nbformat": 4,
  "vscode": {
   "interpreter": {
    "hash": "f8d6fa195492ab7b6c0e437eb2aec4cd83dac16aa95613845cf8e9e173beed9d"
   }
  }
 },
 "nbformat": 4,
 "nbformat_minor": 2
}
