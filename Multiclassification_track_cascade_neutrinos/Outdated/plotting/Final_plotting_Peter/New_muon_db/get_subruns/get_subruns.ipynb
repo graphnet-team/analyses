{
 "cells": [
  {
   "cell_type": "code",
   "execution_count": 2,
   "metadata": {},
   "outputs": [],
   "source": [
    "import sqlite3 as sql\n",
    "\n",
    "import numpy as np\n",
    "import pandas as pd\n",
    "from pandas import cut, read_sql\n",
    "import pickle as pkl\n",
    "from random import choices\n",
    "from sklearn import metrics\n",
    "import matplotlib.pyplot as plt\n",
    "import matplotlib.colors as colors\n",
    "import scipy.optimize as optimize\n",
    "#from standard_plotting import set_size"
   ]
  },
  {
   "cell_type": "code",
   "execution_count": 3,
   "metadata": {},
   "outputs": [],
   "source": [
    "runs = pd.read_csv('/groups/icecube/peter/workspace/analyses/multi_classification_on_stop_and_track_muons/plotting/Final_plotting_Peter/New_muon_db/get_subruns/source_i3files.csv')"
   ]
  },
  {
   "cell_type": "code",
   "execution_count": 8,
   "metadata": {},
   "outputs": [],
   "source": [
    "filename_list = runs['filename'].to_list()"
   ]
  },
  {
   "cell_type": "code",
   "execution_count": 16,
   "metadata": {},
   "outputs": [],
   "source": [
    "data_initial_path = filename_list[0][:47]"
   ]
  },
  {
   "cell_type": "code",
   "execution_count": 31,
   "metadata": {},
   "outputs": [
    {
     "name": "stdout",
     "output_type": "stream",
     "text": [
      "oscNext_data_IC86.15_level3_v02.00_pass2_Run00126893_Subrun00000000\n",
      "Run00126893_Subrun00000000\n"
     ]
    }
   ],
   "source": [
    "print(filename_list[0][-74:-7])\n",
    "print(filename_list[0][-33:-7])"
   ]
  },
  {
   "cell_type": "code",
   "execution_count": 32,
   "metadata": {},
   "outputs": [],
   "source": [
    "filename_list_only_data = []\n",
    "filename_list_only_data_only_run_and_subrun = []\n",
    "for i in range(len(filename_list)):\n",
    "    if filename_list[i][:47] == data_initial_path:\n",
    "        filename_list_only_data.append(filename_list[i][-74:-7])\n",
    "        filename_list_only_data_only_run_and_subrun.append(filename_list[i][-33:-7])"
   ]
  },
  {
   "cell_type": "code",
   "execution_count": 40,
   "metadata": {},
   "outputs": [
    {
     "name": "stdout",
     "output_type": "stream",
     "text": [
      "32879\n"
     ]
    }
   ],
   "source": [
    "print(len(filename_list_only_data))"
   ]
  },
  {
   "cell_type": "code",
   "execution_count": 41,
   "metadata": {},
   "outputs": [],
   "source": [
    "# list of name, degree, score \n",
    "     \n",
    "# dictionary of lists  \n",
    "dict = {'i3_files_with_year': filename_list_only_data, 'i3_files_only_run_and_subrun': filename_list_only_data_only_run_and_subrun}  \n",
    "       \n",
    "df = pd.DataFrame(dict) \n",
    "    \n",
    "# saving the dataframe \n",
    "df.to_csv('/groups/icecube/peter/workspace/analyses/multi_classification_on_stop_and_track_muons/plotting/Final_plotting_Peter/New_muon_db/get_subruns/I3Files_to_Tom.csv',index=False)"
   ]
  },
  {
   "cell_type": "code",
   "execution_count": null,
   "metadata": {},
   "outputs": [],
   "source": []
  }
 ],
 "metadata": {
  "kernelspec": {
   "display_name": "graphnet",
   "language": "python",
   "name": "python3"
  },
  "language_info": {
   "codemirror_mode": {
    "name": "ipython",
    "version": 3
   },
   "file_extension": ".py",
   "mimetype": "text/x-python",
   "name": "python",
   "nbconvert_exporter": "python",
   "pygments_lexer": "ipython3",
   "version": "3.8.15"
  },
  "orig_nbformat": 4
 },
 "nbformat": 4,
 "nbformat_minor": 2
}
