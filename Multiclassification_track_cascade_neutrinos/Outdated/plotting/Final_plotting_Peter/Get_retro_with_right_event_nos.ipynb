{
 "cells": [
  {
   "cell_type": "code",
   "execution_count": 1,
   "metadata": {},
   "outputs": [],
   "source": [
    "import sqlite3 as sql\n",
    "\n",
    "import numpy as np\n",
    "import pandas as pd\n",
    "from pandas import cut, read_sql\n",
    "import pickle as pkl\n",
    "from random import choices\n",
    "from sklearn import metrics\n",
    "import matplotlib.pyplot as plt\n",
    "import matplotlib.colors as colors\n",
    "import scipy.optimize as optimize"
   ]
  },
  {
   "cell_type": "code",
   "execution_count": 2,
   "metadata": {},
   "outputs": [],
   "source": [
    "indir_lvl7 = \"/groups/icecube/petersen/GraphNetDatabaseRepository/genie_level7_v02.00_neutrinos/merged_db/osc_next_level7_v2.00_genie_120000_140000_160000_truth_and_retro.db\"\n",
    "indir_New_muon_db = \"/groups/icecube/petersen/GraphNetDatabaseRepository/osc_next_database_new_muons_peter/Merged_db/osc_next_level3_v2.00_genie_muongun_noise_120000_140000_160000_139008_888003_retro.db\"\n",
    "\n",
    "#Load in truth data\n",
    "with sql.connect(indir_lvl7) as con:\n",
    "    query = \"\"\"\n",
    "    SELECT\n",
    "        event_no,L7_oscNext_bool, EventID, RunID, SubEventID, SubrunID\n",
    "    FROM \n",
    "        truth\n",
    "    \"\"\"\n",
    "    truth_lvl7 = read_sql(query,con)\n",
    "#azimuth_retro, azimuth_sigma, cascade_energy_retro, energy_retro, energy_sigma, event_no, osc_weight, position_x_retro, position_x_sigma, position_y_retro, position_y_sigma, position_z_retro, position_z_sigma, time_retro, time_sigma, track_energy_retro, track_length_retro, zenith_retro, zenith_sigma\n",
    "with sql.connect(indir_lvl7) as con:\n",
    "    query = \"\"\"\n",
    "    SELECT\n",
    "        *\n",
    "    FROM \n",
    "        retro\n",
    "    \"\"\"\n",
    "    retro = read_sql(query,con)\n",
    "\n",
    "with sql.connect(indir_New_muon_db) as con:\n",
    "    query = \"\"\"\n",
    "    SELECT\n",
    "        event_no, EventID, RunID, SubEventID, SubrunID\n",
    "    FROM \n",
    "        truth\n",
    "    \"\"\"\n",
    "    truth_new_muon = read_sql(query,con)"
   ]
  },
  {
   "cell_type": "code",
   "execution_count": 3,
   "metadata": {},
   "outputs": [
    {
     "name": "stdout",
     "output_type": "stream",
     "text": [
      "8131391\n",
      "8131391\n",
      "38885781\n",
      "8131391\n",
      "   event_no  L7_oscNext_bool  EventID     RunID  SubEventID  SubrunID  \\\n",
      "0         0              1.0     34.0  120000.0         0.0     307.0   \n",
      "\n",
      "   L4_MuonClassifier_Data_ProbNu  L4_NoiseClassifier_ProbNu  \\\n",
      "0                        0.98801                   0.993759   \n",
      "\n",
      "   L7_MuonClassifier_FullSky_ProbNu  L7_PIDClassifier_FullSky_ProbTrack  ...  \\\n",
      "0                          1.022882                            0.340917  ...   \n",
      "\n",
      "   position_y_retro  position_y_sigma  position_z_retro  position_z_sigma  \\\n",
      "0        -71.288994          5.285423       -393.254089          2.754913   \n",
      "\n",
      "   time_retro  time_sigma  track_energy_retro  track_length_retro  \\\n",
      "0  9815.21582   22.275391            0.875477            3.912292   \n",
      "\n",
      "   zenith_retro  zenith_sigma  \n",
      "0      1.567303      0.469186  \n",
      "\n",
      "[1 rows x 28 columns]\n",
      "8131391\n",
      "   event_no_old  L7_oscNext_bool  EventID     RunID  SubEventID  SubrunID  \\\n",
      "0             0              1.0     34.0  120000.0         0.0     307.0   \n",
      "\n",
      "   L4_MuonClassifier_Data_ProbNu  L4_NoiseClassifier_ProbNu  \\\n",
      "0                        0.98801                   0.993759   \n",
      "\n",
      "   L7_MuonClassifier_FullSky_ProbNu  L7_PIDClassifier_FullSky_ProbTrack  ...  \\\n",
      "0                          1.022882                            0.340917  ...   \n",
      "\n",
      "   position_y_sigma  position_z_retro  position_z_sigma  time_retro  \\\n",
      "0          5.285423       -393.254089          2.754913  9815.21582   \n",
      "\n",
      "   time_sigma  track_energy_retro  track_length_retro  zenith_retro  \\\n",
      "0   22.275391            0.875477            3.912292      1.567303   \n",
      "\n",
      "   zenith_sigma  event_no  \n",
      "0      0.469186  24137225  \n",
      "\n",
      "[1 rows x 29 columns]\n"
     ]
    }
   ],
   "source": [
    "print(len(truth_lvl7))\n",
    "print(len(retro))\n",
    "print(len(truth_new_muon))\n",
    "\n",
    "merged_lvl7 = pd.merge(truth_lvl7.reset_index(drop=True), retro.reset_index(drop=True), on='event_no',how='inner')\n",
    "print(len(merged_lvl7))\n",
    "print(merged_lvl7.head(1))\n",
    "\n",
    "merged_lvl7.rename(columns={\"event_no\": \"event_no_old\"},inplace=True)\n",
    "\n",
    "retro_with_good_event_no = pd.merge(merged_lvl7.reset_index(drop=True), truth_new_muon.reset_index(drop=True), on=['RunID', 'SubrunID', 'EventID', 'SubEventID'],how='inner')\n",
    "print(len(retro_with_good_event_no))\n",
    "print(retro_with_good_event_no.head(1))"
   ]
  },
  {
   "cell_type": "code",
   "execution_count": 4,
   "metadata": {},
   "outputs": [
    {
     "name": "stdout",
     "output_type": "stream",
     "text": [
      "8130763.0\n",
      "Index(['L7_oscNext_bool', 'EventID', 'RunID', 'SubEventID', 'SubrunID',\n",
      "       'L4_MuonClassifier_Data_ProbNu', 'L4_NoiseClassifier_ProbNu',\n",
      "       'L7_MuonClassifier_FullSky_ProbNu',\n",
      "       'L7_PIDClassifier_FullSky_ProbTrack', 'azimuth_retro', 'azimuth_sigma',\n",
      "       'cascade_energy_retro', 'energy_retro', 'energy_sigma', 'osc_weight',\n",
      "       'position_x_retro', 'position_x_sigma', 'position_y_retro',\n",
      "       'position_y_sigma', 'position_z_retro', 'position_z_sigma',\n",
      "       'time_retro', 'time_sigma', 'track_energy_retro', 'track_length_retro',\n",
      "       'zenith_retro', 'zenith_sigma', 'event_no'],\n",
      "      dtype='object')\n"
     ]
    }
   ],
   "source": [
    "#Drop something\n",
    "retro_with_good_event_no.drop(columns='event_no_old',inplace=True)\n",
    "print(np.sum(retro_with_good_event_no['L7_oscNext_bool']))\n",
    "print(retro_with_good_event_no.columns)"
   ]
  },
  {
   "cell_type": "code",
   "execution_count": 5,
   "metadata": {},
   "outputs": [],
   "source": [
    "output_location = \"/groups/icecube/petersen/GraphNetDatabaseRepository/multi_classification_track_cascade_neutrino/using_new_muons_Peter_database/inference/Retro/\"\n",
    "retro_with_good_event_no.to_csv(output_location+'retro_on_new_muon_test_set_2',index=False)"
   ]
  },
  {
   "cell_type": "code",
   "execution_count": null,
   "metadata": {},
   "outputs": [],
   "source": []
  },
  {
   "cell_type": "code",
   "execution_count": 13,
   "metadata": {},
   "outputs": [
    {
     "name": "stdout",
     "output_type": "stream",
     "text": [
      "(37294941, 5)\n",
      "(98212967, 5)\n"
     ]
    }
   ],
   "source": []
  },
  {
   "cell_type": "code",
   "execution_count": null,
   "metadata": {},
   "outputs": [],
   "source": []
  },
  {
   "cell_type": "code",
   "execution_count": null,
   "metadata": {},
   "outputs": [
    {
     "name": "stdout",
     "output_type": "stream",
     "text": [
      "   old_event_no     RunID  SubrunID  EventID  SubEventID  event_no  osc_weight\n",
      "0             0  888003.0    5450.0      0.0         0.0  55418455    0.003054\n",
      "1             1  888003.0    5450.0      1.0         0.0  55418456    0.003054\n",
      "2             2  888003.0    5450.0      3.0         0.0  55418457    0.003054\n",
      "3             3  888003.0    5450.0      5.0         0.0  55418458    0.003054\n",
      "4             4  888003.0    5450.0     11.0         0.0  55418459    0.003054\n",
      "5             5  888003.0    5450.0     20.0         0.0  55418460    0.003054\n",
      "6             6  888003.0    5450.0     22.0         0.0  55418461    0.003054\n",
      "7             7  888003.0    5450.0     23.0         0.0  55418462    0.003054\n",
      "8             8  888003.0    5450.0     26.0         0.0  55418464    0.003054\n",
      "9             9  888003.0    5450.0     28.0         0.0  55418465    0.003054\n",
      "55418458    0.003054\n",
      "Name: osc_weight, dtype: float64\n"
     ]
    }
   ],
   "source": []
  },
  {
   "cell_type": "code",
   "execution_count": 16,
   "metadata": {},
   "outputs": [],
   "source": [
    "# output_location = \"/groups/icecube/petersen/GraphNetDatabaseRepository/multi_classification_track_cascade_neutrino/using_MP_lvl3/inference/event_selections/osc_weights.csv\"\n",
    "# merged_df.to_csv(output_location,index=False,columns=('event_no','osc_weight'))"
   ]
  },
  {
   "cell_type": "code",
   "execution_count": null,
   "metadata": {},
   "outputs": [],
   "source": []
  }
 ],
 "metadata": {
  "kernelspec": {
   "display_name": "graphnet",
   "language": "python",
   "name": "python3"
  },
  "language_info": {
   "codemirror_mode": {
    "name": "ipython",
    "version": 3
   },
   "file_extension": ".py",
   "mimetype": "text/x-python",
   "name": "python",
   "nbconvert_exporter": "python",
   "pygments_lexer": "ipython3",
   "version": "3.8.15"
  },
  "orig_nbformat": 4,
  "vscode": {
   "interpreter": {
    "hash": "f8d6fa195492ab7b6c0e437eb2aec4cd83dac16aa95613845cf8e9e173beed9d"
   }
  }
 },
 "nbformat": 4,
 "nbformat_minor": 2
}
