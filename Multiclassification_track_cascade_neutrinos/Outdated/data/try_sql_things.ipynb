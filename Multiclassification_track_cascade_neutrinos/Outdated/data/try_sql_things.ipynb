{
 "cells": [
  {
   "cell_type": "code",
   "execution_count": 72,
   "metadata": {},
   "outputs": [],
   "source": [
    "import sqlite3 as sqlite3\n",
    "\n",
    "import numpy as np\n",
    "import pandas as pd\n",
    "from pandas import cut, read_sql\n",
    "import pickle as pkl\n",
    "from random import choices\n",
    "from sklearn import metrics\n",
    "import matplotlib.pyplot as plt\n",
    "import matplotlib.colors as colors\n",
    "import scipy.optimize as optimize\n",
    "\n",
    "indir_db = \"/groups/icecube/petersen/GraphNetDatabaseRepository/dev_lvl3_genie_burnsample/dev_lvl3_genie_burnsample_v5.db\"\n",
    "ourdir_db = \"/groups/icecube/peter/storage/Multiclassification/Burn_sample_RD/dev_lvl3_genie_burnsample_v5_RD.db\"\n",
    "indir_list = \"/groups/icecube/peter/workspace/analyses/multi_classification_on_stop_and_track_muons/plotting/Comparison_RD_MC/dev_lvl3_genie_burnsample_RD_event_numbers.csv\""
   ]
  },
  {
   "cell_type": "code",
   "execution_count": 74,
   "metadata": {},
   "outputs": [
    {
     "ename": "MemoryError",
     "evalue": "",
     "output_type": "error",
     "traceback": [
      "\u001b[0;31m---------------------------------------------------------------------------\u001b[0m",
      "\u001b[0;31mMemoryError\u001b[0m                               Traceback (most recent call last)",
      "Cell \u001b[0;32mIn [74], line 13\u001b[0m\n\u001b[1;32m     10\u001b[0m src_cursor \u001b[39m=\u001b[39m src_conn\u001b[39m.\u001b[39mcursor()\n\u001b[1;32m     12\u001b[0m \u001b[39m# Select all rows from the source table where the event_no column is in the event_no_MC list\u001b[39;00m\n\u001b[0;32m---> 13\u001b[0m src_cursor\u001b[39m.\u001b[39;49mexecute(\u001b[39m\"\u001b[39;49m\u001b[39mSELECT * FROM truth WHERE event_no IN \u001b[39;49m\u001b[39m{}\u001b[39;49;00m\u001b[39m\"\u001b[39;49m\u001b[39m.\u001b[39;49mformat(\u001b[39mtuple\u001b[39;49m(event_no_RD)))\n\u001b[1;32m     15\u001b[0m \u001b[39m# Fetch all rows from the SELECT statement\u001b[39;00m\n\u001b[1;32m     16\u001b[0m rows \u001b[39m=\u001b[39m src_cursor\u001b[39m.\u001b[39mfetchall()\n",
      "\u001b[0;31mMemoryError\u001b[0m: "
     ]
    }
   ],
   "source": [
    "import sqlite3\n",
    "\n",
    "event_no_RD = pd.read_csv(indir_list).reset_index(drop = True)['event_no'].ravel().tolist()\n",
    "\n",
    "# Connect to the source and destination databases\n",
    "src_conn = sqlite3.connect(indir_db)\n",
    "dest_conn = sqlite3.connect(ourdir_db)\n",
    "\n",
    "# Create a cursor for the source database\n",
    "src_cursor = src_conn.cursor()\n",
    "\n",
    "# Select all rows from the source table where the event_no column is in the event_no_MC list\n",
    "src_cursor.execute(\"SELECT * FROM truth WHERE event_no IN {}\".format(tuple(event_no_RD)))\n",
    "\n",
    "# Fetch all rows from the SELECT statement\n",
    "rows = src_cursor.fetchall()\n",
    "\n",
    "# Execute the PRAGMA table_info command\n",
    "src_cursor.execute(\"PRAGMA table_info(truth)\")\n",
    "\n",
    "# Fetch the result set\n",
    "result = src_cursor.fetchall()\n",
    "\n",
    "# Extract the column names from the result set\n",
    "column_names = [(row[1]) for row in result]\n",
    "\n",
    "# Print the column names\n",
    "print('({})'.format(', '.join(map(str, column_names))))\n",
    "\n",
    "# Check if the destination table exists in the destination database\n",
    "dest_cursor = dest_conn.cursor()\n",
    "dest_cursor.execute(\"SELECT name FROM sqlite_master WHERE type='table' AND name='truth'\")\n",
    "if not dest_cursor.fetchone():\n",
    "    # If the destination table does not exist, create it\n",
    "    dest_cursor.execute(\"CREATE TABLE truth ({})\".format(', '.join(map(str, column_names))))\n",
    "\n",
    "# Iterate over the rows and insert them into the destination table\n",
    "for row in rows:\n",
    "    dest_conn.execute(\"INSERT INTO truth VALUES ({})\".format(','.join(['?'] * len(column_names))), row)\n",
    "\n",
    "# Commit the transaction to the destination database\n",
    "dest_conn.commit()\n",
    "\n",
    "# Close the connections to the databases\n",
    "src_conn.close()\n",
    "dest_conn.close()"
   ]
  },
  {
   "cell_type": "code",
   "execution_count": null,
   "metadata": {},
   "outputs": [
    {
     "name": "stdout",
     "output_type": "stream",
     "text": [
      "(?,?,?,?,?)\n"
     ]
    }
   ],
   "source": []
  },
  {
   "cell_type": "code",
   "execution_count": null,
   "metadata": {},
   "outputs": [],
   "source": []
  }
 ],
 "metadata": {
  "kernelspec": {
   "display_name": "graphnet",
   "language": "python",
   "name": "python3"
  },
  "language_info": {
   "codemirror_mode": {
    "name": "ipython",
    "version": 3
   },
   "file_extension": ".py",
   "mimetype": "text/x-python",
   "name": "python",
   "nbconvert_exporter": "python",
   "pygments_lexer": "ipython3",
   "version": "3.8.15"
  },
  "orig_nbformat": 4,
  "vscode": {
   "interpreter": {
    "hash": "f8d6fa195492ab7b6c0e437eb2aec4cd83dac16aa95613845cf8e9e173beed9d"
   }
  }
 },
 "nbformat": 4,
 "nbformat_minor": 2
}
