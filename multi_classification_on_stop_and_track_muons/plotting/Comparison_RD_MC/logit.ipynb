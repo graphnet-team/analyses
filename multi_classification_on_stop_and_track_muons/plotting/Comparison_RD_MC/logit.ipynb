{
 "cells": [
  {
   "cell_type": "code",
   "execution_count": 1,
   "metadata": {},
   "outputs": [],
   "source": [
    "import numpy as np\n",
    "import pandas as pd\n",
    "from pandas import cut, read_sql\n",
    "import pickle as pkl\n",
    "from random import choices\n",
    "from sklearn import metrics\n",
    "import matplotlib.pyplot as plt\n",
    "import matplotlib.colors as colors\n",
    "import scipy.optimize as optimize"
   ]
  },
  {
   "cell_type": "code",
   "execution_count": 2,
   "metadata": {},
   "outputs": [],
   "source": [
    "class display(object):\n",
    "    \"\"\"Display HTML representation of multiple objects\"\"\"\n",
    "    template = \"\"\"<div style=\"float: left; padding: 10px;\">\n",
    "    <p style='font-family:\"Courier New\", Courier, monospace'>{0}</p>{1}\n",
    "    </div>\"\"\"\n",
    "\n",
    "    def __init__(self, *args):\n",
    "        self.args = args\n",
    "\n",
    "    def _repr_html_(self):\n",
    "        return '\\n'.join(self.template.format(a, eval(a)._repr_html_())\n",
    "                     for a in self.args)\n",
    "\n",
    "    def __repr__(self):\n",
    "       return '\\n\\n'.join(a + '\\n' + repr(eval(a))\n",
    "                       for a in self.args)"
   ]
  },
  {
   "cell_type": "code",
   "execution_count": 3,
   "metadata": {},
   "outputs": [],
   "source": [
    "indir_RD = \"/groups/icecube/petersen/GraphNetDatabaseRepository/multi_classification_stop_track_muon/Inference/pid_Leon_RD_results_new_model.csv\"\n",
    "indir_MC = \"/groups/icecube/peter/storage/Multiclassification/Real/last_one_lvl3MC/dynedge_pid_Real_run_21.5_mill_equal_frac_second_/results.csv\"\n",
    "outdir = \"/groups/icecube/qgf305/workspace/analyses/multi_classification_on_stop_and_track_muons/plotting/Comparison_RD_MC/test\"\n",
    "\n",
    "results_RD = pd.read_csv(indir_RD, index_col=[0])\n",
    "results_MC = pd.read_csv(indir_MC, index_col=[0])"
   ]
  },
  {
   "cell_type": "code",
   "execution_count": 4,
   "metadata": {},
   "outputs": [
    {
     "name": "stdout",
     "output_type": "stream",
     "text": [
      "[-16. -14. -12.  -1.  12.  13.  14.  16.]\n"
     ]
    }
   ],
   "source": [
    "print(np.unique(results_MC.pid))\n",
    "pid_transform = {1:0,12:2,13:1,14:2,16:2}"
   ]
  },
  {
   "cell_type": "code",
   "execution_count": 5,
   "metadata": {},
   "outputs": [
    {
     "data": {
      "text/html": [
       "<div style=\"float: left; padding: 10px;\">\n",
       "    <p style='font-family:\"Courier New\", Courier, monospace'>results_RD</p><div>\n",
       "<style scoped>\n",
       "    .dataframe tbody tr th:only-of-type {\n",
       "        vertical-align: middle;\n",
       "    }\n",
       "\n",
       "    .dataframe tbody tr th {\n",
       "        vertical-align: top;\n",
       "    }\n",
       "\n",
       "    .dataframe thead th {\n",
       "        text-align: right;\n",
       "    }\n",
       "</style>\n",
       "<table border=\"1\" class=\"dataframe\">\n",
       "  <thead>\n",
       "    <tr style=\"text-align: right;\">\n",
       "      <th></th>\n",
       "      <th>pid_noise_pred</th>\n",
       "      <th>pid_muon_pred</th>\n",
       "      <th>pid_neutrino_pred</th>\n",
       "      <th>pid</th>\n",
       "      <th>event_no</th>\n",
       "    </tr>\n",
       "  </thead>\n",
       "  <tbody>\n",
       "    <tr>\n",
       "      <th>0</th>\n",
       "      <td>9.100197e-04</td>\n",
       "      <td>0.995220</td>\n",
       "      <td>3.870316e-03</td>\n",
       "      <td>-1.0</td>\n",
       "      <td>0.0</td>\n",
       "    </tr>\n",
       "    <tr>\n",
       "      <th>1</th>\n",
       "      <td>1.982298e-17</td>\n",
       "      <td>0.999997</td>\n",
       "      <td>3.332041e-06</td>\n",
       "      <td>-1.0</td>\n",
       "      <td>1.0</td>\n",
       "    </tr>\n",
       "    <tr>\n",
       "      <th>2</th>\n",
       "      <td>2.132605e-12</td>\n",
       "      <td>0.999917</td>\n",
       "      <td>8.263976e-05</td>\n",
       "      <td>-1.0</td>\n",
       "      <td>2.0</td>\n",
       "    </tr>\n",
       "    <tr>\n",
       "      <th>3</th>\n",
       "      <td>2.653166e-14</td>\n",
       "      <td>0.999795</td>\n",
       "      <td>2.045055e-04</td>\n",
       "      <td>-1.0</td>\n",
       "      <td>3.0</td>\n",
       "    </tr>\n",
       "    <tr>\n",
       "      <th>4</th>\n",
       "      <td>9.950417e-01</td>\n",
       "      <td>0.000308</td>\n",
       "      <td>4.650586e-03</td>\n",
       "      <td>-1.0</td>\n",
       "      <td>4.0</td>\n",
       "    </tr>\n",
       "    <tr>\n",
       "      <th>...</th>\n",
       "      <td>...</td>\n",
       "      <td>...</td>\n",
       "      <td>...</td>\n",
       "      <td>...</td>\n",
       "      <td>...</td>\n",
       "    </tr>\n",
       "    <tr>\n",
       "      <th>1420704</th>\n",
       "      <td>9.957962e-01</td>\n",
       "      <td>0.000621</td>\n",
       "      <td>3.582841e-03</td>\n",
       "      <td>-1.0</td>\n",
       "      <td>96917756.0</td>\n",
       "    </tr>\n",
       "    <tr>\n",
       "      <th>1420705</th>\n",
       "      <td>2.507694e-17</td>\n",
       "      <td>1.000000</td>\n",
       "      <td>4.941842e-07</td>\n",
       "      <td>-1.0</td>\n",
       "      <td>96917757.0</td>\n",
       "    </tr>\n",
       "    <tr>\n",
       "      <th>1420706</th>\n",
       "      <td>1.000000e+00</td>\n",
       "      <td>0.000000</td>\n",
       "      <td>0.000000e+00</td>\n",
       "      <td>-1.0</td>\n",
       "      <td>96917758.0</td>\n",
       "    </tr>\n",
       "    <tr>\n",
       "      <th>1420707</th>\n",
       "      <td>9.853759e-01</td>\n",
       "      <td>0.001128</td>\n",
       "      <td>1.349629e-02</td>\n",
       "      <td>-1.0</td>\n",
       "      <td>96917759.0</td>\n",
       "    </tr>\n",
       "    <tr>\n",
       "      <th>1420708</th>\n",
       "      <td>9.903507e-01</td>\n",
       "      <td>0.000477</td>\n",
       "      <td>9.172585e-03</td>\n",
       "      <td>-1.0</td>\n",
       "      <td>96917760.0</td>\n",
       "    </tr>\n",
       "  </tbody>\n",
       "</table>\n",
       "<p>1420709 rows × 5 columns</p>\n",
       "</div>\n",
       "    </div>\n",
       "<div style=\"float: left; padding: 10px;\">\n",
       "    <p style='font-family:\"Courier New\", Courier, monospace'>results_MC</p><div>\n",
       "<style scoped>\n",
       "    .dataframe tbody tr th:only-of-type {\n",
       "        vertical-align: middle;\n",
       "    }\n",
       "\n",
       "    .dataframe tbody tr th {\n",
       "        vertical-align: top;\n",
       "    }\n",
       "\n",
       "    .dataframe thead th {\n",
       "        text-align: right;\n",
       "    }\n",
       "</style>\n",
       "<table border=\"1\" class=\"dataframe\">\n",
       "  <thead>\n",
       "    <tr style=\"text-align: right;\">\n",
       "      <th></th>\n",
       "      <th>pid_noise_pred</th>\n",
       "      <th>pid_muon_pred</th>\n",
       "      <th>pid_neutrino_pred</th>\n",
       "      <th>pid</th>\n",
       "      <th>event_no</th>\n",
       "    </tr>\n",
       "  </thead>\n",
       "  <tbody>\n",
       "    <tr>\n",
       "      <th>0</th>\n",
       "      <td>1.000000e+00</td>\n",
       "      <td>0.000000</td>\n",
       "      <td>0.000000</td>\n",
       "      <td>-1.0</td>\n",
       "      <td>23434375.0</td>\n",
       "    </tr>\n",
       "    <tr>\n",
       "      <th>1</th>\n",
       "      <td>1.857092e-18</td>\n",
       "      <td>0.999621</td>\n",
       "      <td>0.000379</td>\n",
       "      <td>13.0</td>\n",
       "      <td>70953235.0</td>\n",
       "    </tr>\n",
       "    <tr>\n",
       "      <th>2</th>\n",
       "      <td>2.644923e-14</td>\n",
       "      <td>0.995931</td>\n",
       "      <td>0.004069</td>\n",
       "      <td>13.0</td>\n",
       "      <td>97961265.0</td>\n",
       "    </tr>\n",
       "    <tr>\n",
       "      <th>3</th>\n",
       "      <td>8.509830e-02</td>\n",
       "      <td>0.012791</td>\n",
       "      <td>0.902110</td>\n",
       "      <td>12.0</td>\n",
       "      <td>33636682.0</td>\n",
       "    </tr>\n",
       "    <tr>\n",
       "      <th>4</th>\n",
       "      <td>4.873881e-04</td>\n",
       "      <td>0.002045</td>\n",
       "      <td>0.997468</td>\n",
       "      <td>12.0</td>\n",
       "      <td>53035643.0</td>\n",
       "    </tr>\n",
       "    <tr>\n",
       "      <th>...</th>\n",
       "      <td>...</td>\n",
       "      <td>...</td>\n",
       "      <td>...</td>\n",
       "      <td>...</td>\n",
       "      <td>...</td>\n",
       "    </tr>\n",
       "    <tr>\n",
       "      <th>7424995</th>\n",
       "      <td>1.000000e+00</td>\n",
       "      <td>0.000000</td>\n",
       "      <td>0.000000</td>\n",
       "      <td>-1.0</td>\n",
       "      <td>66993636.0</td>\n",
       "    </tr>\n",
       "    <tr>\n",
       "      <th>7424996</th>\n",
       "      <td>2.241822e-12</td>\n",
       "      <td>0.998957</td>\n",
       "      <td>0.001043</td>\n",
       "      <td>13.0</td>\n",
       "      <td>58567439.0</td>\n",
       "    </tr>\n",
       "    <tr>\n",
       "      <th>7424997</th>\n",
       "      <td>3.683385e-02</td>\n",
       "      <td>0.000157</td>\n",
       "      <td>0.963009</td>\n",
       "      <td>16.0</td>\n",
       "      <td>81515634.0</td>\n",
       "    </tr>\n",
       "    <tr>\n",
       "      <th>7424998</th>\n",
       "      <td>7.042371e-04</td>\n",
       "      <td>0.065515</td>\n",
       "      <td>0.933780</td>\n",
       "      <td>16.0</td>\n",
       "      <td>221130.0</td>\n",
       "    </tr>\n",
       "    <tr>\n",
       "      <th>7424999</th>\n",
       "      <td>3.246351e-07</td>\n",
       "      <td>0.252372</td>\n",
       "      <td>0.747627</td>\n",
       "      <td>13.0</td>\n",
       "      <td>92196571.0</td>\n",
       "    </tr>\n",
       "  </tbody>\n",
       "</table>\n",
       "<p>7425000 rows × 5 columns</p>\n",
       "</div>\n",
       "    </div>"
      ],
      "text/plain": [
       "results_RD\n",
       "         pid_noise_pred  pid_muon_pred  pid_neutrino_pred  pid    event_no\n",
       "0          9.100197e-04       0.995220       3.870316e-03 -1.0         0.0\n",
       "1          1.982298e-17       0.999997       3.332041e-06 -1.0         1.0\n",
       "2          2.132605e-12       0.999917       8.263976e-05 -1.0         2.0\n",
       "3          2.653166e-14       0.999795       2.045055e-04 -1.0         3.0\n",
       "4          9.950417e-01       0.000308       4.650586e-03 -1.0         4.0\n",
       "...                 ...            ...                ...  ...         ...\n",
       "1420704    9.957962e-01       0.000621       3.582841e-03 -1.0  96917756.0\n",
       "1420705    2.507694e-17       1.000000       4.941842e-07 -1.0  96917757.0\n",
       "1420706    1.000000e+00       0.000000       0.000000e+00 -1.0  96917758.0\n",
       "1420707    9.853759e-01       0.001128       1.349629e-02 -1.0  96917759.0\n",
       "1420708    9.903507e-01       0.000477       9.172585e-03 -1.0  96917760.0\n",
       "\n",
       "[1420709 rows x 5 columns]\n",
       "\n",
       "results_MC\n",
       "         pid_noise_pred  pid_muon_pred  pid_neutrino_pred   pid    event_no\n",
       "0          1.000000e+00       0.000000           0.000000  -1.0  23434375.0\n",
       "1          1.857092e-18       0.999621           0.000379  13.0  70953235.0\n",
       "2          2.644923e-14       0.995931           0.004069  13.0  97961265.0\n",
       "3          8.509830e-02       0.012791           0.902110  12.0  33636682.0\n",
       "4          4.873881e-04       0.002045           0.997468  12.0  53035643.0\n",
       "...                 ...            ...                ...   ...         ...\n",
       "7424995    1.000000e+00       0.000000           0.000000  -1.0  66993636.0\n",
       "7424996    2.241822e-12       0.998957           0.001043  13.0  58567439.0\n",
       "7424997    3.683385e-02       0.000157           0.963009  16.0  81515634.0\n",
       "7424998    7.042371e-04       0.065515           0.933780  16.0    221130.0\n",
       "7424999    3.246351e-07       0.252372           0.747627  13.0  92196571.0\n",
       "\n",
       "[7425000 rows x 5 columns]"
      ]
     },
     "execution_count": 5,
     "metadata": {},
     "output_type": "execute_result"
    }
   ],
   "source": [
    "display(\"results_RD\", \"results_MC\")"
   ]
  },
  {
   "cell_type": "code",
   "execution_count": 6,
   "metadata": {},
   "outputs": [],
   "source": [
    "truth_MC = []\n",
    "\n",
    "for i in range(len(results_MC)):# range(len(results)):\n",
    "    truth_MC.append(pid_transform[abs(results_MC['pid'].values[i])])"
   ]
  },
  {
   "cell_type": "code",
   "execution_count": 7,
   "metadata": {},
   "outputs": [],
   "source": [
    "def to_logit(p):\n",
    "    try:\n",
    "        logit = np.log(p/(1-p))\n",
    "    except ZeroDivisionError:\n",
    "        logit = 0\n",
    "    if np.isinf(logit):\n",
    "        logit = 0\n",
    "    return logit"
   ]
  },
  {
   "cell_type": "code",
   "execution_count": 8,
   "metadata": {},
   "outputs": [],
   "source": [
    "logits = dict()\n",
    "for item in [\"noise\", \"muon\", \"neutrino\"]:\n",
    "    logits[item] = results_MC[f\"pid_{item}_pred\"].apply(to_logit)"
   ]
  },
  {
   "cell_type": "code",
   "execution_count": 9,
   "metadata": {},
   "outputs": [],
   "source": [
    "logits = pd.DataFrame.from_dict(logits)"
   ]
  },
  {
   "cell_type": "code",
   "execution_count": 10,
   "metadata": {},
   "outputs": [
    {
     "data": {
      "image/png": "[encoded data removed]",
      "text/plain": [
       "<Figure size 1000x500 with 1 Axes>"
      ]
     },
     "metadata": {},
     "output_type": "display_data"
    }
   ],
   "source": [
    "fix, ax = plt.subplots(figsize=[10, 5])\n",
    "for item in [\"noise\", \"muon\", \"neutrino\"]:\n",
    "    ax.hist(logits[item], bins=50, alpha=0.33, label=item);\n",
    "ax.set(yscale=\"log\")\n",
    "ax.legend();"
   ]
  },
  {
   "cell_type": "code",
   "execution_count": 11,
   "metadata": {},
   "outputs": [
    {
     "data": {
      "image/png": "[encoded data removed]",
      "text/plain": [
       "<Figure size 1000x500 with 1 Axes>"
      ]
     },
     "metadata": {},
     "output_type": "display_data"
    }
   ],
   "source": [
    "fix, ax = plt.subplots(figsize=[10, 5])\n",
    "for item in [\"noise\", \"muon\", \"neutrino\"]:\n",
    "    ax.hist(logits[item], bins=50, alpha=0.33, label=item, cumulative=True, histtype='step', density=True);\n",
    "ax.set(yscale=\"log\")\n",
    "ax.legend(loc=\"upper left\");"
   ]
  },
  {
   "cell_type": "code",
   "execution_count": 12,
   "metadata": {},
   "outputs": [
    {
     "data": {
      "text/html": [
       "<div style=\"float: left; padding: 10px;\">\n",
       "    <p style='font-family:\"Courier New\", Courier, monospace'>metrics</p><div>\n",
       "<style scoped>\n",
       "    .dataframe tbody tr th:only-of-type {\n",
       "        vertical-align: middle;\n",
       "    }\n",
       "\n",
       "    .dataframe tbody tr th {\n",
       "        vertical-align: top;\n",
       "    }\n",
       "\n",
       "    .dataframe thead th {\n",
       "        text-align: right;\n",
       "    }\n",
       "</style>\n",
       "<table border=\"1\" class=\"dataframe\">\n",
       "  <thead>\n",
       "    <tr style=\"text-align: right;\">\n",
       "      <th></th>\n",
       "      <th>std</th>\n",
       "      <th>mean</th>\n",
       "    </tr>\n",
       "  </thead>\n",
       "  <tbody>\n",
       "    <tr>\n",
       "      <th>noise</th>\n",
       "      <td>16.360558</td>\n",
       "      <td>-16.625953</td>\n",
       "    </tr>\n",
       "    <tr>\n",
       "      <th>muon</th>\n",
       "      <td>8.815463</td>\n",
       "      <td>-2.003995</td>\n",
       "    </tr>\n",
       "    <tr>\n",
       "      <th>neutrino</th>\n",
       "      <td>7.530003</td>\n",
       "      <td>-1.146454</td>\n",
       "    </tr>\n",
       "  </tbody>\n",
       "</table>\n",
       "</div>\n",
       "    </div>"
      ],
      "text/plain": [
       "metrics\n",
       "                std       mean\n",
       "noise     16.360558 -16.625953\n",
       "muon       8.815463  -2.003995\n",
       "neutrino   7.530003  -1.146454"
      ]
     },
     "execution_count": 12,
     "metadata": {},
     "output_type": "execute_result"
    }
   ],
   "source": [
    "stds = dict()\n",
    "means = dict()\n",
    "for item in [\"noise\", \"muon\", \"neutrino\"]:\n",
    "    stds[item] = logits[item].std()\n",
    "    means[item] = logits[item].mean()\n",
    "\n",
    "stds = pd.DataFrame.from_dict(stds, orient='index', columns=['std'])\n",
    "means = pd.DataFrame.from_dict(means, 'index', columns=['mean'])\n",
    "\n",
    "metrics = pd.concat([stds,means],axis=1)\n",
    "display(\"metrics\")"
   ]
  },
  {
   "cell_type": "code",
   "execution_count": null,
   "metadata": {},
   "outputs": [],
   "source": []
  },
  {
   "cell_type": "code",
   "execution_count": 63,
   "metadata": {},
   "outputs": [
    {
     "data": {
      "image/png": "[encoded data removed]",
      "text/plain": [
       "<Figure size 1000x500 with 1 Axes>"
      ]
     },
     "metadata": {},
     "output_type": "display_data"
    }
   ],
   "source": [
    "fix, ax = plt.subplots(figsize=[10, 5])\n",
    "for i, item in enumerate([\"noise\", \"muon\", \"neutrino\"]):\n",
    "    ax.hist(logits[item]-metrics[\"mean\"][i], bins=50, alpha=0.33, label=item);\n",
    "ax.set(yscale=\"log\")\n",
    "ax.legend();"
   ]
  },
  {
   "cell_type": "code",
   "execution_count": 1,
   "metadata": {},
   "outputs": [],
   "source": [
    "def inverse_logit(p):\n",
    "    try:\n",
    "        logit = np.log(1/(1+np.exp(-p)))\n",
    "    except ZeroDivisionError:\n",
    "        logit = 0\n",
    "    if np.isinf(logit):\n",
    "        logit = 0\n",
    "    return logit"
   ]
  },
  {
   "cell_type": "code",
   "execution_count": 71,
   "metadata": {},
   "outputs": [],
   "source": [
    "logits2 = dict()\n",
    "for item in [\"noise\", \"muon\", \"neutrino\"]:\n",
    "    logits2[item] = results_MC[f\"pid_{item}_pred\"].apply(inverse_logit)"
   ]
  },
  {
   "cell_type": "code",
   "execution_count": 72,
   "metadata": {},
   "outputs": [
    {
     "data": {
      "image/png": "[encoded data removed]",
      "text/plain": [
       "<Figure size 1000x500 with 1 Axes>"
      ]
     },
     "metadata": {},
     "output_type": "display_data"
    }
   ],
   "source": [
    "fix, ax = plt.subplots(figsize=[10, 5])\n",
    "for i, item in enumerate([\"noise\", \"muon\", \"neutrino\"]):\n",
    "    ax.hist(logits2[item], bins=50, alpha=0.33, label=item);\n",
    "ax.set(yscale=\"log\")\n",
    "ax.legend();"
   ]
  },
  {
   "cell_type": "code",
   "execution_count": null,
   "metadata": {},
   "outputs": [],
   "source": [
    "def to_multivariate_logit(p1,p2):\n",
    "    \"\"\"bivariate logit with common metrics\"\"\"\n",
    "    try:\n",
    "        sigma =\n",
    "        rho =\n",
    "        mu = \n",
    "        p1_logit = to_logit(p1)\n",
    "        p2_logit = to_logit(p2)\n",
    "        Q = (sigma**2 * (1-rho**2))**(-1) * ( (p1_logit-mu)**2 + (p2_logit-mu)**2 - 2*rho * (p1_logit-mu)*(p2_logit-mu))\n",
    "        sub = (sigma**2 * np.sqrt(1-rho) * p1 * p2 * (1-p1)*(1-p2))\n",
    "        upper = np.exp(-Q*0.5)\n",
    "        logit = upper/sub\n",
    "    except ZeroDivisionError:\n",
    "        logit = 0\n",
    "    if np.isinf(logit):\n",
    "        logit = 0\n",
    "    return logit"
   ]
  }
 ],
 "metadata": {
  "kernelspec": {
   "display_name": "Python 3.8.13 ('graphnet')",
   "language": "python",
   "name": "python3"
  },
  "language_info": {
   "codemirror_mode": {
    "name": "ipython",
    "version": 3
   },
   "file_extension": ".py",
   "mimetype": "text/x-python",
   "name": "python",
   "nbconvert_exporter": "python",
   "pygments_lexer": "ipython3",
   "version": "3.8.13"
  },
  "orig_nbformat": 4,
  "vscode": {
   "interpreter": {
    "hash": "e54c104f54ca5f79eede1c2e02355cc39841da57601eff628eedcebaaa867660"
   }
  }
 },
 "nbformat": 4,
 "nbformat_minor": 2
}
