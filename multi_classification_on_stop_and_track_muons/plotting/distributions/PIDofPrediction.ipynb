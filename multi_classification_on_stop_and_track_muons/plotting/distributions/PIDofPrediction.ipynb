{
 "cells": [
  {
   "cell_type": "markdown",
   "metadata": {},
   "source": [
    "plotting pid as a function of prediction"
   ]
  },
  {
   "cell_type": "code",
   "execution_count": 1,
   "metadata": {},
   "outputs": [
    {
     "name": "stderr",
     "output_type": "stream",
     "text": [
      "/groups/icecube/qgf305/anaconda3/envs/graphnet/lib/python3.8/site-packages/tqdm/auto.py:22: TqdmWarning: IProgress not found. Please update jupyter and ipywidgets. See https://ipywidgets.readthedocs.io/en/stable/user_install.html\n",
      "  from .autonotebook import tqdm as notebook_tqdm\n"
     ]
    }
   ],
   "source": [
    "import pandas as pd\n",
    "import matplotlib.pyplot as plt\n",
    "import matplotlib.ticker as ticker\n",
    "import numpy as np\n",
    "from torchmetrics import ConfusionMatrix\n",
    "import torch\n",
    "#path_to_db = \"/groups/icecube/peter/storage/Multiclassification/Test/last_one_lvl3MC/dynedge_pid_test_run/results.csv\"\n",
    "path_to_db = \"/groups/icecube/peter/storage/Multiclassification/Real/last_one_lvl3MC/dynedge_pid_Real_run_21.5_mill_equal_frac_second_/results.csv\"\n",
    "path_to_db = \"/groups/icecube/petersen/GraphNetDatabaseRepository/example_results/train_classification_model/last_one_lvl3MC/dynedge_pid_example/results.csv\"\n",
    "feature_data = pd.read_csv(path_to_db, index_col=[0])"
   ]
  },
  {
   "cell_type": "code",
   "execution_count": 2,
   "metadata": {},
   "outputs": [],
   "source": [
    "preds = [\"pid_noise_pred\",\"pid_muon_pred\",\"pid_neutrino_pred\"]\n",
    "pids = [1,12,13]"
   ]
  },
  {
   "cell_type": "code",
   "execution_count": 3,
   "metadata": {},
   "outputs": [
    {
     "name": "stdout",
     "output_type": "stream",
     "text": [
      "unique particle ID's and their count: \n",
      "        pid_noise_pred\n",
      "pid                  \n",
      "-16.0            1000\n",
      "-14.0            1132\n",
      "-12.0            1064\n",
      "-1.0            10999\n",
      " 12.0            2520\n",
      " 13.0           11090\n",
      " 14.0            2535\n",
      " 16.0            2660\n",
      "\n",
      "data:\n"
     ]
    },
    {
     "data": {
      "text/html": [
       "<div>\n",
       "<style scoped>\n",
       "    .dataframe tbody tr th:only-of-type {\n",
       "        vertical-align: middle;\n",
       "    }\n",
       "\n",
       "    .dataframe tbody tr th {\n",
       "        vertical-align: top;\n",
       "    }\n",
       "\n",
       "    .dataframe thead th {\n",
       "        text-align: right;\n",
       "    }\n",
       "</style>\n",
       "<table border=\"1\" class=\"dataframe\">\n",
       "  <thead>\n",
       "    <tr style=\"text-align: right;\">\n",
       "      <th></th>\n",
       "      <th>pid_noise_pred</th>\n",
       "      <th>pid_muon_pred</th>\n",
       "      <th>pid_neutrino_pred</th>\n",
       "      <th>pid</th>\n",
       "      <th>event_no</th>\n",
       "    </tr>\n",
       "  </thead>\n",
       "  <tbody>\n",
       "    <tr>\n",
       "      <th>0</th>\n",
       "      <td>1.158475e-08</td>\n",
       "      <td>0.998674</td>\n",
       "      <td>0.001326</td>\n",
       "      <td>13.0</td>\n",
       "      <td>70303953.0</td>\n",
       "    </tr>\n",
       "    <tr>\n",
       "      <th>1</th>\n",
       "      <td>6.296498e-07</td>\n",
       "      <td>0.962749</td>\n",
       "      <td>0.037251</td>\n",
       "      <td>13.0</td>\n",
       "      <td>70834217.0</td>\n",
       "    </tr>\n",
       "    <tr>\n",
       "      <th>2</th>\n",
       "      <td>8.062494e-01</td>\n",
       "      <td>0.014907</td>\n",
       "      <td>0.178844</td>\n",
       "      <td>-1.0</td>\n",
       "      <td>47840380.0</td>\n",
       "    </tr>\n",
       "    <tr>\n",
       "      <th>3</th>\n",
       "      <td>4.564216e-12</td>\n",
       "      <td>0.987746</td>\n",
       "      <td>0.012254</td>\n",
       "      <td>13.0</td>\n",
       "      <td>89703021.0</td>\n",
       "    </tr>\n",
       "    <tr>\n",
       "      <th>4</th>\n",
       "      <td>9.455863e-06</td>\n",
       "      <td>0.987323</td>\n",
       "      <td>0.012667</td>\n",
       "      <td>13.0</td>\n",
       "      <td>81500837.0</td>\n",
       "    </tr>\n",
       "    <tr>\n",
       "      <th>...</th>\n",
       "      <td>...</td>\n",
       "      <td>...</td>\n",
       "      <td>...</td>\n",
       "      <td>...</td>\n",
       "      <td>...</td>\n",
       "    </tr>\n",
       "    <tr>\n",
       "      <th>32995</th>\n",
       "      <td>6.928816e-03</td>\n",
       "      <td>0.001326</td>\n",
       "      <td>0.991746</td>\n",
       "      <td>16.0</td>\n",
       "      <td>72783503.0</td>\n",
       "    </tr>\n",
       "    <tr>\n",
       "      <th>32996</th>\n",
       "      <td>2.568107e-05</td>\n",
       "      <td>0.185457</td>\n",
       "      <td>0.814518</td>\n",
       "      <td>14.0</td>\n",
       "      <td>28491557.0</td>\n",
       "    </tr>\n",
       "    <tr>\n",
       "      <th>32997</th>\n",
       "      <td>9.150535e-01</td>\n",
       "      <td>0.001142</td>\n",
       "      <td>0.083805</td>\n",
       "      <td>16.0</td>\n",
       "      <td>51018639.0</td>\n",
       "    </tr>\n",
       "    <tr>\n",
       "      <th>32998</th>\n",
       "      <td>2.543411e-02</td>\n",
       "      <td>0.001790</td>\n",
       "      <td>0.972775</td>\n",
       "      <td>12.0</td>\n",
       "      <td>61500370.0</td>\n",
       "    </tr>\n",
       "    <tr>\n",
       "      <th>32999</th>\n",
       "      <td>9.974310e-01</td>\n",
       "      <td>0.000018</td>\n",
       "      <td>0.002551</td>\n",
       "      <td>-1.0</td>\n",
       "      <td>73342438.0</td>\n",
       "    </tr>\n",
       "  </tbody>\n",
       "</table>\n",
       "<p>33000 rows × 5 columns</p>\n",
       "</div>"
      ],
      "text/plain": [
       "       pid_noise_pred  pid_muon_pred  pid_neutrino_pred   pid    event_no\n",
       "0        1.158475e-08       0.998674           0.001326  13.0  70303953.0\n",
       "1        6.296498e-07       0.962749           0.037251  13.0  70834217.0\n",
       "2        8.062494e-01       0.014907           0.178844  -1.0  47840380.0\n",
       "3        4.564216e-12       0.987746           0.012254  13.0  89703021.0\n",
       "4        9.455863e-06       0.987323           0.012667  13.0  81500837.0\n",
       "...               ...            ...                ...   ...         ...\n",
       "32995    6.928816e-03       0.001326           0.991746  16.0  72783503.0\n",
       "32996    2.568107e-05       0.185457           0.814518  14.0  28491557.0\n",
       "32997    9.150535e-01       0.001142           0.083805  16.0  51018639.0\n",
       "32998    2.543411e-02       0.001790           0.972775  12.0  61500370.0\n",
       "32999    9.974310e-01       0.000018           0.002551  -1.0  73342438.0\n",
       "\n",
       "[33000 rows x 5 columns]"
      ]
     },
     "execution_count": 3,
     "metadata": {},
     "output_type": "execute_result"
    }
   ],
   "source": [
    "print(\"unique particle ID's and their count: \\n\", feature_data[[\"pid_noise_pred\",\"pid\"]].groupby(\"pid\").count())\n",
    "print()\n",
    "print(\"data:\")\n",
    "feature_data"
   ]
  },
  {
   "cell_type": "code",
   "execution_count": 4,
   "metadata": {},
   "outputs": [],
   "source": [
    "## transform data\n",
    "# remove anti\n",
    "feature_data['pid'] = feature_data['pid'].apply(abs)\n",
    "# make all neutrinos the same class; to match training classes\n",
    "feature_data.loc[feature_data['pid']==14, \"pid\"]=12\n",
    "feature_data.loc[feature_data['pid']==16, \"pid\"]=12"
   ]
  },
  {
   "cell_type": "code",
   "execution_count": 5,
   "metadata": {},
   "outputs": [
    {
     "name": "stdout",
     "output_type": "stream",
     "text": [
      "unique particle ID's and their count: \n",
      "       pid_noise_pred\n",
      "pid                 \n",
      "1.0            10999\n",
      "12.0           10911\n",
      "13.0           11090\n",
      "\n",
      "data:\n"
     ]
    },
    {
     "data": {
      "text/html": [
       "<div>\n",
       "<style scoped>\n",
       "    .dataframe tbody tr th:only-of-type {\n",
       "        vertical-align: middle;\n",
       "    }\n",
       "\n",
       "    .dataframe tbody tr th {\n",
       "        vertical-align: top;\n",
       "    }\n",
       "\n",
       "    .dataframe thead th {\n",
       "        text-align: right;\n",
       "    }\n",
       "</style>\n",
       "<table border=\"1\" class=\"dataframe\">\n",
       "  <thead>\n",
       "    <tr style=\"text-align: right;\">\n",
       "      <th></th>\n",
       "      <th>pid_noise_pred</th>\n",
       "      <th>pid_muon_pred</th>\n",
       "      <th>pid_neutrino_pred</th>\n",
       "      <th>pid</th>\n",
       "      <th>event_no</th>\n",
       "    </tr>\n",
       "  </thead>\n",
       "  <tbody>\n",
       "    <tr>\n",
       "      <th>0</th>\n",
       "      <td>1.158475e-08</td>\n",
       "      <td>0.998674</td>\n",
       "      <td>0.001326</td>\n",
       "      <td>13.0</td>\n",
       "      <td>70303953.0</td>\n",
       "    </tr>\n",
       "    <tr>\n",
       "      <th>1</th>\n",
       "      <td>6.296498e-07</td>\n",
       "      <td>0.962749</td>\n",
       "      <td>0.037251</td>\n",
       "      <td>13.0</td>\n",
       "      <td>70834217.0</td>\n",
       "    </tr>\n",
       "    <tr>\n",
       "      <th>2</th>\n",
       "      <td>8.062494e-01</td>\n",
       "      <td>0.014907</td>\n",
       "      <td>0.178844</td>\n",
       "      <td>1.0</td>\n",
       "      <td>47840380.0</td>\n",
       "    </tr>\n",
       "    <tr>\n",
       "      <th>3</th>\n",
       "      <td>4.564216e-12</td>\n",
       "      <td>0.987746</td>\n",
       "      <td>0.012254</td>\n",
       "      <td>13.0</td>\n",
       "      <td>89703021.0</td>\n",
       "    </tr>\n",
       "    <tr>\n",
       "      <th>4</th>\n",
       "      <td>9.455863e-06</td>\n",
       "      <td>0.987323</td>\n",
       "      <td>0.012667</td>\n",
       "      <td>13.0</td>\n",
       "      <td>81500837.0</td>\n",
       "    </tr>\n",
       "    <tr>\n",
       "      <th>...</th>\n",
       "      <td>...</td>\n",
       "      <td>...</td>\n",
       "      <td>...</td>\n",
       "      <td>...</td>\n",
       "      <td>...</td>\n",
       "    </tr>\n",
       "    <tr>\n",
       "      <th>32995</th>\n",
       "      <td>6.928816e-03</td>\n",
       "      <td>0.001326</td>\n",
       "      <td>0.991746</td>\n",
       "      <td>12.0</td>\n",
       "      <td>72783503.0</td>\n",
       "    </tr>\n",
       "    <tr>\n",
       "      <th>32996</th>\n",
       "      <td>2.568107e-05</td>\n",
       "      <td>0.185457</td>\n",
       "      <td>0.814518</td>\n",
       "      <td>12.0</td>\n",
       "      <td>28491557.0</td>\n",
       "    </tr>\n",
       "    <tr>\n",
       "      <th>32997</th>\n",
       "      <td>9.150535e-01</td>\n",
       "      <td>0.001142</td>\n",
       "      <td>0.083805</td>\n",
       "      <td>12.0</td>\n",
       "      <td>51018639.0</td>\n",
       "    </tr>\n",
       "    <tr>\n",
       "      <th>32998</th>\n",
       "      <td>2.543411e-02</td>\n",
       "      <td>0.001790</td>\n",
       "      <td>0.972775</td>\n",
       "      <td>12.0</td>\n",
       "      <td>61500370.0</td>\n",
       "    </tr>\n",
       "    <tr>\n",
       "      <th>32999</th>\n",
       "      <td>9.974310e-01</td>\n",
       "      <td>0.000018</td>\n",
       "      <td>0.002551</td>\n",
       "      <td>1.0</td>\n",
       "      <td>73342438.0</td>\n",
       "    </tr>\n",
       "  </tbody>\n",
       "</table>\n",
       "<p>33000 rows × 5 columns</p>\n",
       "</div>"
      ],
      "text/plain": [
       "       pid_noise_pred  pid_muon_pred  pid_neutrino_pred   pid    event_no\n",
       "0        1.158475e-08       0.998674           0.001326  13.0  70303953.0\n",
       "1        6.296498e-07       0.962749           0.037251  13.0  70834217.0\n",
       "2        8.062494e-01       0.014907           0.178844   1.0  47840380.0\n",
       "3        4.564216e-12       0.987746           0.012254  13.0  89703021.0\n",
       "4        9.455863e-06       0.987323           0.012667  13.0  81500837.0\n",
       "...               ...            ...                ...   ...         ...\n",
       "32995    6.928816e-03       0.001326           0.991746  12.0  72783503.0\n",
       "32996    2.568107e-05       0.185457           0.814518  12.0  28491557.0\n",
       "32997    9.150535e-01       0.001142           0.083805  12.0  51018639.0\n",
       "32998    2.543411e-02       0.001790           0.972775  12.0  61500370.0\n",
       "32999    9.974310e-01       0.000018           0.002551   1.0  73342438.0\n",
       "\n",
       "[33000 rows x 5 columns]"
      ]
     },
     "execution_count": 5,
     "metadata": {},
     "output_type": "execute_result"
    }
   ],
   "source": [
    "print(\"unique particle ID's and their count: \\n\", feature_data[[\"pid_noise_pred\",\"pid\"]].groupby(\"pid\").count())\n",
    "print()\n",
    "print(\"data:\")\n",
    "feature_data"
   ]
  },
  {
   "cell_type": "code",
   "execution_count": 6,
   "metadata": {},
   "outputs": [
    {
     "data": {
      "image/png": "[encoded data removed]",
      "text/plain": [
       "<Figure size 2000x1000 with 1 Axes>"
      ]
     },
     "metadata": {},
     "output_type": "display_data"
    },
    {
     "data": {
      "image/png": "[encoded data removed]",
      "text/plain": [
       "<Figure size 2000x1000 with 1 Axes>"
      ]
     },
     "metadata": {},
     "output_type": "display_data"
    },
    {
     "data": {
      "image/png": "[encoded data removed]",
      "text/plain": [
       "<Figure size 2000x1000 with 1 Axes>"
      ]
     },
     "metadata": {},
     "output_type": "display_data"
    }
   ],
   "source": [
    "\n",
    "preds = [\"pid_noise_pred\",\"pid_muon_pred\",\"pid_neutrino_pred\"]\n",
    "pids = [1,12,13]\n",
    "color=[\"b\",\"y\",\"g\"]\n",
    "for i, pred in enumerate(preds):\n",
    "    pid_list=[]\n",
    "    pid_bin_centers=[]\n",
    "    \n",
    "    fig,ax = plt.subplots(figsize=(20,10))\n",
    "\n",
    "    temp = 0\n",
    "    for i, pid in enumerate(pids):\n",
    "        y, bin_edges = np.histogram(feature_data[pred].loc[feature_data[\"pid\"]==pid], bins=50)\n",
    "        \n",
    "        pid_list.append(feature_data[pred].loc[feature_data[\"pid\"]==pid])\n",
    "        pid_bin_centers.append(0.5*(bin_edges[1:] + bin_edges[:-1]))\n",
    "    \n",
    "    ax.hist(pid_list, bins=100, log=True, stacked=True, label=(\"noise\", \"neutrino\", \"muon\"))\n",
    "    ax.set(yscale='log')\n",
    "    ax.set_xlim(-0.001,1.001)\n",
    "    #ax.set(ylabel='Rate',yscale='log')\n",
    "    #ax.yaxis.set_major_formatter(ticker.EngFormatter(unit='Hz'))\n",
    "    #for i, _ in enumerate(pids):\n",
    "    #    plt.errorbar(pid_bin_centers[i], pid_histlist[i], yerr = stds[i], fmt=f\".{color[i]}\")\n",
    "    plt.title(pred.replace(\"_\",\" \")[4:])\n",
    "    plt.legend()\n",
    "    plt.savefig(\"/groups/icecube/qgf305/workspace/analyses/multi_classification_on_stop_and_track_muons/plotting/distributions/test_plot/\"+pred.replace(\"_\",\"\")[3:-4]+\".png\")"
   ]
  },
  {
   "cell_type": "code",
   "execution_count": null,
   "metadata": {},
   "outputs": [],
   "source": [
    "feature_data[\"pid\"].loc[feature_data[[\"pid_noise_pred\",\"pid_muon_pred\",\"pid_neutrino_pred\"]].max(axis=1)]"
   ]
  },
  {
   "cell_type": "code",
   "execution_count": 39,
   "metadata": {},
   "outputs": [
    {
     "name": "stderr",
     "output_type": "stream",
     "text": [
      "/tmp/ipykernel_14541/1288578722.py:3: SettingWithCopyWarning: \n",
      "A value is trying to be set on a copy of a slice from a DataFrame\n",
      "\n",
      "See the caveats in the documentation: https://pandas.pydata.org/pandas-docs/stable/user_guide/indexing.html#returning-a-view-versus-a-copy\n",
      "  preds[\"pid_noise_pred\"] = preds[\"pid_noise_pred\"].loc[feature_data[\"pid_noise_pred\"] > feature_data[\"pid_muon_pred\"]] = 1\n"
     ]
    },
    {
     "data": {
      "text/html": [
       "<div>\n",
       "<style scoped>\n",
       "    .dataframe tbody tr th:only-of-type {\n",
       "        vertical-align: middle;\n",
       "    }\n",
       "\n",
       "    .dataframe tbody tr th {\n",
       "        vertical-align: top;\n",
       "    }\n",
       "\n",
       "    .dataframe thead th {\n",
       "        text-align: right;\n",
       "    }\n",
       "</style>\n",
       "<table border=\"1\" class=\"dataframe\">\n",
       "  <thead>\n",
       "    <tr style=\"text-align: right;\">\n",
       "      <th></th>\n",
       "      <th>pid_noise_pred</th>\n",
       "      <th>pid_muon_pred</th>\n",
       "      <th>pid_neutrino_pred</th>\n",
       "    </tr>\n",
       "  </thead>\n",
       "  <tbody>\n",
       "    <tr>\n",
       "      <th>0</th>\n",
       "      <td>1</td>\n",
       "      <td>0.000000</td>\n",
       "      <td>0.000000e+00</td>\n",
       "    </tr>\n",
       "    <tr>\n",
       "      <th>1</th>\n",
       "      <td>1</td>\n",
       "      <td>1.000000</td>\n",
       "      <td>3.906106e-07</td>\n",
       "    </tr>\n",
       "    <tr>\n",
       "      <th>2</th>\n",
       "      <td>1</td>\n",
       "      <td>1.000000</td>\n",
       "      <td>1.306228e-07</td>\n",
       "    </tr>\n",
       "    <tr>\n",
       "      <th>3</th>\n",
       "      <td>1</td>\n",
       "      <td>0.022993</td>\n",
       "      <td>6.104581e-01</td>\n",
       "    </tr>\n",
       "    <tr>\n",
       "      <th>4</th>\n",
       "      <td>1</td>\n",
       "      <td>0.017270</td>\n",
       "      <td>7.054196e-01</td>\n",
       "    </tr>\n",
       "    <tr>\n",
       "      <th>...</th>\n",
       "      <td>...</td>\n",
       "      <td>...</td>\n",
       "      <td>...</td>\n",
       "    </tr>\n",
       "    <tr>\n",
       "      <th>7424995</th>\n",
       "      <td>1</td>\n",
       "      <td>0.000000</td>\n",
       "      <td>0.000000e+00</td>\n",
       "    </tr>\n",
       "    <tr>\n",
       "      <th>7424996</th>\n",
       "      <td>1</td>\n",
       "      <td>0.916026</td>\n",
       "      <td>8.397368e-02</td>\n",
       "    </tr>\n",
       "    <tr>\n",
       "      <th>7424997</th>\n",
       "      <td>1</td>\n",
       "      <td>0.008736</td>\n",
       "      <td>3.558680e-01</td>\n",
       "    </tr>\n",
       "    <tr>\n",
       "      <th>7424998</th>\n",
       "      <td>1</td>\n",
       "      <td>0.650760</td>\n",
       "      <td>3.409231e-01</td>\n",
       "    </tr>\n",
       "    <tr>\n",
       "      <th>7424999</th>\n",
       "      <td>1</td>\n",
       "      <td>0.707856</td>\n",
       "      <td>2.921439e-01</td>\n",
       "    </tr>\n",
       "  </tbody>\n",
       "</table>\n",
       "<p>7425000 rows × 3 columns</p>\n",
       "</div>"
      ],
      "text/plain": [
       "         pid_noise_pred  pid_muon_pred  pid_neutrino_pred\n",
       "0                     1       0.000000       0.000000e+00\n",
       "1                     1       1.000000       3.906106e-07\n",
       "2                     1       1.000000       1.306228e-07\n",
       "3                     1       0.022993       6.104581e-01\n",
       "4                     1       0.017270       7.054196e-01\n",
       "...                 ...            ...                ...\n",
       "7424995               1       0.000000       0.000000e+00\n",
       "7424996               1       0.916026       8.397368e-02\n",
       "7424997               1       0.008736       3.558680e-01\n",
       "7424998               1       0.650760       3.409231e-01\n",
       "7424999               1       0.707856       2.921439e-01\n",
       "\n",
       "[7425000 rows x 3 columns]"
      ]
     },
     "execution_count": 39,
     "metadata": {},
     "output_type": "execute_result"
    }
   ],
   "source": [
    "\n",
    "\n",
    "preds = feature_data[[\"pid_noise_pred\",\"pid_muon_pred\",\"pid_neutrino_pred\"]].copy(deep=True)\n",
    "\n",
    "preds[\"pid_noise_pred\"] = preds[\"pid_noise_pred\"].loc[feature_data[\"pid_noise_pred\"] > feature_data[\"pid_muon_pred\"]] = 1\n",
    "preds"
   ]
  },
  {
   "cell_type": "code",
   "execution_count": 21,
   "metadata": {},
   "outputs": [
    {
     "data": {
      "text/plain": [
       "torch.Size([7425000])"
      ]
     },
     "execution_count": 21,
     "metadata": {},
     "output_type": "execute_result"
    }
   ],
   "source": [
    "\n",
    "preds = torch.tensor(feature_data[[\"pid_noise_pred\",\"pid_muon_pred\",\"pid_neutrino_pred\"]].values)\n",
    "target = torch.tensor(feature_data[\"pid\"].astype(int).values)\n",
    "target.size()"
   ]
  },
  {
   "cell_type": "code",
   "execution_count": 25,
   "metadata": {},
   "outputs": [
    {
     "ename": "ValueError",
     "evalue": "The highest label in `target` should be smaller than the size of the `C` dimension of `preds`.",
     "output_type": "error",
     "traceback": [
      "\u001b[0;31m---------------------------------------------------------------------------\u001b[0m",
      "\u001b[0;31mValueError\u001b[0m                                Traceback (most recent call last)",
      "\u001b[1;32m/groups/icecube/qgf305/workspace/analyses/multi_classification_on_stop_and_track_muons/plotting/distributions/PIDofPrediction.ipynb Cell 9\u001b[0m in \u001b[0;36m<cell line: 2>\u001b[0;34m()\u001b[0m\n\u001b[1;32m      <a href='vscode-notebook-cell://ssh-remote%2B7b22686f73744e616d65223a226865705f444556454c4f50227d/groups/icecube/qgf305/workspace/analyses/multi_classification_on_stop_and_track_muons/plotting/distributions/PIDofPrediction.ipynb#X10sdnNjb2RlLXJlbW90ZQ%3D%3D?line=0'>1</a>\u001b[0m confmat \u001b[39m=\u001b[39m ConfusionMatrix(num_classes\u001b[39m=\u001b[39m\u001b[39m3\u001b[39m)\n\u001b[0;32m----> <a href='vscode-notebook-cell://ssh-remote%2B7b22686f73744e616d65223a226865705f444556454c4f50227d/groups/icecube/qgf305/workspace/analyses/multi_classification_on_stop_and_track_muons/plotting/distributions/PIDofPrediction.ipynb#X10sdnNjb2RlLXJlbW90ZQ%3D%3D?line=1'>2</a>\u001b[0m confmat(preds, target)\n",
      "File \u001b[0;32m~/anaconda3/envs/graphnet/lib/python3.8/site-packages/torch/nn/modules/module.py:1110\u001b[0m, in \u001b[0;36mModule._call_impl\u001b[0;34m(self, *input, **kwargs)\u001b[0m\n\u001b[1;32m   1106\u001b[0m \u001b[39m# If we don't have any hooks, we want to skip the rest of the logic in\u001b[39;00m\n\u001b[1;32m   1107\u001b[0m \u001b[39m# this function, and just call forward.\u001b[39;00m\n\u001b[1;32m   1108\u001b[0m \u001b[39mif\u001b[39;00m \u001b[39mnot\u001b[39;00m (\u001b[39mself\u001b[39m\u001b[39m.\u001b[39m_backward_hooks \u001b[39mor\u001b[39;00m \u001b[39mself\u001b[39m\u001b[39m.\u001b[39m_forward_hooks \u001b[39mor\u001b[39;00m \u001b[39mself\u001b[39m\u001b[39m.\u001b[39m_forward_pre_hooks \u001b[39mor\u001b[39;00m _global_backward_hooks\n\u001b[1;32m   1109\u001b[0m         \u001b[39mor\u001b[39;00m _global_forward_hooks \u001b[39mor\u001b[39;00m _global_forward_pre_hooks):\n\u001b[0;32m-> 1110\u001b[0m     \u001b[39mreturn\u001b[39;00m forward_call(\u001b[39m*\u001b[39;49m\u001b[39minput\u001b[39;49m, \u001b[39m*\u001b[39;49m\u001b[39m*\u001b[39;49mkwargs)\n\u001b[1;32m   1111\u001b[0m \u001b[39m# Do not call functions when jit is used\u001b[39;00m\n\u001b[1;32m   1112\u001b[0m full_backward_hooks, non_full_backward_hooks \u001b[39m=\u001b[39m [], []\n",
      "File \u001b[0;32m~/anaconda3/envs/graphnet/lib/python3.8/site-packages/torchmetrics/metric.py:245\u001b[0m, in \u001b[0;36mMetric.forward\u001b[0;34m(self, *args, **kwargs)\u001b[0m\n\u001b[1;32m    243\u001b[0m     \u001b[39mself\u001b[39m\u001b[39m.\u001b[39m_forward_cache \u001b[39m=\u001b[39m \u001b[39mself\u001b[39m\u001b[39m.\u001b[39m_forward_full_state_update(\u001b[39m*\u001b[39margs, \u001b[39m*\u001b[39m\u001b[39m*\u001b[39mkwargs)\n\u001b[1;32m    244\u001b[0m \u001b[39melse\u001b[39;00m:\n\u001b[0;32m--> 245\u001b[0m     \u001b[39mself\u001b[39m\u001b[39m.\u001b[39m_forward_cache \u001b[39m=\u001b[39m \u001b[39mself\u001b[39;49m\u001b[39m.\u001b[39;49m_forward_reduce_state_update(\u001b[39m*\u001b[39;49margs, \u001b[39m*\u001b[39;49m\u001b[39m*\u001b[39;49mkwargs)\n\u001b[1;32m    247\u001b[0m \u001b[39mreturn\u001b[39;00m \u001b[39mself\u001b[39m\u001b[39m.\u001b[39m_forward_cache\n",
      "File \u001b[0;32m~/anaconda3/envs/graphnet/lib/python3.8/site-packages/torchmetrics/metric.py:309\u001b[0m, in \u001b[0;36mMetric._forward_reduce_state_update\u001b[0;34m(self, *args, **kwargs)\u001b[0m\n\u001b[1;32m    306\u001b[0m \u001b[39mself\u001b[39m\u001b[39m.\u001b[39m_enable_grad \u001b[39m=\u001b[39m \u001b[39mTrue\u001b[39;00m  \u001b[39m# allow grads for batch computation\u001b[39;00m\n\u001b[1;32m    308\u001b[0m \u001b[39m# calculate batch state and compute batch value\u001b[39;00m\n\u001b[0;32m--> 309\u001b[0m \u001b[39mself\u001b[39;49m\u001b[39m.\u001b[39;49mupdate(\u001b[39m*\u001b[39;49margs, \u001b[39m*\u001b[39;49m\u001b[39m*\u001b[39;49mkwargs)\n\u001b[1;32m    310\u001b[0m batch_val \u001b[39m=\u001b[39m \u001b[39mself\u001b[39m\u001b[39m.\u001b[39mcompute()\n\u001b[1;32m    312\u001b[0m \u001b[39m# reduce batch and global state\u001b[39;00m\n",
      "File \u001b[0;32m~/anaconda3/envs/graphnet/lib/python3.8/site-packages/torchmetrics/metric.py:395\u001b[0m, in \u001b[0;36mMetric._wrap_update.<locals>.wrapped_func\u001b[0;34m(*args, **kwargs)\u001b[0m\n\u001b[1;32m    393\u001b[0m \u001b[39mwith\u001b[39;00m torch\u001b[39m.\u001b[39mset_grad_enabled(\u001b[39mself\u001b[39m\u001b[39m.\u001b[39m_enable_grad):\n\u001b[1;32m    394\u001b[0m     \u001b[39mtry\u001b[39;00m:\n\u001b[0;32m--> 395\u001b[0m         update(\u001b[39m*\u001b[39;49margs, \u001b[39m*\u001b[39;49m\u001b[39m*\u001b[39;49mkwargs)\n\u001b[1;32m    396\u001b[0m     \u001b[39mexcept\u001b[39;00m \u001b[39mRuntimeError\u001b[39;00m \u001b[39mas\u001b[39;00m err:\n\u001b[1;32m    397\u001b[0m         \u001b[39mif\u001b[39;00m \u001b[39m\"\u001b[39m\u001b[39mExpected all tensors to be on\u001b[39m\u001b[39m\"\u001b[39m \u001b[39min\u001b[39;00m \u001b[39mstr\u001b[39m(err):\n",
      "File \u001b[0;32m~/anaconda3/envs/graphnet/lib/python3.8/site-packages/torchmetrics/classification/confusion_matrix.py:463\u001b[0m, in \u001b[0;36mConfusionMatrix.update\u001b[0;34m(self, preds, target)\u001b[0m\n\u001b[1;32m    456\u001b[0m \u001b[39mdef\u001b[39;00m \u001b[39mupdate\u001b[39m(\u001b[39mself\u001b[39m, preds: Tensor, target: Tensor) \u001b[39m-\u001b[39m\u001b[39m>\u001b[39m \u001b[39mNone\u001b[39;00m:  \u001b[39m# type: ignore\u001b[39;00m\n\u001b[1;32m    457\u001b[0m     \u001b[39m\"\"\"Update state with predictions and targets.\u001b[39;00m\n\u001b[1;32m    458\u001b[0m \n\u001b[1;32m    459\u001b[0m \u001b[39m    Args:\u001b[39;00m\n\u001b[1;32m    460\u001b[0m \u001b[39m        preds: Predictions from model\u001b[39;00m\n\u001b[1;32m    461\u001b[0m \u001b[39m        target: Ground truth values\u001b[39;00m\n\u001b[1;32m    462\u001b[0m \u001b[39m    \"\"\"\u001b[39;00m\n\u001b[0;32m--> 463\u001b[0m     confmat \u001b[39m=\u001b[39m _confusion_matrix_update(preds, target, \u001b[39mself\u001b[39;49m\u001b[39m.\u001b[39;49mnum_classes, \u001b[39mself\u001b[39;49m\u001b[39m.\u001b[39;49mthreshold, \u001b[39mself\u001b[39;49m\u001b[39m.\u001b[39;49mmultilabel)\n\u001b[1;32m    464\u001b[0m     \u001b[39mself\u001b[39m\u001b[39m.\u001b[39mconfmat \u001b[39m+\u001b[39m\u001b[39m=\u001b[39m confmat\n",
      "File \u001b[0;32m~/anaconda3/envs/graphnet/lib/python3.8/site-packages/torchmetrics/functional/classification/confusion_matrix.py:608\u001b[0m, in \u001b[0;36m_confusion_matrix_update\u001b[0;34m(preds, target, num_classes, threshold, multilabel)\u001b[0m\n\u001b[1;32m    595\u001b[0m \u001b[39mdef\u001b[39;00m \u001b[39m_confusion_matrix_update\u001b[39m(\n\u001b[1;32m    596\u001b[0m     preds: Tensor, target: Tensor, num_classes: \u001b[39mint\u001b[39m, threshold: \u001b[39mfloat\u001b[39m \u001b[39m=\u001b[39m \u001b[39m0.5\u001b[39m, multilabel: \u001b[39mbool\u001b[39m \u001b[39m=\u001b[39m \u001b[39mFalse\u001b[39;00m\n\u001b[1;32m    597\u001b[0m ) \u001b[39m-\u001b[39m\u001b[39m>\u001b[39m Tensor:\n\u001b[1;32m    598\u001b[0m     \u001b[39m\"\"\"Updates and returns confusion matrix (without any normalization) based on the mode of the input.\u001b[39;00m\n\u001b[1;32m    599\u001b[0m \n\u001b[1;32m    600\u001b[0m \u001b[39m    Args:\u001b[39;00m\n\u001b[0;32m   (...)\u001b[0m\n\u001b[1;32m    605\u001b[0m \u001b[39m        multilabel: determines if data is multilabel or not.\u001b[39;00m\n\u001b[1;32m    606\u001b[0m \u001b[39m    \"\"\"\u001b[39;00m\n\u001b[0;32m--> 608\u001b[0m     preds, target, mode \u001b[39m=\u001b[39m _input_format_classification(preds, target, threshold)\n\u001b[1;32m    609\u001b[0m     \u001b[39mif\u001b[39;00m mode \u001b[39mnot\u001b[39;00m \u001b[39min\u001b[39;00m (DataType\u001b[39m.\u001b[39mBINARY, DataType\u001b[39m.\u001b[39mMULTILABEL):\n\u001b[1;32m    610\u001b[0m         preds \u001b[39m=\u001b[39m preds\u001b[39m.\u001b[39margmax(dim\u001b[39m=\u001b[39m\u001b[39m1\u001b[39m)\n",
      "File \u001b[0;32m~/anaconda3/envs/graphnet/lib/python3.8/site-packages/torchmetrics/utilities/checks.py:412\u001b[0m, in \u001b[0;36m_input_format_classification\u001b[0;34m(preds, target, threshold, top_k, num_classes, multiclass, ignore_index)\u001b[0m\n\u001b[1;32m    409\u001b[0m \u001b[39mif\u001b[39;00m preds\u001b[39m.\u001b[39mdtype \u001b[39m==\u001b[39m torch\u001b[39m.\u001b[39mfloat16:\n\u001b[1;32m    410\u001b[0m     preds \u001b[39m=\u001b[39m preds\u001b[39m.\u001b[39mfloat()\n\u001b[0;32m--> 412\u001b[0m case \u001b[39m=\u001b[39m _check_classification_inputs(\n\u001b[1;32m    413\u001b[0m     preds,\n\u001b[1;32m    414\u001b[0m     target,\n\u001b[1;32m    415\u001b[0m     threshold\u001b[39m=\u001b[39;49mthreshold,\n\u001b[1;32m    416\u001b[0m     num_classes\u001b[39m=\u001b[39;49mnum_classes,\n\u001b[1;32m    417\u001b[0m     multiclass\u001b[39m=\u001b[39;49mmulticlass,\n\u001b[1;32m    418\u001b[0m     top_k\u001b[39m=\u001b[39;49mtop_k,\n\u001b[1;32m    419\u001b[0m     ignore_index\u001b[39m=\u001b[39;49mignore_index,\n\u001b[1;32m    420\u001b[0m )\n\u001b[1;32m    422\u001b[0m \u001b[39mif\u001b[39;00m case \u001b[39min\u001b[39;00m (DataType\u001b[39m.\u001b[39mBINARY, DataType\u001b[39m.\u001b[39mMULTILABEL) \u001b[39mand\u001b[39;00m \u001b[39mnot\u001b[39;00m top_k:\n\u001b[1;32m    423\u001b[0m     preds \u001b[39m=\u001b[39m (preds \u001b[39m>\u001b[39m\u001b[39m=\u001b[39m threshold)\u001b[39m.\u001b[39mint()\n",
      "File \u001b[0;32m~/anaconda3/envs/graphnet/lib/python3.8/site-packages/torchmetrics/utilities/checks.py:283\u001b[0m, in \u001b[0;36m_check_classification_inputs\u001b[0;34m(preds, target, threshold, num_classes, multiclass, top_k, ignore_index)\u001b[0m\n\u001b[1;32m    278\u001b[0m         \u001b[39mraise\u001b[39;00m \u001b[39mValueError\u001b[39;00m(\n\u001b[1;32m    279\u001b[0m             \u001b[39m\"\u001b[39m\u001b[39mYou have set `multiclass=False`, but have more than 2 classes in your data,\u001b[39m\u001b[39m\"\u001b[39m\n\u001b[1;32m    280\u001b[0m             \u001b[39m\"\u001b[39m\u001b[39m based on the C dimension of `preds`.\u001b[39m\u001b[39m\"\u001b[39m\n\u001b[1;32m    281\u001b[0m         )\n\u001b[1;32m    282\u001b[0m     \u001b[39mif\u001b[39;00m target\u001b[39m.\u001b[39mmax() \u001b[39m>\u001b[39m\u001b[39m=\u001b[39m implied_classes:\n\u001b[0;32m--> 283\u001b[0m         \u001b[39mraise\u001b[39;00m \u001b[39mValueError\u001b[39;00m(\n\u001b[1;32m    284\u001b[0m             \u001b[39m\"\u001b[39m\u001b[39mThe highest label in `target` should be smaller than the size of the `C` dimension of `preds`.\u001b[39m\u001b[39m\"\u001b[39m\n\u001b[1;32m    285\u001b[0m         )\n\u001b[1;32m    287\u001b[0m \u001b[39m# Check that num_classes is consistent\u001b[39;00m\n\u001b[1;32m    288\u001b[0m \u001b[39mif\u001b[39;00m num_classes:\n",
      "\u001b[0;31mValueError\u001b[0m: The highest label in `target` should be smaller than the size of the `C` dimension of `preds`."
     ]
    }
   ],
   "source": [
    "confmat = ConfusionMatrix(num_classes=3)\n",
    "confmat(preds, target)"
   ]
  },
  {
   "cell_type": "code",
   "execution_count": null,
   "metadata": {},
   "outputs": [],
   "source": []
  }
 ],
 "metadata": {
  "kernelspec": {
   "display_name": "Python 3.8.13 ('graphnet')",
   "language": "python",
   "name": "python3"
  },
  "language_info": {
   "codemirror_mode": {
    "name": "ipython",
    "version": 3
   },
   "file_extension": ".py",
   "mimetype": "text/x-python",
   "name": "python",
   "nbconvert_exporter": "python",
   "pygments_lexer": "ipython3",
   "version": "3.8.13"
  },
  "orig_nbformat": 4,
  "vscode": {
   "interpreter": {
    "hash": "e54c104f54ca5f79eede1c2e02355cc39841da57601eff628eedcebaaa867660"
   }
  }
 },
 "nbformat": 4,
 "nbformat_minor": 2
}
