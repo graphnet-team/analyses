{
 "cells": [
  {
   "cell_type": "code",
   "execution_count": 2,
   "metadata": {},
   "outputs": [],
   "source": [
    "import sqlite3 as sql\n",
    "\n",
    "import numpy as np\n",
    "import pandas as pd\n",
    "from pandas import cut, read_sql\n",
    "import pickle as pkl\n",
    "from random import choices\n",
    "from sklearn import metrics\n",
    "import matplotlib.pyplot as plt\n",
    "import matplotlib.colors as colors\n",
    "import scipy.optimize as optimize\n",
    "\n"
   ]
  },
  {
   "cell_type": "code",
   "execution_count": 43,
   "metadata": {},
   "outputs": [],
   "source": [
    "track_cascade_dir = \"/groups/icecube/petersen/GraphNetDatabaseRepository/multi_classification_track_cascade_neutrino/using_new_muons_Peter_database/inference/Test_set/Unfinished/track_mu_New_muon_test_set.csv\"\n",
    "energy_dir = \"/groups/icecube/petersen/GraphNetDatabaseRepository/multi_classification_track_cascade_neutrino/using_new_muons_Peter_database/inference/Test_set/Unfinished/energy_New_muon_test_set.csv\""
   ]
  },
  {
   "cell_type": "code",
   "execution_count": 44,
   "metadata": {},
   "outputs": [],
   "source": [
    "outdir = \"/groups/icecube/petersen/GraphNetDatabaseRepository/multi_classification_track_cascade_neutrino/using_new_muons_Peter_database/inference/Test_set/\"\n",
    "track_cascade = pd.read_csv(track_cascade_dir)#.sort_values('event_no').reset_index(drop = True)\n",
    "energy = pd.read_csv(energy_dir)#.sort_values('event_no').reset_index(drop = True)"
   ]
  },
  {
   "cell_type": "code",
   "execution_count": 9,
   "metadata": {},
   "outputs": [],
   "source": [
    "indir_db = \"/groups/icecube/petersen/GraphNetDatabaseRepository/osc_next_database_new_muons_peter/Merged_db/osc_next_level3_v2.00_genie_muongun_noise_120000_140000_160000_139008_888003_retro.db\"\n",
    "with sql.connect(indir_db) as con:\n",
    "        query = f\"\"\"\n",
    "        SELECT\n",
    "            event_no, energy, pid, interaction_type\n",
    "        FROM \n",
    "            truth\n",
    "        \"\"\"\n",
    "        data = read_sql(query,con)"
   ]
  },
  {
   "cell_type": "code",
   "execution_count": 45,
   "metadata": {},
   "outputs": [
    {
     "name": "stdout",
     "output_type": "stream",
     "text": [
      "(38885781, 4)\n"
     ]
    }
   ],
   "source": [
    "print(np.shape(data))"
   ]
  },
  {
   "cell_type": "code",
   "execution_count": 49,
   "metadata": {},
   "outputs": [
    {
     "name": "stdout",
     "output_type": "stream",
     "text": [
      "(37235782, 4)\n"
     ]
    }
   ],
   "source": [
    "data_energy = data[data['event_no'].isin(energy['event_no'])]\n",
    "print(np.shape(data_energy))\n",
    "data_energy.drop(columns=['pid','interaction_type'])\n",
    "energy_new = pd.merge(energy.reset_index(drop=True),data_energy.reset_index(drop=True),on='event_no',how='inner')\n",
    "#data_energy = data_energy.sort_values('event_no').reset_index(drop = True)\n",
    "#energy['energy'] = data_energy['energy']\n"
   ]
  },
  {
   "cell_type": "code",
   "execution_count": 54,
   "metadata": {},
   "outputs": [
    {
     "name": "stdout",
     "output_type": "stream",
     "text": [
      "          event_no     energy   pid  interaction_type\n",
      "21794140  21794140  14.685727  14.0               1.0\n",
      "   Unnamed: 0  energy_pred    event_no\n",
      "0           0    17.948006  21794140.0\n",
      "1           1    12.543299   6635665.0\n",
      "   Unnamed: 0  energy_pred    event_no     energy\n",
      "0           0    17.948006  21794140.0  14.685727\n",
      "1           1    12.543299   6635665.0   9.670133\n",
      "          Unnamed: 0  energy_pred    event_no       energy\n",
      "0                  0    17.948006  21794140.0    14.685727\n",
      "1                  1    12.543299   6635665.0     9.670133\n",
      "2                  2    12.193014  24365311.0     6.789574\n",
      "3                  3    17.239094  11910373.0    10.895575\n",
      "4                  4   685.727966  12728493.0  1972.088840\n",
      "...              ...          ...         ...          ...\n",
      "37235777    37235777   259.981476  31416462.0   250.099309\n",
      "37235778    37235778    14.046779  32069858.0    17.490920\n",
      "37235779    37235779    30.609650  38642742.0    40.686083\n",
      "37235780    37235780     8.823096   7800311.0    41.400131\n",
      "37235781    37235781    82.837196   9304911.0    75.959977\n",
      "\n",
      "[37235782 rows x 4 columns]\n"
     ]
    }
   ],
   "source": [
    "print(data_energy[data_energy['event_no']==21794140])\n",
    "print(energy.head(2))\n",
    "print(energy_new.head(2))\n",
    "#energy_new = energy_new.drop(columns=['pid','interaction_type'])\n",
    "print(energy_new)"
   ]
  },
  {
   "cell_type": "code",
   "execution_count": 55,
   "metadata": {},
   "outputs": [],
   "source": [
    "#energy_new.to_csv(outdir+'energy_New_muon_test_set_inc_truth.csv',index=False)"
   ]
  },
  {
   "cell_type": "code",
   "execution_count": 14,
   "metadata": {},
   "outputs": [
    {
     "name": "stderr",
     "output_type": "stream",
     "text": [
      "/tmp/ipykernel_22641/3519542000.py:9: SettingWithCopyWarning: \n",
      "A value is trying to be set on a copy of a slice from a DataFrame.\n",
      "Try using .loc[row_indexer,col_indexer] = value instead\n",
      "\n",
      "See the caveats in the documentation: https://pandas.pydata.org/pandas-docs/stable/user_guide/indexing.html#returning-a-view-versus-a-copy\n",
      "  data_track_cascade['colF'] = data_track_cascade.apply(lambda row: categorise(row), axis=1)\n"
     ]
    }
   ],
   "source": [
    "data_track_cascade = data[data['event_no'].isin(track_cascade['event_no'].tolist())]\n",
    "\n",
    "def categorise(row):  \n",
    "    if abs(row['pid']) == 14 and row['interaction_type'] == 1:\n",
    "        return 1\n",
    "    else:\n",
    "        return 0\n",
    "\n",
    "data_track_cascade['track_mu'] = data_track_cascade.apply(lambda row: categorise(row), axis=1)"
   ]
  },
  {
   "cell_type": "code",
   "execution_count": 56,
   "metadata": {},
   "outputs": [
    {
     "name": "stdout",
     "output_type": "stream",
     "text": [
      "   event_no    energy   pid  interaction_type  track_mu\n",
      "0         0  3.170023 -14.0               1.0         1\n",
      "1         1  2.751959  14.0               1.0         1\n",
      "2         2  4.437488  14.0               1.0         1\n",
      "3         3  1.401135  14.0               1.0         1\n",
      "4         4  4.818309 -14.0               1.0         1\n",
      "5         5  4.888742  14.0               1.0         1\n",
      "6         6  1.715900  14.0               1.0         1\n",
      "7         7  4.413545  14.0               2.0         0\n",
      "8         8  1.577124  14.0               1.0         1\n",
      "9         9  2.024239  14.0               1.0         1\n"
     ]
    }
   ],
   "source": [
    "\n",
    "print(data_track_cascade.head(10))"
   ]
  },
  {
   "cell_type": "code",
   "execution_count": 57,
   "metadata": {},
   "outputs": [
    {
     "name": "stdout",
     "output_type": "stream",
     "text": [
      "          Unnamed: 0  track_mu_pred    event_no       energy  track_mu\n",
      "0                  0       0.603855  21794140.0    14.685727         1\n",
      "1                  1       0.442382   6635665.0     9.670133         0\n",
      "2                  2       0.462526  24365311.0     6.789574         1\n",
      "3                  3       0.420581  11910373.0    10.895575         1\n",
      "4                  4       0.999995  12728493.0  1972.088840         1\n",
      "...              ...            ...         ...          ...       ...\n",
      "37235777    37235777       0.972365  31416462.0   250.099309         1\n",
      "37235778    37235778       0.531232  32069858.0    17.490920         0\n",
      "37235779    37235779       0.833933  38642742.0    40.686083         1\n",
      "37235780    37235780       0.427755   7800311.0    41.400131         0\n",
      "37235781    37235781       0.218499   9304911.0    75.959977         0\n",
      "\n",
      "[37235782 rows x 5 columns]\n"
     ]
    }
   ],
   "source": [
    "#data_track_cascade.sort_values('event_no').reset_index(drop = True)\n",
    "#track_cascade.sort_values('event_no').reset_index(drop = True)\n",
    "#track_cascade['track_mu'] = data_track_cascade['track_mu']\n",
    "track_cascade_new = pd.merge(track_cascade.reset_index(drop=True),data_track_cascade.reset_index(drop=True),on='event_no',how='inner')\n",
    "track_cascade_new = track_cascade_new.drop(columns=['pid','interaction_type'])\n",
    "print(track_cascade_new)"
   ]
  },
  {
   "cell_type": "code",
   "execution_count": 61,
   "metadata": {},
   "outputs": [
    {
     "name": "stdout",
     "output_type": "stream",
     "text": [
      "          event_no     energy   pid  interaction_type  track_mu\n",
      "21794140  21794140  14.685727  14.0               1.0         1\n",
      "   Unnamed: 0  track_mu_pred    event_no\n",
      "0           0       0.603855  21794140.0\n",
      "1           1       0.442382   6635665.0\n",
      "   Unnamed: 0  track_mu_pred    event_no     energy  track_mu\n",
      "0           0       0.603855  21794140.0  14.685727         1\n",
      "1           1       0.442382   6635665.0   9.670133         0\n",
      "          Unnamed: 0  track_mu_pred    event_no  track_mu\n",
      "0                  0       0.603855  21794140.0         1\n",
      "1                  1       0.442382   6635665.0         0\n",
      "2                  2       0.462526  24365311.0         1\n",
      "3                  3       0.420581  11910373.0         1\n",
      "4                  4       0.999995  12728493.0         1\n",
      "...              ...            ...         ...       ...\n",
      "37235777    37235777       0.972365  31416462.0         1\n",
      "37235778    37235778       0.531232  32069858.0         0\n",
      "37235779    37235779       0.833933  38642742.0         1\n",
      "37235780    37235780       0.427755   7800311.0         0\n",
      "37235781    37235781       0.218499   9304911.0         0\n",
      "\n",
      "[37235782 rows x 4 columns]\n"
     ]
    }
   ],
   "source": [
    "print(data_track_cascade[data_track_cascade['event_no']==21794140])\n",
    "print(track_cascade.head(2))\n",
    "print(track_cascade_new.head(2))\n",
    "print(track_cascade_new.drop(columns=['energy']))"
   ]
  },
  {
   "cell_type": "code",
   "execution_count": 64,
   "metadata": {},
   "outputs": [],
   "source": [
    "#track_cascade_new.to_csv(outdir+'track_cascade_New_muon_test_set_inc_truth.csv',index=False)"
   ]
  },
  {
   "cell_type": "code",
   "execution_count": 63,
   "metadata": {},
   "outputs": [
    {
     "data": {
      "text/plain": [
       "(array([1.104000e+03, 2.798000e+03, 5.214000e+03, 7.739000e+03,\n",
       "        1.047800e+04, 1.353800e+04, 1.622400e+04, 1.939900e+04,\n",
       "        2.238900e+04, 2.502400e+04, 2.784200e+04, 3.005600e+04,\n",
       "        3.245100e+04, 3.449000e+04, 3.614500e+04, 3.866400e+04,\n",
       "        4.017100e+04, 4.246100e+04, 4.415300e+04, 4.579400e+04,\n",
       "        4.792000e+04, 4.942900e+04, 5.124100e+04, 5.389500e+04,\n",
       "        5.665400e+04, 5.910500e+04, 6.188300e+04, 6.557200e+04,\n",
       "        7.020900e+04, 7.432300e+04, 7.942200e+04, 8.515100e+04,\n",
       "        9.200300e+04, 1.002890e+05, 1.106750e+05, 1.217080e+05,\n",
       "        1.371360e+05, 1.561110e+05, 1.839370e+05, 2.284100e+05,\n",
       "        2.972520e+05, 3.940280e+05, 5.118690e+05, 6.258470e+05,\n",
       "        7.113740e+05, 7.474620e+05, 7.362870e+05, 6.989210e+05,\n",
       "        6.465910e+05, 5.922270e+05, 5.331830e+05, 4.712010e+05,\n",
       "        4.059630e+05, 3.484040e+05, 2.982540e+05, 2.591760e+05,\n",
       "        2.289110e+05, 2.053910e+05, 1.851440e+05, 1.692570e+05,\n",
       "        1.552960e+05, 1.438210e+05, 1.328830e+05, 1.248510e+05,\n",
       "        1.166230e+05, 1.103530e+05, 1.041210e+05, 9.952600e+04,\n",
       "        9.438800e+04, 9.050500e+04, 8.630900e+04, 8.385700e+04,\n",
       "        8.068200e+04, 7.762100e+04, 7.553100e+04, 7.402800e+04,\n",
       "        7.236600e+04, 7.034900e+04, 6.896200e+04, 6.749800e+04,\n",
       "        6.725800e+04, 6.703100e+04, 6.605100e+04, 6.595700e+04,\n",
       "        6.547700e+04, 6.604500e+04, 6.641800e+04, 6.743100e+04,\n",
       "        6.872100e+04, 7.028600e+04, 7.279800e+04, 7.608900e+04,\n",
       "        8.005300e+04, 8.532200e+04, 9.388100e+04, 1.060330e+05,\n",
       "        1.243410e+05, 1.570610e+05, 2.340470e+05, 2.976303e+06]),\n",
       " array([6.40006235e-08, 1.00000634e-02, 2.00000627e-02, 3.00000621e-02,\n",
       "        4.00000614e-02, 5.00000608e-02, 6.00000602e-02, 7.00000595e-02,\n",
       "        8.00000589e-02, 9.00000582e-02, 1.00000058e-01, 1.10000057e-01,\n",
       "        1.20000056e-01, 1.30000056e-01, 1.40000055e-01, 1.50000054e-01,\n",
       "        1.60000054e-01, 1.70000053e-01, 1.80000052e-01, 1.90000052e-01,\n",
       "        2.00000051e-01, 2.10000051e-01, 2.20000050e-01, 2.30000049e-01,\n",
       "        2.40000049e-01, 2.50000048e-01, 2.60000047e-01, 2.70000047e-01,\n",
       "        2.80000046e-01, 2.90000045e-01, 3.00000045e-01, 3.10000044e-01,\n",
       "        3.20000044e-01, 3.30000043e-01, 3.40000042e-01, 3.50000042e-01,\n",
       "        3.60000041e-01, 3.70000040e-01, 3.80000040e-01, 3.90000039e-01,\n",
       "        4.00000038e-01, 4.10000038e-01, 4.20000037e-01, 4.30000036e-01,\n",
       "        4.40000036e-01, 4.50000035e-01, 4.60000035e-01, 4.70000034e-01,\n",
       "        4.80000033e-01, 4.90000033e-01, 5.00000032e-01, 5.10000031e-01,\n",
       "        5.20000031e-01, 5.30000030e-01, 5.40000029e-01, 5.50000029e-01,\n",
       "        5.60000028e-01, 5.70000028e-01, 5.80000027e-01, 5.90000026e-01,\n",
       "        6.00000026e-01, 6.10000025e-01, 6.20000024e-01, 6.30000024e-01,\n",
       "        6.40000023e-01, 6.50000022e-01, 6.60000022e-01, 6.70000021e-01,\n",
       "        6.80000020e-01, 6.90000020e-01, 7.00000019e-01, 7.10000019e-01,\n",
       "        7.20000018e-01, 7.30000017e-01, 7.40000017e-01, 7.50000016e-01,\n",
       "        7.60000015e-01, 7.70000015e-01, 7.80000014e-01, 7.90000013e-01,\n",
       "        8.00000013e-01, 8.10000012e-01, 8.20000012e-01, 8.30000011e-01,\n",
       "        8.40000010e-01, 8.50000010e-01, 8.60000009e-01, 8.70000008e-01,\n",
       "        8.80000008e-01, 8.90000007e-01, 9.00000006e-01, 9.10000006e-01,\n",
       "        9.20000005e-01, 9.30000004e-01, 9.40000004e-01, 9.50000003e-01,\n",
       "        9.60000003e-01, 9.70000002e-01, 9.80000001e-01, 9.90000001e-01,\n",
       "        1.00000000e+00]),\n",
       " <BarContainer object of 100 artists>)"
      ]
     },
     "execution_count": 63,
     "metadata": {},
     "output_type": "execute_result"
    },
    {
     "data": {
      "image/png": "[encoded data removed]",
      "text/plain": [
       "<Figure size 640x480 with 1 Axes>"
      ]
     },
     "metadata": {},
     "output_type": "display_data"
    }
   ],
   "source": [
    "cascades = track_cascade_new['event_no'][track_cascade_new['track_mu']==0]\n",
    "tracks = track_cascade_new['event_no'][track_cascade_new['track_mu']==1]\n",
    "#plt.hist(track_cascade['track_mu_pred'][track_cascade['track_mu']==1],bins=100)\n",
    "plt.hist(track_cascade_new['track_mu_pred'][track_cascade_new['event_no'].isin(cascades.to_list())],bins=100,alpha=0.5)\n",
    "plt.hist(track_cascade_new['track_mu_pred'][track_cascade_new['event_no'].isin(tracks.to_list())],bins=100,alpha=0.5)"
   ]
  },
  {
   "cell_type": "code",
   "execution_count": 26,
   "metadata": {},
   "outputs": [
    {
     "data": {
      "text/plain": [
       "(array([  62908.,   88190.,  121920.,  148852.,  172262.,  191322.,\n",
       "         206153.,  218575.,  228056.,  234513.,  240491.,  243331.,\n",
       "         244492.,  244357.,  243051.,  243009.,  240507.,  239195.,\n",
       "         235700.,  233689.,  230973.,  228945.,  228425.,  228969.,\n",
       "         228888.,  230516.,  232698.,  236346.,  242193.,  250065.,\n",
       "         258093.,  268248.,  281186.,  296490.,  317453.,  338545.,\n",
       "         368556.,  408079.,  465040.,  555875.,  697928.,  899663.,\n",
       "        1140197., 1371593., 1527647., 1578155., 1535077., 1438266.,\n",
       "        1321540., 1196035., 1065797.,  933074.,  796116.,  675732.,\n",
       "         572032.,  491240.,  427712.,  379781.,  338519.,  305602.,\n",
       "         276483.,  253501.,  231352.,  214371.,  197989.,  184534.,\n",
       "         172309.,  161645.,  151942.,  143765.,  135460.,  129391.,\n",
       "         123399.,  117825.,  113069.,  108858.,  104873.,  100898.,\n",
       "          97697.,   95030.,   92814.,   91399.,   89093.,   87760.,\n",
       "          86237.,   85775.,   85196.,   85532.,   85992.,   87120.,\n",
       "          88950.,   91713.,   95358.,  100499.,  109249.,  122170.,\n",
       "         141336.,  176344.,  260210., 3390782.]),\n",
       " array([0.  , 0.01, 0.02, 0.03, 0.04, 0.05, 0.06, 0.07, 0.08, 0.09, 0.1 ,\n",
       "        0.11, 0.12, 0.13, 0.14, 0.15, 0.16, 0.17, 0.18, 0.19, 0.2 , 0.21,\n",
       "        0.22, 0.23, 0.24, 0.25, 0.26, 0.27, 0.28, 0.29, 0.3 , 0.31, 0.32,\n",
       "        0.33, 0.34, 0.35, 0.36, 0.37, 0.38, 0.39, 0.4 , 0.41, 0.42, 0.43,\n",
       "        0.44, 0.45, 0.46, 0.47, 0.48, 0.49, 0.5 , 0.51, 0.52, 0.53, 0.54,\n",
       "        0.55, 0.56, 0.57, 0.58, 0.59, 0.6 , 0.61, 0.62, 0.63, 0.64, 0.65,\n",
       "        0.66, 0.67, 0.68, 0.69, 0.7 , 0.71, 0.72, 0.73, 0.74, 0.75, 0.76,\n",
       "        0.77, 0.78, 0.79, 0.8 , 0.81, 0.82, 0.83, 0.84, 0.85, 0.86, 0.87,\n",
       "        0.88, 0.89, 0.9 , 0.91, 0.92, 0.93, 0.94, 0.95, 0.96, 0.97, 0.98,\n",
       "        0.99, 1.  ]),\n",
       " <BarContainer object of 100 artists>)"
      ]
     },
     "execution_count": 26,
     "metadata": {},
     "output_type": "execute_result"
    },
    {
     "data": {
      "image/png": "[encoded data removed]",
      "text/plain": [
       "<Figure size 640x480 with 1 Axes>"
      ]
     },
     "metadata": {},
     "output_type": "display_data"
    }
   ],
   "source": []
  },
  {
   "cell_type": "code",
   "execution_count": 27,
   "metadata": {},
   "outputs": [],
   "source": [
    "track_cascade_old = pd.read_csv(\"/groups/icecube/petersen/GraphNetDatabaseRepository/multi_classification_track_cascade_neutrino/using_new_muons_Peter_database/inference/Test_set/Unfinished/track_mu_New_muon_test_set.csv\")"
   ]
  },
  {
   "cell_type": "code",
   "execution_count": 32,
   "metadata": {},
   "outputs": [
    {
     "name": "stdout",
     "output_type": "stream",
     "text": [
      "          Unnamed: 0  track_mu_pred    event_no\n",
      "15872425    15872425       0.448105         0.0\n",
      "8488513      8488513       0.549197         1.0\n",
      "3514308      3514308       0.449152         2.0\n",
      "14889784    14889784       0.471418         3.0\n",
      "28688165    28688165       0.458505         4.0\n",
      "...              ...            ...         ...\n",
      "10367224    10367224       0.999980  38885776.0\n",
      "4388997      4388997       0.148725  38885777.0\n",
      "10062375    10062375       0.083122  38885778.0\n",
      "25062011    25062011       0.038035  38885779.0\n",
      "23901573    23901573       0.117126  38885780.0\n",
      "\n",
      "[37235782 rows x 3 columns]\n",
      "          Unnamed: 0  track_mu_pred    event_no\n",
      "0                  0       0.603855  21794140.0\n",
      "1                  1       0.442382   6635665.0\n",
      "2                  2       0.462526  24365311.0\n",
      "3                  3       0.420581  11910373.0\n",
      "4                  4       0.999995  12728493.0\n",
      "...              ...            ...         ...\n",
      "37235777    37235777       0.972365  31416462.0\n",
      "37235778    37235778       0.531232  32069858.0\n",
      "37235779    37235779       0.833933  38642742.0\n",
      "37235780    37235780       0.427755   7800311.0\n",
      "37235781    37235781       0.218499   9304911.0\n",
      "\n",
      "[37235782 rows x 3 columns]\n"
     ]
    }
   ],
   "source": [
    "print(track_cascade_old.sort_values('event_no'))\n",
    "print(track_cascade_old)"
   ]
  },
  {
   "cell_type": "code",
   "execution_count": 31,
   "metadata": {},
   "outputs": [
    {
     "name": "stdout",
     "output_type": "stream",
     "text": [
      "          Unnamed: 0  track_mu_pred    event_no  track_mu\n",
      "0           15872425       0.448105         0.0       1.0\n",
      "1            8488513       0.549197         1.0       1.0\n",
      "2            3514308       0.449152         2.0       1.0\n",
      "3           14889784       0.471418         3.0       1.0\n",
      "4           28688165       0.458505         4.0       1.0\n",
      "...              ...            ...         ...       ...\n",
      "37235777    10367224       0.999980  38885776.0       0.0\n",
      "37235778     4388997       0.148725  38885777.0       0.0\n",
      "37235779    10062375       0.083122  38885778.0       0.0\n",
      "37235780    25062011       0.038035  38885779.0       0.0\n",
      "37235781    23901573       0.117126  38885780.0       0.0\n",
      "\n",
      "[37235782 rows x 4 columns]\n"
     ]
    }
   ],
   "source": [
    "print(track_cascade)"
   ]
  },
  {
   "cell_type": "code",
   "execution_count": 38,
   "metadata": {},
   "outputs": [
    {
     "data": {
      "text/plain": [
       "(array([   5885.,   11892.,   17903.,   23061.,   27989.,   32900.,\n",
       "          37013.,   40918.,   44493.,   47784.,   50632.,   52911.,\n",
       "          55193.,   56832.,   58346.,   60749.,   61423.,   63581.,\n",
       "          64570.,   65887.,   67098.,   68232.,   70249.,   72423.,\n",
       "          74691.,   77168.,   79888.,   83234.,   88353.,   92742.,\n",
       "          97886.,  104009.,  111359.,  120531.,  131762.,  144020.,\n",
       "         160592.,  181784.,  212409.,  261476.,  337570.,  444582.,\n",
       "         573543.,  698477.,  790569.,  828616.,  813638.,  770601.,\n",
       "         711816.,  651335.,  585108.,  516261.,  443931.,  380057.,\n",
       "         324469.,  281485.,  248133.,  222032.,  199756.,  182289.,\n",
       "         166668.,  154254.,  142146.,  133198.,  124019.,  117283.,\n",
       "         110600.,  105278.,   99636.,   95271.,   90750.,   88059.,\n",
       "          84445.,   81110.,   78859.,   77162.,   75217.,   73053.,\n",
       "          71430.,   69814.,   69463.,   69094.,   67898.,   67761.,\n",
       "          67143.,   67627.,   67834.,   68826.,   70027.,   71461.,\n",
       "          73919.,   77167.,   81067.,   86177.,   94693.,  106787.,\n",
       "         125045.,  157714.,  234628., 2976900.]),\n",
       " array([1.21832739e-08, 1.00000121e-02, 2.00000119e-02, 3.00000118e-02,\n",
       "        4.00000117e-02, 5.00000116e-02, 6.00000115e-02, 7.00000113e-02,\n",
       "        8.00000112e-02, 9.00000111e-02, 1.00000011e-01, 1.10000011e-01,\n",
       "        1.20000011e-01, 1.30000011e-01, 1.40000010e-01, 1.50000010e-01,\n",
       "        1.60000010e-01, 1.70000010e-01, 1.80000010e-01, 1.90000010e-01,\n",
       "        2.00000010e-01, 2.10000010e-01, 2.20000010e-01, 2.30000009e-01,\n",
       "        2.40000009e-01, 2.50000009e-01, 2.60000009e-01, 2.70000009e-01,\n",
       "        2.80000009e-01, 2.90000009e-01, 3.00000009e-01, 3.10000008e-01,\n",
       "        3.20000008e-01, 3.30000008e-01, 3.40000008e-01, 3.50000008e-01,\n",
       "        3.60000008e-01, 3.70000008e-01, 3.80000008e-01, 3.90000007e-01,\n",
       "        4.00000007e-01, 4.10000007e-01, 4.20000007e-01, 4.30000007e-01,\n",
       "        4.40000007e-01, 4.50000007e-01, 4.60000007e-01, 4.70000006e-01,\n",
       "        4.80000006e-01, 4.90000006e-01, 5.00000006e-01, 5.10000006e-01,\n",
       "        5.20000006e-01, 5.30000006e-01, 5.40000006e-01, 5.50000005e-01,\n",
       "        5.60000005e-01, 5.70000005e-01, 5.80000005e-01, 5.90000005e-01,\n",
       "        6.00000005e-01, 6.10000005e-01, 6.20000005e-01, 6.30000005e-01,\n",
       "        6.40000004e-01, 6.50000004e-01, 6.60000004e-01, 6.70000004e-01,\n",
       "        6.80000004e-01, 6.90000004e-01, 7.00000004e-01, 7.10000004e-01,\n",
       "        7.20000003e-01, 7.30000003e-01, 7.40000003e-01, 7.50000003e-01,\n",
       "        7.60000003e-01, 7.70000003e-01, 7.80000003e-01, 7.90000003e-01,\n",
       "        8.00000002e-01, 8.10000002e-01, 8.20000002e-01, 8.30000002e-01,\n",
       "        8.40000002e-01, 8.50000002e-01, 8.60000002e-01, 8.70000002e-01,\n",
       "        8.80000001e-01, 8.90000001e-01, 9.00000001e-01, 9.10000001e-01,\n",
       "        9.20000001e-01, 9.30000001e-01, 9.40000001e-01, 9.50000001e-01,\n",
       "        9.60000000e-01, 9.70000000e-01, 9.80000000e-01, 9.90000000e-01,\n",
       "        1.00000000e+00]),\n",
       " <BarContainer object of 100 artists>)"
      ]
     },
     "execution_count": 38,
     "metadata": {},
     "output_type": "execute_result"
    },
    {
     "data": {
      "image/png": "[encoded data removed]",
      "text/plain": [
       "<Figure size 640x480 with 1 Axes>"
      ]
     },
     "metadata": {},
     "output_type": "display_data"
    }
   ],
   "source": [
    "electron_neutrinos = data['event_no'][data['pid'].isin((12,-12))]\n",
    "tau_neutrinos = data['event_no'][data['pid'].isin((16,-16))]\n",
    "muon_neutrinos = data['event_no'][data['pid'].isin((14,-14))]\n",
    "plt.hist(track_cascade_old['track_mu_pred'][track_cascade_old['event_no'].isin(electron_neutrinos.to_list())],bins=100,alpha=0.5)\n",
    "plt.hist(track_cascade_old['track_mu_pred'][track_cascade_old['event_no'].isin(tau_neutrinos.to_list())],bins=100,alpha=0.5)\n",
    "plt.hist(track_cascade_old['track_mu_pred'][track_cascade_old['event_no'].isin(muon_neutrinos.to_list())],bins=100,alpha=0.5)\n"
   ]
  },
  {
   "cell_type": "code",
   "execution_count": 41,
   "metadata": {},
   "outputs": [
    {
     "data": {
      "text/plain": [
       "(array([  31655.,   44128.,   60689.,   74521.,   86169.,   95897.,\n",
       "         103375.,  109361.,  114101.,  116976.,  120153.,  121123.,\n",
       "         121794.,  121890.,  120937.,  120836.,  119432.,  118839.,\n",
       "         117429.,  115921.,  114722.,  113831.,  113308.,  113295.,\n",
       "         113516.,  114119.,  115018.,  116550.,  119434.,  123428.,\n",
       "         128171.,  131826.,  138682.,  146189.,  156815.,  166679.,\n",
       "         181446.,  201619.,  229146.,  273012.,  344950.,  444327.,\n",
       "         563676.,  678179.,  754840.,  779188.,  756289.,  707786.,\n",
       "         651495.,  588412.,  523712.,  459145.,  392316.,  332090.,\n",
       "         280764.,  241478.,  210372.,  186503.,  166001.,  149590.,\n",
       "         135971.,  124802.,  113959.,  105123.,   97042.,   90727.,\n",
       "          84521.,   79447.,   74690.,   70731.,   66736.,   63543.,\n",
       "          60412.,   57997.,   55522.,   53353.,   51563.,   49423.,\n",
       "          47701.,   46664.,   45283.,   44504.,   43526.,   42751.,\n",
       "          42190.,   41841.,   41429.,   41641.,   42085.,   42314.,\n",
       "          43132.,   44559.,   46463.,   48976.,   53294.,   59614.,\n",
       "          68712.,   85697.,  126394., 1643209.]),\n",
       " array([0.  , 0.01, 0.02, 0.03, 0.04, 0.05, 0.06, 0.07, 0.08, 0.09, 0.1 ,\n",
       "        0.11, 0.12, 0.13, 0.14, 0.15, 0.16, 0.17, 0.18, 0.19, 0.2 , 0.21,\n",
       "        0.22, 0.23, 0.24, 0.25, 0.26, 0.27, 0.28, 0.29, 0.3 , 0.31, 0.32,\n",
       "        0.33, 0.34, 0.35, 0.36, 0.37, 0.38, 0.39, 0.4 , 0.41, 0.42, 0.43,\n",
       "        0.44, 0.45, 0.46, 0.47, 0.48, 0.49, 0.5 , 0.51, 0.52, 0.53, 0.54,\n",
       "        0.55, 0.56, 0.57, 0.58, 0.59, 0.6 , 0.61, 0.62, 0.63, 0.64, 0.65,\n",
       "        0.66, 0.67, 0.68, 0.69, 0.7 , 0.71, 0.72, 0.73, 0.74, 0.75, 0.76,\n",
       "        0.77, 0.78, 0.79, 0.8 , 0.81, 0.82, 0.83, 0.84, 0.85, 0.86, 0.87,\n",
       "        0.88, 0.89, 0.9 , 0.91, 0.92, 0.93, 0.94, 0.95, 0.96, 0.97, 0.98,\n",
       "        0.99, 1.  ]),\n",
       " <BarContainer object of 100 artists>)"
      ]
     },
     "execution_count": 41,
     "metadata": {},
     "output_type": "execute_result"
    },
    {
     "data": {
      "image/png": "[encoded data removed]",
      "text/plain": [
       "<Figure size 640x480 with 1 Axes>"
      ]
     },
     "metadata": {},
     "output_type": "display_data"
    }
   ],
   "source": [
    "plt.hist(track_cascade['track_mu_pred'][track_cascade['event_no'].isin(electron_neutrinos.to_list())],bins=100,alpha=0.5)\n",
    "plt.hist(track_cascade['track_mu_pred'][track_cascade['event_no'].isin(tau_neutrinos.to_list())],bins=100,alpha=0.5)\n",
    "plt.hist(track_cascade['track_mu_pred'][track_cascade['event_no'].isin(muon_neutrinos.to_list())],bins=100,alpha=0.5)\n",
    "plt.hist(track_cascade['track_mu_pred'][track_cascade['event_no'].isin(cascades.to_list())],bins=100,alpha=0.5)"
   ]
  },
  {
   "cell_type": "code",
   "execution_count": null,
   "metadata": {},
   "outputs": [],
   "source": []
  },
  {
   "cell_type": "code",
   "execution_count": null,
   "metadata": {},
   "outputs": [],
   "source": []
  },
  {
   "cell_type": "code",
   "execution_count": null,
   "metadata": {},
   "outputs": [],
   "source": []
  },
  {
   "cell_type": "code",
   "execution_count": 65,
   "metadata": {},
   "outputs": [],
   "source": [
    "indir_db = \"/groups/icecube/petersen/GraphNetDatabaseRepository/osc_next_database_new_muons_peter/Merged_db/osc_next_level3_v2.00_genie_muongun_noise_120000_140000_160000_139008_888003_retro.db\"\n",
    "with sql.connect(indir_db) as con:\n",
    "        query = f\"\"\"\n",
    "        SELECT\n",
    "            event_no, osc_weight\n",
    "        FROM \n",
    "            retro\n",
    "        \"\"\"\n",
    "        data = read_sql(query,con)"
   ]
  },
  {
   "cell_type": "code",
   "execution_count": 66,
   "metadata": {},
   "outputs": [],
   "source": [
    "outdir_osc_weight = \"/groups/icecube/petersen/GraphNetDatabaseRepository/multi_classification_track_cascade_neutrino/using_new_muons_Peter_database/inference/Test_set/\"\n",
    "data.to_csv(outdir_osc_weight + 'osc_weights_new_muon.csv',index=False)"
   ]
  },
  {
   "cell_type": "code",
   "execution_count": 67,
   "metadata": {},
   "outputs": [
    {
     "name": "stdout",
     "output_type": "stream",
     "text": [
      "(38885781, 2)\n",
      "   event_no    osc_weight\n",
      "0         0  6.033881e-07\n",
      "1         1  4.399224e-07\n",
      "2         2  6.264433e-07\n",
      "3         3  5.370429e-07\n",
      "4         4  7.690798e-07\n",
      "5         5  5.588442e-07\n",
      "6         6  1.137362e-07\n",
      "7         7  6.321130e-07\n",
      "8         8  3.858035e-07\n",
      "9         9  2.590266e-07\n"
     ]
    }
   ],
   "source": [
    "print(np.shape(data))\n",
    "print(data.head(10))"
   ]
  },
  {
   "cell_type": "code",
   "execution_count": null,
   "metadata": {},
   "outputs": [],
   "source": []
  },
  {
   "cell_type": "code",
   "execution_count": 4,
   "metadata": {},
   "outputs": [],
   "source": [
    "outdir = \"/groups/icecube/petersen/GraphNetDatabaseRepository/multi_classification_track_cascade_neutrino/using_new_muons_Peter_database/inference/Test_set/\"\n",
    "zenith_in = \"/groups/icecube/petersen/GraphNetDatabaseRepository/multi_classification_track_cascade_neutrino/using_new_muons_Peter_database/inference/Test_set/Unfinished/zenith_New_muon_test_set.parquet\"\n",
    "zenith_old = pd.read_parquet(zenith_in).reset_index(drop=True)"
   ]
  },
  {
   "cell_type": "code",
   "execution_count": 6,
   "metadata": {},
   "outputs": [],
   "source": [
    "indir_db = \"/groups/icecube/petersen/GraphNetDatabaseRepository/osc_next_database_new_muons_peter/Merged_db/osc_next_level3_v2.00_genie_muongun_noise_120000_140000_160000_139008_888003_retro.db\"\n",
    "with sql.connect(indir_db) as con:\n",
    "        query = f\"\"\"\n",
    "        SELECT\n",
    "            event_no, zenith\n",
    "        FROM \n",
    "            truth\n",
    "        \"\"\"\n",
    "        data = read_sql(query,con)"
   ]
  },
  {
   "cell_type": "code",
   "execution_count": 7,
   "metadata": {},
   "outputs": [
    {
     "name": "stdout",
     "output_type": "stream",
     "text": [
      "          zenith_pred  zenith_kappa    event_no    zenith\n",
      "0            2.256744      6.909912  21794140.0  2.659752\n",
      "1            1.420821      3.184246   6635665.0  2.515093\n",
      "2            1.920733      5.090563  24365311.0  1.113448\n",
      "3            0.723789      7.141128  11910373.0  0.295836\n",
      "4            1.588571     99.971237  12728493.0  1.410424\n",
      "...               ...           ...         ...       ...\n",
      "37235777     1.925241     54.753761  31416462.0  1.775931\n",
      "37235778     2.491177      8.046426  32069858.0  2.418797\n",
      "37235779     1.743038     13.644675  38642742.0  1.386733\n",
      "37235780     1.508515      5.477738   7800311.0  1.841782\n",
      "37235781     1.279022     27.381962   9304911.0  0.740745\n",
      "\n",
      "[37235782 rows x 4 columns]\n"
     ]
    }
   ],
   "source": [
    "zenith_new = pd.merge(zenith_old.reset_index(drop=True),data.reset_index(drop=True),on='event_no',how='inner')\n",
    "print(zenith_new)"
   ]
  },
  {
   "cell_type": "code",
   "execution_count": 8,
   "metadata": {},
   "outputs": [
    {
     "name": "stdout",
     "output_type": "stream",
     "text": [
      "         event_no    zenith\n",
      "6635665   6635665  2.515093\n"
     ]
    }
   ],
   "source": [
    "print(data[data['event_no']==6635665])"
   ]
  },
  {
   "cell_type": "code",
   "execution_count": 9,
   "metadata": {},
   "outputs": [
    {
     "ename": "",
     "evalue": "",
     "output_type": "error",
     "traceback": [
      "\u001b[1;31mThe Kernel crashed while executing code in the the current cell or a previous cell. Please review the code in the cell(s) to identify a possible cause of the failure. Click <a href='https://aka.ms/vscodeJupyterKernelCrash'>here</a> for more info. View Jupyter <a href='command:jupyter.viewOutput'>log</a> for further details."
     ]
    }
   ],
   "source": [
    "zenith_new.to_csv(outdir + 'zenith_New_muon_test_set.csv',index=False)"
   ]
  },
  {
   "cell_type": "code",
   "execution_count": null,
   "metadata": {},
   "outputs": [],
   "source": []
  }
 ],
 "metadata": {
  "kernelspec": {
   "display_name": "graphnet",
   "language": "python",
   "name": "python3"
  },
  "language_info": {
   "codemirror_mode": {
    "name": "ipython",
    "version": 3
   },
   "file_extension": ".py",
   "mimetype": "text/x-python",
   "name": "python",
   "nbconvert_exporter": "python",
   "pygments_lexer": "ipython3",
   "version": "3.8.15"
  },
  "orig_nbformat": 4,
  "vscode": {
   "interpreter": {
    "hash": "f8d6fa195492ab7b6c0e437eb2aec4cd83dac16aa95613845cf8e9e173beed9d"
   }
  }
 },
 "nbformat": 4,
 "nbformat_minor": 2
}
