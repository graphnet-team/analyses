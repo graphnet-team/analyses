{
 "cells": [
  {
   "cell_type": "code",
   "execution_count": 1,
   "metadata": {},
   "outputs": [],
   "source": [
    "import sqlite3 as sql\n",
    "\n",
    "import numpy as np\n",
    "import pandas as pd\n",
    "from pandas import cut, read_sql\n",
    "import pickle as pkl\n",
    "from random import choices\n",
    "from sklearn import metrics\n",
    "import matplotlib.pyplot as plt\n",
    "import matplotlib.colors as colors\n",
    "import scipy.optimize as optimize"
   ]
  },
  {
   "cell_type": "code",
   "execution_count": 2,
   "metadata": {},
   "outputs": [],
   "source": [
    "input_csv_cascade_MC = \"/groups/icecube/petersen/GraphNetDatabaseRepository/multi_classification_track_cascade_neutrino/using_MP_lvl3/inference/Troels_cascade_events/clean_cascade_events_MC.csv\"\n",
    "input_csv_cascade_RD = \"/groups/icecube/petersen/GraphNetDatabaseRepository/multi_classification_track_cascade_neutrino/using_MP_lvl3/inference/Troels_cascade_events/clean_cascade_events_RD.csv\"\n",
    "outdir = \"/groups/icecube/petersen/GraphNetDatabaseRepository/multi_classification_track_cascade_neutrino/using_MP_lvl3/inference/Troels_cascade_events\"\n",
    "csv_cascade_MC = pd.read_csv(input_csv_cascade_MC).sort_values('event_no').reset_index(drop = True)\n",
    "csv_cascade_RD = pd.read_csv(input_csv_cascade_RD).sort_values('event_no').reset_index(drop = True)"
   ]
  },
  {
   "cell_type": "code",
   "execution_count": 9,
   "metadata": {},
   "outputs": [
    {
     "name": "stdout",
     "output_type": "stream",
     "text": [
      "Index(['Unnamed: 0', 'event_no', 'track_mu_pred', 'track_mu', 'pid_noise_pred',\n",
      "       'pid_muon_pred', 'pid_neutrino_pred', 'pid', 'pid_neutrino_pred_logit',\n",
      "       'energy_pred', 'energy', 'azimuth_pred', 'azimuth_kappa', 'azimuth',\n",
      "       'zenith_pred', 'zenith_kappa', 'zenith'],\n",
      "      dtype='object')\n",
      "Index(['Unnamed: 0', 'event_no', 'track_mu_pred', 'pid_noise_pred',\n",
      "       'pid_muon_pred', 'pid_neutrino_pred', 'pid_neutrino_pred_logit',\n",
      "       'energy_pred', 'azimuth_pred', 'azimuth_kappa', 'zenith_pred',\n",
      "       'zenith_kappa'],\n",
      "      dtype='object')\n"
     ]
    }
   ],
   "source": [
    "print(csv_cascade_MC.columns)\n",
    "print(csv_cascade_RD.columns)\n",
    "csv_cascade_MC.drop(['Unnamed: 0'],axis=1,inplace=True)\n",
    "csv_cascade_RD.drop(['Unnamed: 0'],axis=1,inplace=True)\n"
   ]
  },
  {
   "cell_type": "code",
   "execution_count": 10,
   "metadata": {},
   "outputs": [
    {
     "name": "stdout",
     "output_type": "stream",
     "text": [
      "Index(['event_no', 'track_mu_pred', 'track_mu', 'pid_noise_pred',\n",
      "       'pid_muon_pred', 'pid_neutrino_pred', 'pid', 'pid_neutrino_pred_logit',\n",
      "       'energy_pred', 'energy', 'azimuth_pred', 'azimuth_kappa', 'azimuth',\n",
      "       'zenith_pred', 'zenith_kappa', 'zenith'],\n",
      "      dtype='object')\n",
      "Index(['event_no', 'track_mu_pred', 'pid_noise_pred', 'pid_muon_pred',\n",
      "       'pid_neutrino_pred', 'pid_neutrino_pred_logit', 'energy_pred',\n",
      "       'azimuth_pred', 'azimuth_kappa', 'zenith_pred', 'zenith_kappa'],\n",
      "      dtype='object')\n"
     ]
    }
   ],
   "source": [
    "print(csv_cascade_MC.columns)\n",
    "print(csv_cascade_RD.columns)"
   ]
  },
  {
   "cell_type": "code",
   "execution_count": 12,
   "metadata": {},
   "outputs": [],
   "source": [
    "indir_db_MC = \"/groups/icecube/petersen/GraphNetDatabaseRepository/osc_next_database_Peter_and_Morten/merged_database/osc_next_level3_v2.00_genie_muongun_noise_120000_140000_160000_130000_888003.db\"\n",
    "Npulses_MC = []\n",
    "Ndoms_MC = []\n",
    "Nstrings_MC = []\n",
    "event_no_MC = []\n",
    "event_times_MC = []\n",
    "\n",
    "#Load in truth data\n",
    "for i in range(100):\n",
    "    with sql.connect(indir_db_MC) as con:\n",
    "        query = f\"\"\"\n",
    "        SELECT\n",
    "            event_no, event_time, dom_x, dom_y, dom_z\n",
    "        FROM \n",
    "            SplitInIcePulses\n",
    "        WHERE\n",
    "            event_no = {csv_cascade_MC['event_no'][i]}\n",
    "        \"\"\"\n",
    "        MC_extra_data = read_sql(query,con)\n",
    "    event_no_MC.append(csv_cascade_MC['event_no'][i])\n",
    "    Npulses_MC.append(len(MC_extra_data))\n",
    "    Ndoms_MC.append(MC_extra_data.groupby(['dom_x', 'dom_y','dom_z']).ngroups)\n",
    "    Nstrings_MC.append(MC_extra_data.groupby(['dom_x', 'dom_y']).ngroups)\n",
    "    event_times_MC.append(MC_extra_data['event_time'][0])"
   ]
  },
  {
   "cell_type": "code",
   "execution_count": 17,
   "metadata": {},
   "outputs": [
    {
     "ename": "",
     "evalue": "",
     "output_type": "error",
     "traceback": [
      "\u001b[1;31mThe Kernel crashed while executing code in the the current cell or a previous cell. Please review the code in the cell(s) to identify a possible cause of the failure. Click <a href='https://aka.ms/vscodeJupyterKernelCrash'>here</a> for more info. View Jupyter <a href='command:jupyter.viewOutput'>log</a> for further details."
     ]
    }
   ],
   "source": [
    "# print(Npulses_MC)\n",
    "# print(Ndoms_MC)\n",
    "# print(Nstrings_MC)\n",
    "# print(event_no_MC)\n",
    "# print(event_times_MC)"
   ]
  },
  {
   "cell_type": "code",
   "execution_count": 14,
   "metadata": {},
   "outputs": [],
   "source": [
    "indir_db_RD = \"/groups/icecube/petersen/GraphNetDatabaseRepository/dev_lvl3_genie_burnsample/dev_lvl3_genie_burnsample_v5.db\"\n",
    "Npulses_RD = []\n",
    "Ndoms_RD = []\n",
    "Nstrings_RD = []\n",
    "event_no_RD = []\n",
    "first_dom_time_RD = []\n",
    "for i in range(100):\n",
    "    #Load in truth data\n",
    "    with sql.connect(indir_db_RD) as con:\n",
    "        query = f\"\"\"\n",
    "        SELECT\n",
    "            event_no, dom_time, dom_x, dom_y, dom_z\n",
    "        FROM \n",
    "            SplitInIcePulses\n",
    "        WHERE\n",
    "            event_no = {csv_cascade_RD['event_no'][i]}\n",
    "        \"\"\"\n",
    "        RD_extra_data = read_sql(query,con)\n",
    "    event_no_RD.append(csv_cascade_RD['event_no'][i])\n",
    "    Npulses_RD.append(len(RD_extra_data))\n",
    "    Ndoms_RD.append(RD_extra_data.groupby(['dom_x', 'dom_y','dom_z']).ngroups)\n",
    "    Nstrings_RD.append(RD_extra_data.groupby(['dom_x', 'dom_y']).ngroups)\n",
    "    first_dom_time_RD.append(RD_extra_data['dom_time'][0])"
   ]
  },
  {
   "cell_type": "code",
   "execution_count": 16,
   "metadata": {},
   "outputs": [
    {
     "ename": "ValueError",
     "evalue": "Length of values (100) does not match length of index (245049)",
     "output_type": "error",
     "traceback": [
      "\u001b[0;31m---------------------------------------------------------------------------\u001b[0m",
      "\u001b[0;31mValueError\u001b[0m                                Traceback (most recent call last)",
      "Cell \u001b[0;32mIn [16], line 11\u001b[0m\n\u001b[1;32m      1\u001b[0m \u001b[39m#print(RD_extra_data)\u001b[39;00m\n\u001b[1;32m      2\u001b[0m \u001b[39m# print('there are this many pulses: ',len(RD_extra_data))\u001b[39;00m\n\u001b[1;32m      3\u001b[0m \u001b[39m# print('there are this many unique doms: ',RD_extra_data.groupby(['dom_x', 'dom_y','dom_z']).ngroups)\u001b[39;00m\n\u001b[0;32m   (...)\u001b[0m\n\u001b[1;32m      8\u001b[0m \u001b[39m#print(event_no_RD)\u001b[39;00m\n\u001b[1;32m      9\u001b[0m \u001b[39m#print(first_dom_time_RD)\u001b[39;00m\n\u001b[1;32m     10\u001b[0m csv_cascade_RD_final \u001b[39m=\u001b[39m csv_cascade_RD\n\u001b[0;32m---> 11\u001b[0m csv_cascade_RD_final[\u001b[39m'\u001b[39m\u001b[39mN_pulses\u001b[39m\u001b[39m'\u001b[39m] \u001b[39m=\u001b[39m Npulses_RD\n\u001b[1;32m     12\u001b[0m csv_cascade_RD_final[\u001b[39m'\u001b[39m\u001b[39mN_string\u001b[39m\u001b[39m'\u001b[39m] \u001b[39m=\u001b[39m Nstrings_RD\n\u001b[1;32m     13\u001b[0m csv_cascade_RD_final[\u001b[39m'\u001b[39m\u001b[39mN_doms\u001b[39m\u001b[39m'\u001b[39m] \u001b[39m=\u001b[39m Ndoms_RD\n",
      "File \u001b[0;32m~/anaconda3/envs/graphnet/lib/python3.8/site-packages/pandas/core/frame.py:3655\u001b[0m, in \u001b[0;36mDataFrame.__setitem__\u001b[0;34m(self, key, value)\u001b[0m\n\u001b[1;32m   3652\u001b[0m     \u001b[39mself\u001b[39m\u001b[39m.\u001b[39m_setitem_array([key], value)\n\u001b[1;32m   3653\u001b[0m \u001b[39melse\u001b[39;00m:\n\u001b[1;32m   3654\u001b[0m     \u001b[39m# set column\u001b[39;00m\n\u001b[0;32m-> 3655\u001b[0m     \u001b[39mself\u001b[39;49m\u001b[39m.\u001b[39;49m_set_item(key, value)\n",
      "File \u001b[0;32m~/anaconda3/envs/graphnet/lib/python3.8/site-packages/pandas/core/frame.py:3832\u001b[0m, in \u001b[0;36mDataFrame._set_item\u001b[0;34m(self, key, value)\u001b[0m\n\u001b[1;32m   3822\u001b[0m \u001b[39mdef\u001b[39;00m \u001b[39m_set_item\u001b[39m(\u001b[39mself\u001b[39m, key, value) \u001b[39m-\u001b[39m\u001b[39m>\u001b[39m \u001b[39mNone\u001b[39;00m:\n\u001b[1;32m   3823\u001b[0m     \u001b[39m\"\"\"\u001b[39;00m\n\u001b[1;32m   3824\u001b[0m \u001b[39m    Add series to DataFrame in specified column.\u001b[39;00m\n\u001b[1;32m   3825\u001b[0m \n\u001b[0;32m   (...)\u001b[0m\n\u001b[1;32m   3830\u001b[0m \u001b[39m    ensure homogeneity.\u001b[39;00m\n\u001b[1;32m   3831\u001b[0m \u001b[39m    \"\"\"\u001b[39;00m\n\u001b[0;32m-> 3832\u001b[0m     value \u001b[39m=\u001b[39m \u001b[39mself\u001b[39;49m\u001b[39m.\u001b[39;49m_sanitize_column(value)\n\u001b[1;32m   3834\u001b[0m     \u001b[39mif\u001b[39;00m (\n\u001b[1;32m   3835\u001b[0m         key \u001b[39min\u001b[39;00m \u001b[39mself\u001b[39m\u001b[39m.\u001b[39mcolumns\n\u001b[1;32m   3836\u001b[0m         \u001b[39mand\u001b[39;00m value\u001b[39m.\u001b[39mndim \u001b[39m==\u001b[39m \u001b[39m1\u001b[39m\n\u001b[1;32m   3837\u001b[0m         \u001b[39mand\u001b[39;00m \u001b[39mnot\u001b[39;00m is_extension_array_dtype(value)\n\u001b[1;32m   3838\u001b[0m     ):\n\u001b[1;32m   3839\u001b[0m         \u001b[39m# broadcast across multiple columns if necessary\u001b[39;00m\n\u001b[1;32m   3840\u001b[0m         \u001b[39mif\u001b[39;00m \u001b[39mnot\u001b[39;00m \u001b[39mself\u001b[39m\u001b[39m.\u001b[39mcolumns\u001b[39m.\u001b[39mis_unique \u001b[39mor\u001b[39;00m \u001b[39misinstance\u001b[39m(\u001b[39mself\u001b[39m\u001b[39m.\u001b[39mcolumns, MultiIndex):\n",
      "File \u001b[0;32m~/anaconda3/envs/graphnet/lib/python3.8/site-packages/pandas/core/frame.py:4535\u001b[0m, in \u001b[0;36mDataFrame._sanitize_column\u001b[0;34m(self, value)\u001b[0m\n\u001b[1;32m   4532\u001b[0m     \u001b[39mreturn\u001b[39;00m _reindex_for_setitem(value, \u001b[39mself\u001b[39m\u001b[39m.\u001b[39mindex)\n\u001b[1;32m   4534\u001b[0m \u001b[39mif\u001b[39;00m is_list_like(value):\n\u001b[0;32m-> 4535\u001b[0m     com\u001b[39m.\u001b[39;49mrequire_length_match(value, \u001b[39mself\u001b[39;49m\u001b[39m.\u001b[39;49mindex)\n\u001b[1;32m   4536\u001b[0m \u001b[39mreturn\u001b[39;00m sanitize_array(value, \u001b[39mself\u001b[39m\u001b[39m.\u001b[39mindex, copy\u001b[39m=\u001b[39m\u001b[39mTrue\u001b[39;00m, allow_2d\u001b[39m=\u001b[39m\u001b[39mTrue\u001b[39;00m)\n",
      "File \u001b[0;32m~/anaconda3/envs/graphnet/lib/python3.8/site-packages/pandas/core/common.py:557\u001b[0m, in \u001b[0;36mrequire_length_match\u001b[0;34m(data, index)\u001b[0m\n\u001b[1;32m    553\u001b[0m \u001b[39m\"\"\"\u001b[39;00m\n\u001b[1;32m    554\u001b[0m \u001b[39mCheck the length of data matches the length of the index.\u001b[39;00m\n\u001b[1;32m    555\u001b[0m \u001b[39m\"\"\"\u001b[39;00m\n\u001b[1;32m    556\u001b[0m \u001b[39mif\u001b[39;00m \u001b[39mlen\u001b[39m(data) \u001b[39m!=\u001b[39m \u001b[39mlen\u001b[39m(index):\n\u001b[0;32m--> 557\u001b[0m     \u001b[39mraise\u001b[39;00m \u001b[39mValueError\u001b[39;00m(\n\u001b[1;32m    558\u001b[0m         \u001b[39m\"\u001b[39m\u001b[39mLength of values \u001b[39m\u001b[39m\"\u001b[39m\n\u001b[1;32m    559\u001b[0m         \u001b[39mf\u001b[39m\u001b[39m\"\u001b[39m\u001b[39m(\u001b[39m\u001b[39m{\u001b[39;00m\u001b[39mlen\u001b[39m(data)\u001b[39m}\u001b[39;00m\u001b[39m) \u001b[39m\u001b[39m\"\u001b[39m\n\u001b[1;32m    560\u001b[0m         \u001b[39m\"\u001b[39m\u001b[39mdoes not match length of index \u001b[39m\u001b[39m\"\u001b[39m\n\u001b[1;32m    561\u001b[0m         \u001b[39mf\u001b[39m\u001b[39m\"\u001b[39m\u001b[39m(\u001b[39m\u001b[39m{\u001b[39;00m\u001b[39mlen\u001b[39m(index)\u001b[39m}\u001b[39;00m\u001b[39m)\u001b[39m\u001b[39m\"\u001b[39m\n\u001b[1;32m    562\u001b[0m     )\n",
      "\u001b[0;31mValueError\u001b[0m: Length of values (100) does not match length of index (245049)"
     ]
    }
   ],
   "source": [
    "#print(RD_extra_data)\n",
    "# print('there are this many pulses: ',len(RD_extra_data))\n",
    "# print('there are this many unique doms: ',RD_extra_data.groupby(['dom_x', 'dom_y','dom_z']).ngroups)\n",
    "# print('there are this many unique string: ',RD_extra_data.groupby(['dom_x', 'dom_y']).ngroups)\n",
    "#print(Npulses_RD)\n",
    "#print(Ndoms_RD)\n",
    "#print(Nstrings_RD)\n",
    "#print(event_no_RD)\n",
    "#print(first_dom_time_RD)\n",
    "csv_cascade_RD_final = csv_cascade_RD\n",
    "csv_cascade_RD_final['N_pulses'] = Npulses_RD\n",
    "csv_cascade_RD_final['N_string'] = Nstrings_RD\n",
    "csv_cascade_RD_final['N_doms'] = Ndoms_RD\n",
    "csv_cascade_RD_final['First_dom_time'] = first_dom_time_RD\n",
    "\n",
    "csv_cascade_MC_final = csv_cascade_MC\n",
    "csv_cascade_MC_final['N_pulses'] = Npulses_MC\n",
    "csv_cascade_MC_final['N_string'] = Nstrings_MC\n",
    "csv_cascade_MC_final['N_doms'] = Ndoms_MC\n",
    "csv_cascade_MC_final['First_dom_time'] = event_times_MC"
   ]
  },
  {
   "cell_type": "code",
   "execution_count": null,
   "metadata": {},
   "outputs": [],
   "source": [
    "csv_cascade_RD_final.to_csv(outdir + 'clean_cascade_events_RD_final',index=False)\n",
    "csv_cascade_MC_final.to_csv(outdir + 'clean_cascade_events_MC_final',index=False)"
   ]
  },
  {
   "cell_type": "code",
   "execution_count": 6,
   "metadata": {},
   "outputs": [],
   "source": []
  },
  {
   "cell_type": "code",
   "execution_count": null,
   "metadata": {},
   "outputs": [],
   "source": []
  },
  {
   "cell_type": "code",
   "execution_count": null,
   "metadata": {},
   "outputs": [],
   "source": []
  },
  {
   "cell_type": "code",
   "execution_count": null,
   "metadata": {},
   "outputs": [],
   "source": []
  },
  {
   "cell_type": "code",
   "execution_count": null,
   "metadata": {},
   "outputs": [],
   "source": []
  },
  {
   "cell_type": "code",
   "execution_count": null,
   "metadata": {},
   "outputs": [],
   "source": []
  },
  {
   "cell_type": "code",
   "execution_count": null,
   "metadata": {},
   "outputs": [],
   "source": []
  },
  {
   "cell_type": "code",
   "execution_count": null,
   "metadata": {},
   "outputs": [],
   "source": []
  },
  {
   "cell_type": "code",
   "execution_count": null,
   "metadata": {},
   "outputs": [],
   "source": []
  },
  {
   "cell_type": "code",
   "execution_count": null,
   "metadata": {},
   "outputs": [],
   "source": [
    "\n"
   ]
  },
  {
   "cell_type": "code",
   "execution_count": null,
   "metadata": {},
   "outputs": [],
   "source": []
  },
  {
   "cell_type": "code",
   "execution_count": null,
   "metadata": {},
   "outputs": [],
   "source": []
  },
  {
   "cell_type": "code",
   "execution_count": null,
   "metadata": {},
   "outputs": [],
   "source": []
  },
  {
   "cell_type": "code",
   "execution_count": null,
   "metadata": {},
   "outputs": [],
   "source": []
  }
 ],
 "metadata": {
  "kernelspec": {
   "display_name": "graphnet",
   "language": "python",
   "name": "python3"
  },
  "language_info": {
   "codemirror_mode": {
    "name": "ipython",
    "version": 3
   },
   "file_extension": ".py",
   "mimetype": "text/x-python",
   "name": "python",
   "nbconvert_exporter": "python",
   "pygments_lexer": "ipython3",
   "version": "3.8.15"
  },
  "orig_nbformat": 4,
  "vscode": {
   "interpreter": {
    "hash": "f8d6fa195492ab7b6c0e437eb2aec4cd83dac16aa95613845cf8e9e173beed9d"
   }
  }
 },
 "nbformat": 4,
 "nbformat_minor": 2
}
