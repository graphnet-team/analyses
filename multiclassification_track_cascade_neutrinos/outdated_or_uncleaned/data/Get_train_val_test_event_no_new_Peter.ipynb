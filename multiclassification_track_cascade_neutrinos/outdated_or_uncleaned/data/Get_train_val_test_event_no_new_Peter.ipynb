{
 "cells": [
  {
   "cell_type": "code",
   "execution_count": 1,
   "metadata": {},
   "outputs": [],
   "source": [
    "import sqlite3 as sql\n",
    "\n",
    "import numpy as np\n",
    "import pandas as pd\n",
    "from pandas import cut, read_sql\n",
    "import pickle as pkl\n",
    "from random import choices\n",
    "from sklearn import metrics\n",
    "import matplotlib.pyplot as plt\n",
    "import matplotlib.colors as colors\n",
    "import scipy.optimize as optimize"
   ]
  },
  {
   "cell_type": "code",
   "execution_count": 2,
   "metadata": {},
   "outputs": [],
   "source": [
    "indir_db = \"/groups/icecube/petersen/GraphNetDatabaseRepository/osc_next_database_Peter_and_Morten/merged_database/osc_next_level3_v2.00_genie_muongun_noise_120000_140000_160000_130000_888003.db\"\n",
    "outdir = \"/groups/icecube/petersen/GraphNetDatabaseRepository/osc_next_database_Peter_and_Morten/Selections/New_selections_Peter/\"\n",
    "\n",
    "#Load in truth data\n",
    "with sql.connect(indir_db) as con:\n",
    "    query = \"\"\"\n",
    "    SELECT\n",
    "        event_no, pid, interaction_type\n",
    "    FROM \n",
    "        truth\n",
    "    \"\"\"\n",
    "    truth_data = read_sql(query,con)"
   ]
  },
  {
   "cell_type": "code",
   "execution_count": 25,
   "metadata": {},
   "outputs": [],
   "source": [
    "electron_neutrinos_CC = truth_data[(truth_data['pid'].isin((-12,12))) & (truth_data['interaction_type']==1)]\n",
    "electron_neutrinos_NC = truth_data[(truth_data['pid'].isin((-12,12))) & (truth_data['interaction_type']==2)]\n",
    "muon_neutrinos_CC = truth_data[(truth_data['pid'].isin((-14,14))) & (truth_data['interaction_type']==1)]\n",
    "muon_neutrinos_NC = truth_data[(truth_data['pid'].isin((-14,14))) & (truth_data['interaction_type']==2)]\n",
    "tau_neutrinos_CC = truth_data[(truth_data['pid'].isin((-16,16))) & (truth_data['interaction_type']==1)]\n",
    "tau_neutrinos_NC = truth_data[(truth_data['pid'].isin((-16,16))) & (truth_data['interaction_type']==2)]\n",
    "muons = truth_data[(truth_data['pid'].isin((-13,13)))]\n",
    "noise = truth_data[(truth_data['pid'].isin((-1,1)))]"
   ]
  },
  {
   "cell_type": "code",
   "execution_count": 26,
   "metadata": {},
   "outputs": [
    {
     "name": "stdout",
     "output_type": "stream",
     "text": [
      "e CC:  7457888\n",
      "e NC:  840825\n",
      "mu neu CC:  18220448\n",
      "mu neu NC:  1886504\n",
      "tau CC:  6510308\n",
      "tau NC:  2375773\n",
      "muons:  15990173\n",
      "noise:  15186239\n",
      "total neutrinos 37294941\n",
      "total events 68471353\n"
     ]
    }
   ],
   "source": [
    "print('e CC: ',len(electron_neutrinos_CC))\n",
    "print('e NC: ',len(electron_neutrinos_NC))\n",
    "print('mu neu CC: ',len(muon_neutrinos_CC))\n",
    "print('mu neu NC: ',len(muon_neutrinos_NC))\n",
    "print('tau CC: ',len(tau_neutrinos_CC))\n",
    "print('tau NC: ',len(tau_neutrinos_NC))\n",
    "print('muons: ',len(muons))\n",
    "print('noise: ',len(noise))\n",
    "print('total neutrinos',len(truth_data[(truth_data['pid'].isin((-12,12,-14,14,-16,16)))]))\n",
    "print('total events',len(truth_data))"
   ]
  },
  {
   "cell_type": "code",
   "execution_count": 27,
   "metadata": {},
   "outputs": [],
   "source": [
    "electron_neutrinos_CC = electron_neutrinos_CC.sample(frac=1)\n",
    "electron_neutrinos_NC = electron_neutrinos_NC.sample(frac=1)\n",
    "muon_neutrinos_CC = muon_neutrinos_CC.sample(frac=1)\n",
    "muon_neutrinos_NC = muon_neutrinos_NC.sample(frac=1)\n",
    "tau_neutrinos_CC = tau_neutrinos_CC.sample(frac=1)\n",
    "tau_neutrinos_NC = tau_neutrinos_NC.sample(frac=1)\n",
    "muons = muons.sample(frac=1)\n",
    "noise = noise.sample(frac=1)"
   ]
  },
  {
   "cell_type": "code",
   "execution_count": 28,
   "metadata": {},
   "outputs": [],
   "source": [
    "electron_neutrinos_CC_split = np.array_split(electron_neutrinos_CC, (100000,120000))\n",
    "electron_neutrinos_NC_split = np.array_split(electron_neutrinos_NC, (100000,120000))\n",
    "muon_neutrinos_CC_split = np.array_split(muon_neutrinos_CC, (600000,720000))\n",
    "muon_neutrinos_NC_split = np.array_split(muon_neutrinos_NC, (100000,120000))\n",
    "tau_neutrinos_CC_split = np.array_split(tau_neutrinos_CC, (100000,120000))\n",
    "tau_neutrinos_NC_split = np.array_split(tau_neutrinos_NC, (100000,120000))\n",
    "muons_split = np.array_split(muons, (600000,720000))\n",
    "noise_split = np.array_split(noise, (600000,720000))"
   ]
  },
  {
   "cell_type": "code",
   "execution_count": 29,
   "metadata": {},
   "outputs": [],
   "source": [
    "Multiclassification_train = pd.concat([electron_neutrinos_CC_split[0],electron_neutrinos_NC_split[0],muon_neutrinos_CC_split[0][:100000],muon_neutrinos_NC_split[0],tau_neutrinos_CC_split[0],tau_neutrinos_NC_split[0],muons_split[0],noise_split[0]],ignore_index=True)\n",
    "Multiclassification_val = pd.concat([electron_neutrinos_CC_split[1],electron_neutrinos_NC_split[1],muon_neutrinos_CC_split[1].head(20000),muon_neutrinos_NC_split[1],tau_neutrinos_CC_split[1],tau_neutrinos_NC_split[1],muons_split[1],noise_split[1]],ignore_index=True)\n",
    "Multiclassification_test = pd.concat([electron_neutrinos_CC_split[2],electron_neutrinos_NC_split[2],muon_neutrinos_CC_split[2],muon_neutrinos_NC_split[2],tau_neutrinos_CC_split[2],tau_neutrinos_NC_split[2],muons_split[2],noise_split[2]],ignore_index=True)"
   ]
  },
  {
   "cell_type": "code",
   "execution_count": 30,
   "metadata": {},
   "outputs": [
    {
     "name": "stdout",
     "output_type": "stream",
     "text": [
      " 13.0    600000\n",
      "-1.0     600000\n",
      " 16.0    147684\n",
      " 12.0    144045\n",
      " 14.0    143169\n",
      "-14.0     56831\n",
      "-12.0     55955\n",
      "-16.0     52316\n",
      "Name: pid, dtype: int64\n",
      " 13.0    120000\n",
      "-1.0     120000\n",
      " 16.0     29646\n",
      " 12.0     28790\n",
      " 14.0     28606\n",
      "-14.0     11394\n",
      "-12.0     11210\n",
      "-16.0     10354\n",
      "Name: pid, dtype: int64\n",
      " 13.0    15270173\n",
      "-1.0     14466239\n",
      " 14.0    13257627\n",
      " 16.0     6278118\n",
      "-14.0     6009325\n",
      " 12.0     5575391\n",
      "-12.0     2483322\n",
      "-16.0     2367963\n",
      "Name: pid, dtype: int64\n"
     ]
    }
   ],
   "source": [
    "print(Multiclassification_train.pid.value_counts())\n",
    "print(Multiclassification_val.pid.value_counts())\n",
    "print(Multiclassification_test.pid.value_counts())"
   ]
  },
  {
   "cell_type": "code",
   "execution_count": 31,
   "metadata": {},
   "outputs": [],
   "source": [
    "Multiclassification_train = Multiclassification_train.sample(frac=1)\n",
    "Multiclassification_val = Multiclassification_val.sample(frac=1)\n",
    "Multiclassification_test = Multiclassification_test.sample(frac=1)"
   ]
  },
  {
   "cell_type": "code",
   "execution_count": 32,
   "metadata": {},
   "outputs": [],
   "source": [
    "Multiclassification_train.to_csv(path_or_buf = outdir+'Multiclassification_train_event_no.csv',columns=(['event_no']),index=False)\n",
    "Multiclassification_val.to_csv(path_or_buf = outdir+'Multiclassification_val_event_no.csv',columns=(['event_no']),index=False)\n",
    "Multiclassification_test.to_csv(path_or_buf = outdir+'Multiclassification_test_event_no.csv',columns=(['event_no']),index=False)\n"
   ]
  },
  {
   "cell_type": "code",
   "execution_count": 33,
   "metadata": {},
   "outputs": [],
   "source": [
    "Track_cascade_train = pd.concat([electron_neutrinos_CC_split[0],electron_neutrinos_NC_split[0],muon_neutrinos_CC_split[0][:300000],muon_neutrinos_NC_split[0]],ignore_index=True)\n",
    "Track_cascade_val = pd.concat([electron_neutrinos_CC_split[1],electron_neutrinos_NC_split[1],muon_neutrinos_CC_split[1].head(60000),muon_neutrinos_NC_split[1]],ignore_index=True)\n",
    "Track_cascade_test = pd.concat([electron_neutrinos_CC_split[2],electron_neutrinos_NC_split[2],muon_neutrinos_CC_split[2],muon_neutrinos_NC_split[2],tau_neutrinos_CC_split[2],tau_neutrinos_NC_split[2]],ignore_index=True)"
   ]
  },
  {
   "cell_type": "code",
   "execution_count": 34,
   "metadata": {},
   "outputs": [],
   "source": [
    "Track_cascade_train = Track_cascade_train.sample(frac=1)\n",
    "Track_cascade_val = Track_cascade_val.sample(frac=1)\n",
    "Track_cascade_test = Track_cascade_test.sample(frac=1)"
   ]
  },
  {
   "cell_type": "code",
   "execution_count": 35,
   "metadata": {},
   "outputs": [
    {
     "name": "stdout",
     "output_type": "stream",
     "text": [
      " 14.0    279683\n",
      " 12.0    144045\n",
      "-14.0    120317\n",
      "-12.0     55955\n",
      "Name: pid, dtype: int64\n",
      " 14.0    55842\n",
      " 12.0    28790\n",
      "-14.0    24158\n",
      "-12.0    11210\n",
      "Name: pid, dtype: int64\n",
      " 14.0    13257627\n",
      " 16.0     6278118\n",
      "-14.0     6009325\n",
      " 12.0     5575391\n",
      "-12.0     2483322\n",
      "-16.0     2367963\n",
      "Name: pid, dtype: int64\n",
      "1.0    400000\n",
      "2.0    200000\n",
      "Name: interaction_type, dtype: int64\n",
      "1.0    80000\n",
      "2.0    40000\n",
      "Name: interaction_type, dtype: int64\n",
      "1.0    31228644\n",
      "2.0     4743102\n",
      "Name: interaction_type, dtype: int64\n"
     ]
    }
   ],
   "source": [
    "print(Track_cascade_train.pid.value_counts())\n",
    "print(Track_cascade_val.pid.value_counts())\n",
    "print(Track_cascade_test.pid.value_counts())\n",
    "print(Track_cascade_train.interaction_type.value_counts())\n",
    "print(Track_cascade_val.interaction_type.value_counts())\n",
    "print(Track_cascade_test.interaction_type.value_counts())"
   ]
  },
  {
   "cell_type": "code",
   "execution_count": 36,
   "metadata": {},
   "outputs": [],
   "source": [
    "Track_cascade_train.to_csv(path_or_buf = outdir+'Track_cascade_train_event_no.csv',columns=(['event_no']),index=False)\n",
    "Track_cascade_val.to_csv(path_or_buf = outdir+'Track_cascade_val_event_no.csv',columns=(['event_no']),index=False)\n",
    "Track_cascade_test.to_csv(path_or_buf = outdir+'Track_cascade_test_event_no.csv',columns=(['event_no']),index=False)\n"
   ]
  },
  {
   "cell_type": "code",
   "execution_count": 37,
   "metadata": {},
   "outputs": [
    {
     "name": "stdout",
     "output_type": "stream",
     "text": [
      "         event_no   pid  interaction_type\n",
      "764033   39808084  13.0              -1.0\n",
      "1072161  15334024  13.0              -1.0\n",
      "358294   22651494  14.0               2.0\n",
      "1513539  32833043  -1.0              -1.0\n",
      "1654301  33382160  -1.0              -1.0\n",
      "958773   26007766  13.0              -1.0\n",
      "474611   41091250  16.0               1.0\n",
      "571377   12440629  16.0               2.0\n",
      "237334   25411594 -14.0               1.0\n",
      "446560   46283444  16.0               1.0\n",
      "        event_no   pid  interaction_type\n",
      "202196  16557701 -14.0               1.0\n",
      "274988  11060250 -14.0               1.0\n",
      "387004  37729686  14.0               1.0\n",
      "599621   6956905  14.0               2.0\n",
      "558763  49597352  14.0               2.0\n",
      "6245    10291955 -12.0               1.0\n",
      "461951  36045979  14.0               1.0\n",
      "594561  20625496  14.0               2.0\n",
      "98505   18569474  12.0               1.0\n",
      "413390  48232365  14.0               1.0\n"
     ]
    }
   ],
   "source": [
    "print(Multiclassification_train.head(10))\n",
    "print(Track_cascade_train.head(10))"
   ]
  },
  {
   "cell_type": "code",
   "execution_count": null,
   "metadata": {},
   "outputs": [],
   "source": []
  }
 ],
 "metadata": {
  "kernelspec": {
   "display_name": "graphnet",
   "language": "python",
   "name": "python3"
  },
  "language_info": {
   "codemirror_mode": {
    "name": "ipython",
    "version": 3
   },
   "file_extension": ".py",
   "mimetype": "text/x-python",
   "name": "python",
   "nbconvert_exporter": "python",
   "pygments_lexer": "ipython3",
   "version": "3.8.15 (default, Nov 24 2022, 15:19:38) \n[GCC 11.2.0]"
  },
  "orig_nbformat": 4,
  "vscode": {
   "interpreter": {
    "hash": "f8d6fa195492ab7b6c0e437eb2aec4cd83dac16aa95613845cf8e9e173beed9d"
   }
  }
 },
 "nbformat": 4,
 "nbformat_minor": 2
}
