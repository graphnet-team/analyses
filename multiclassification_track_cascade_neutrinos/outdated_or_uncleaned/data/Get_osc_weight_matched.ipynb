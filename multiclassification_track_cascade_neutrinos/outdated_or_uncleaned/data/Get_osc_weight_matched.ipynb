{
 "cells": [
  {
   "cell_type": "code",
   "execution_count": 1,
   "metadata": {},
   "outputs": [],
   "source": [
    "import sqlite3 as sql\n",
    "\n",
    "import numpy as np\n",
    "import pandas as pd\n",
    "from pandas import cut, read_sql\n",
    "import pickle as pkl\n",
    "from random import choices\n",
    "from sklearn import metrics\n",
    "import matplotlib.pyplot as plt\n",
    "import matplotlib.colors as colors\n",
    "import scipy.optimize as optimize"
   ]
  },
  {
   "cell_type": "code",
   "execution_count": 2,
   "metadata": {},
   "outputs": [],
   "source": [
    "indir = \"/groups/icecube/petersen/GraphNetDatabaseRepository/osc_next_database_Peter_and_Morten/merged_database/osc_next_level3_v2.00_genie_muongun_noise_120000_140000_160000_130000_888003.db\"\n",
    "indir_retro = \"/groups/icecube/petersen/GraphNetDatabaseRepository/osc_next_database_Peter_and_Morten/merged_database/osc_next_level3_v2.00_genie_muongun_noise_120000_140000_160000_130000_888003_retro.db\"\n",
    "\n",
    "#Load in truth data\n",
    "with sql.connect(indir) as con:\n",
    "    query = \"\"\"\n",
    "    SELECT\n",
    "        event_no, RunID, SubrunID, EventID, SubEventID\n",
    "    FROM \n",
    "        truth\n",
    "    \"\"\"\n",
    "    truth = read_sql(query,con)\n",
    "\n",
    "#Load in truth data\n",
    "with sql.connect(indir_retro) as con:\n",
    "    query = \"\"\"\n",
    "    SELECT\n",
    "        event_no, RunID, SubrunID, EventID, SubEventID\n",
    "    FROM \n",
    "        truth\n",
    "    \"\"\"\n",
    "    truth_retro = read_sql(query,con)\n",
    "\n",
    "with sql.connect(indir_retro) as con:\n",
    "    query = \"\"\"\n",
    "    SELECT\n",
    "        event_no, osc_weight\n",
    "    FROM \n",
    "        retro\n",
    "    \"\"\"\n",
    "    retro = read_sql(query,con)"
   ]
  },
  {
   "cell_type": "code",
   "execution_count": 4,
   "metadata": {},
   "outputs": [],
   "source": [
    "truth.rename(columns = {'event_no':'old_event_no'}, inplace = True)\n",
    "\n",
    "merged_df = pd.merge(truth, truth_retro, on=['RunID', 'SubrunID', 'EventID', 'SubEventID'])\n",
    "\n",
    "#merged_df[merged_df['_merge'] == 'both']"
   ]
  },
  {
   "cell_type": "code",
   "execution_count": 10,
   "metadata": {},
   "outputs": [
    {
     "name": "stdout",
     "output_type": "stream",
     "text": [
      "   old_event_no     RunID  SubrunID  EventID  SubEventID  event_no\n",
      "0             0  888003.0    5450.0      0.0         0.0  55418455\n",
      "1             1  888003.0    5450.0      1.0         0.0  55418456\n",
      "2             2  888003.0    5450.0      3.0         0.0  55418457\n",
      "3             3  888003.0    5450.0      5.0         0.0  55418458\n",
      "4             4  888003.0    5450.0     11.0         0.0  55418459\n",
      "5             5  888003.0    5450.0     20.0         0.0  55418460\n",
      "6             6  888003.0    5450.0     22.0         0.0  55418461\n",
      "7             7  888003.0    5450.0     23.0         0.0  55418462\n",
      "8             8  888003.0    5450.0     26.0         0.0  55418464\n",
      "9             9  888003.0    5450.0     28.0         0.0  55418465\n",
      "   old_event_no     RunID  SubrunID  EventID  SubEventID\n",
      "4             4  888003.0    5450.0     11.0         0.0\n",
      "          event_no     RunID  SubrunID  EventID  SubEventID\n",
      "55418459  55418459  888003.0    5450.0     11.0         0.0\n"
     ]
    }
   ],
   "source": [
    "print(merged_df.head(10))\n",
    "print(truth[truth['old_event_no']==4])\n",
    "print(truth_retro[truth_retro['event_no']==55418459])"
   ]
  },
  {
   "cell_type": "code",
   "execution_count": 11,
   "metadata": {},
   "outputs": [],
   "source": [
    "final_merged_df = pd.merge(merged_df, retro, on=['event_no'])"
   ]
  },
  {
   "cell_type": "code",
   "execution_count": 14,
   "metadata": {},
   "outputs": [
    {
     "name": "stdout",
     "output_type": "stream",
     "text": [
      "   old_event_no     RunID  SubrunID  EventID  SubEventID  event_no  osc_weight\n",
      "0             0  888003.0    5450.0      0.0         0.0  55418455    0.003054\n",
      "1             1  888003.0    5450.0      1.0         0.0  55418456    0.003054\n",
      "2             2  888003.0    5450.0      3.0         0.0  55418457    0.003054\n",
      "3             3  888003.0    5450.0      5.0         0.0  55418458    0.003054\n",
      "4             4  888003.0    5450.0     11.0         0.0  55418459    0.003054\n",
      "5             5  888003.0    5450.0     20.0         0.0  55418460    0.003054\n",
      "6             6  888003.0    5450.0     22.0         0.0  55418461    0.003054\n",
      "7             7  888003.0    5450.0     23.0         0.0  55418462    0.003054\n",
      "8             8  888003.0    5450.0     26.0         0.0  55418464    0.003054\n",
      "9             9  888003.0    5450.0     28.0         0.0  55418465    0.003054\n",
      "55418458    0.003054\n",
      "Name: osc_weight, dtype: float64\n"
     ]
    }
   ],
   "source": [
    "print(final_merged_df.head(10))\n",
    "print(retro['osc_weight'][retro['event_no']==55418458\t])"
   ]
  },
  {
   "cell_type": "code",
   "execution_count": 16,
   "metadata": {},
   "outputs": [],
   "source": [
    "output_location = \"/groups/icecube/petersen/GraphNetDatabaseRepository/multi_classification_track_cascade_neutrino/using_MP_lvl3/inference/event_selections/osc_weights.csv\"\n",
    "final_merged_df.to_csv(output_location,index=False,columns=('old_event_no','osc_weight'))"
   ]
  },
  {
   "cell_type": "code",
   "execution_count": null,
   "metadata": {},
   "outputs": [],
   "source": []
  }
 ],
 "metadata": {
  "kernelspec": {
   "display_name": "graphnet",
   "language": "python",
   "name": "python3"
  },
  "language_info": {
   "codemirror_mode": {
    "name": "ipython",
    "version": 3
   },
   "file_extension": ".py",
   "mimetype": "text/x-python",
   "name": "python",
   "nbconvert_exporter": "python",
   "pygments_lexer": "ipython3",
   "version": "3.8.15"
  },
  "orig_nbformat": 4,
  "vscode": {
   "interpreter": {
    "hash": "f8d6fa195492ab7b6c0e437eb2aec4cd83dac16aa95613845cf8e9e173beed9d"
   }
  }
 },
 "nbformat": 4,
 "nbformat_minor": 2
}
