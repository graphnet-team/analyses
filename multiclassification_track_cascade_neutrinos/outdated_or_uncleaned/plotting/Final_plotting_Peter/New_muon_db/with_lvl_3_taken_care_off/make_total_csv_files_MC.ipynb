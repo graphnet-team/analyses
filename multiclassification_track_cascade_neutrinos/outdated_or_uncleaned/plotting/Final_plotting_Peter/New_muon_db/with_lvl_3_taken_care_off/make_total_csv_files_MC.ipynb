{
 "cells": [
  {
   "cell_type": "code",
   "execution_count": 2,
   "metadata": {},
   "outputs": [],
   "source": [
    "import sqlite3 as sql\n",
    "\n",
    "import numpy as np\n",
    "import pandas as pd\n",
    "from pandas import cut, read_sql\n",
    "import pickle as pkl\n",
    "from random import choices\n",
    "from sklearn import metrics\n",
    "import matplotlib.pyplot as plt\n",
    "import matplotlib.colors as colors\n",
    "import scipy.optimize as optimize\n",
    "from standard_plotting import set_size"
   ]
  },
  {
   "cell_type": "code",
   "execution_count": 5,
   "metadata": {},
   "outputs": [],
   "source": [
    "# indir_track_cascade_RD = \"/groups/icecube/petersen/GraphNetDatabaseRepository/multi_classification_track_cascade_neutrino/using_MP_lvl3/inference/track_mu_Burnsample_RD_Full_db.csv\"\n",
    "# indir_energy_RD = \"/groups/icecube/petersen/GraphNetDatabaseRepository/multi_classification_track_cascade_neutrino/using_MP_lvl3/inference/energy_Burnsample_RD_Full_db.csv\"\n",
    "# indir_zenith_RD = \"/groups/icecube/petersen/GraphNetDatabaseRepository/multi_classification_track_cascade_neutrino/using_MP_lvl3/inference/zenith_Burnsample_RD_Full_db.csv\"\n",
    "# indir_azimuth_RD = \"/groups/icecube/petersen/GraphNetDatabaseRepository/multi_classification_track_cascade_neutrino/using_MP_lvl3/inference/azimuth_Burnsample_RD_Full_db.csv\"\n",
    "# indir_multiclass_RD = \"/groups/icecube/petersen/GraphNetDatabaseRepository/multi_classification_track_cascade_neutrino/using_new_muons_Peter_database/inference/Burnsample/pid_Burnsample_RD_Full_db_new_muon.csv\"\n",
    "# indir_position_RD = \"/groups/icecube/petersen/GraphNetDatabaseRepository/multi_classification_track_cascade_neutrino/using_new_muons_Peter_database/inference/Burnsample/['position_x', 'position_y', 'position_z']_Burnsample_RD_Full_db.csv\"\n",
    "# pulses_strings_doms_RD_indir = \"/groups/icecube/petersen/GraphNetDatabaseRepository/multi_classification_track_cascade_neutrino/using_new_muons_Peter_database/inference/Burnsample/Pulses_doms_strings_times_burnsample.csv\"\n",
    "# lvl3_variables_RD_indir = \"/groups/icecube/petersen/GraphNetDatabaseRepository/multi_classification_track_cascade_neutrino/using_new_muons_Peter_database/inference/Burnsample/lvl3_variables_burnsample.csv\"\n",
    "\n",
    "#Extra for MC: Retro, Oscweight\n",
    "indir_track_cascade_MC = \"/groups/icecube/petersen/GraphNetDatabaseRepository/multi_classification_track_cascade_neutrino/using_new_muons_Peter_database/inference/Test_set/track_cascade_New_muon_test_set_inc_truth.csv\"\n",
    "indir_energy_MC = \"/groups/icecube/petersen/GraphNetDatabaseRepository/multi_classification_track_cascade_neutrino/using_new_muons_Peter_database/inference/Test_set/energy_New_muon_test_set_inc_truth.csv\"\n",
    "indir_zenith_MC = \"/groups/icecube/petersen/GraphNetDatabaseRepository/multi_classification_track_cascade_neutrino/using_new_muons_Peter_database/inference/Test_set/zenith_New_muon_test_set.csv\"\n",
    "indir_azimuth_MC = \"/groups/icecube/petersen/GraphNetDatabaseRepository/multi_classification_track_cascade_neutrino/using_new_muons_Peter_database/inference/Test_set/azimuth_New_muon_test_set.csv\"\n",
    "indir_multiclass_MC = \"/groups/icecube/petersen/GraphNetDatabaseRepository/multi_classification_track_cascade_neutrino/using_new_muons_Peter_database/inference/Test_set/pid_Multiclass_try_2_on_test_new_muon.csv\"\n",
    "indir_position_MC = \"/groups/icecube/petersen/GraphNetDatabaseRepository/multi_classification_track_cascade_neutrino/using_new_muons_Peter_database/inference/Test_set/position_vertex_new_muon.csv\"\n",
    "pulses_strings_doms_MC_indir = \"/groups/icecube/petersen/GraphNetDatabaseRepository/multi_classification_track_cascade_neutrino/using_new_muons_Peter_database/inference/Test_set/Pulses_doms_strings_times_new_muon_db.csv\"\n",
    "lvl3_variables_MC_indir = \"/groups/icecube/petersen/GraphNetDatabaseRepository/multi_classification_track_cascade_neutrino/using_new_muons_Peter_database/inference/Test_set/lvl3_variables_new_muon.csv\"\n"
   ]
  },
  {
   "cell_type": "code",
   "execution_count": 6,
   "metadata": {},
   "outputs": [],
   "source": [
    "track_cascade_MC = pd.read_csv(indir_track_cascade_MC).sort_values('event_no').reset_index(drop = True)\n",
    "energy_MC = pd.read_csv(indir_energy_MC).sort_values('event_no').reset_index(drop = True)\n",
    "zenith_MC = pd.read_csv(indir_zenith_MC).sort_values('event_no').reset_index(drop = True)\n",
    "azimuth_MC = pd.read_csv(indir_azimuth_MC).sort_values('event_no').reset_index(drop = True)\n",
    "multiclass_MC = pd.read_csv(indir_multiclass_MC).sort_values('event_no').reset_index(drop = True)\n",
    "position_MC = pd.read_csv(indir_position_MC).sort_values('event_no').reset_index(drop = True)\n",
    "pulses_strings_doms_MC = pd.read_csv(pulses_strings_doms_MC_indir).sort_values('event_no').reset_index(drop = True)\n",
    "\n",
    "\n",
    "useful_columns = ['event_no',\n",
    "       'C2HR6', 'CausalVetoHits', 'CleanedFullTimeLength', 'DCFiducialHits',\n",
    "       'L3_oscNext_bool', 'NAbove200Hits', 'NchCleaned', 'NoiseEngineNoCharge',\n",
    "       'RTVetoCutHit', 'STW9000_DTW300Hits', 'UncleanedFullTimeLength',\n",
    "       'VertexGuessZ', 'VetoFiducialRatioHits']\n",
    "\n",
    "lvl3_variables_MC = pd.read_csv(lvl3_variables_MC_indir,usecols=useful_columns).sort_values('event_no').reset_index(drop = True)\n",
    "\n"
   ]
  },
  {
   "cell_type": "code",
   "execution_count": 7,
   "metadata": {},
   "outputs": [],
   "source": [
    "def to_logit(p):\n",
    "    eps = 0.0000001\n",
    "    try:\n",
    "        if np.isnan(p):\n",
    "            return\n",
    "        p = p*(1-2*eps)+eps\n",
    "        logit = np.log(p/(1-p))\n",
    "    except ZeroDivisionError as e:\n",
    "        print(e)\n",
    "    return logit\n",
    "\n",
    "multiclass_MC['pid_neutrino_pred_logit'] = pd.Series(multiclass_MC['pid_neutrino_pred']).apply(to_logit)"
   ]
  },
  {
   "cell_type": "code",
   "execution_count": 8,
   "metadata": {},
   "outputs": [
    {
     "name": "stdout",
     "output_type": "stream",
     "text": [
      "38885781\n",
      "          event_no  osc_weight\n",
      "28956376  28956376         NaN\n"
     ]
    },
    {
     "name": "stderr",
     "output_type": "stream",
     "text": [
      "/tmp/ipykernel_45931/382299087.py:5: SettingWithCopyWarning: \n",
      "A value is trying to be set on a copy of a slice from a DataFrame\n",
      "\n",
      "See the caveats in the documentation: https://pandas.pydata.org/pandas-docs/stable/user_guide/indexing.html#returning-a-view-versus-a-copy\n",
      "  osc_weight_MC['osc_weight'][osc_weight_MC['event_no']==28956376] = 0\n"
     ]
    },
    {
     "name": "stdout",
     "output_type": "stream",
     "text": [
      "          event_no  osc_weight\n",
      "28956376  28956376         0.0\n"
     ]
    }
   ],
   "source": [
    "indir_osc_weight_MC = \"/groups/icecube/petersen/GraphNetDatabaseRepository/multi_classification_track_cascade_neutrino/using_new_muons_Peter_database/inference/Test_set/osc_weights_new_muon.csv\"\n",
    "osc_weight_MC = pd.read_csv(indir_osc_weight_MC)\n",
    "print(len(osc_weight_MC))\n",
    "print(osc_weight_MC[osc_weight_MC['event_no']==28956376])\n",
    "osc_weight_MC['osc_weight'][osc_weight_MC['event_no']==28956376] = 0\n",
    "print(osc_weight_MC[osc_weight_MC['event_no']==28956376])"
   ]
  },
  {
   "cell_type": "code",
   "execution_count": 9,
   "metadata": {},
   "outputs": [
    {
     "name": "stdout",
     "output_type": "stream",
     "text": [
      "0.001698641060838674 0.0006648233149566109 0.0030570841456206404\n",
      "878    1.375828e-07\n",
      "890    2.086777e-07\n",
      "904    1.883566e-07\n",
      "916    2.064462e-07\n",
      "930    1.458803e-07\n",
      "932    1.216562e-07\n",
      "938    3.205147e-07\n",
      "945    2.292233e-07\n",
      "946    2.398221e-07\n",
      "956    1.527254e-07\n",
      "Name: osc_weight, dtype: float64\n"
     ]
    },
    {
     "name": "stderr",
     "output_type": "stream",
     "text": [
      "/tmp/ipykernel_45931/3908699960.py:34: SettingWithCopyWarning: \n",
      "A value is trying to be set on a copy of a slice from a DataFrame\n",
      "\n",
      "See the caveats in the documentation: https://pandas.pydata.org/pandas-docs/stable/user_guide/indexing.html#returning-a-view-versus-a-copy\n",
      "  osc_weight_MC['osc_weight'][osc_weight_MC['event_no'].isin((electron_neutrino_event_nos))] *= electron_neutrino_add_weight\n"
     ]
    },
    {
     "name": "stdout",
     "output_type": "stream",
     "text": [
      "878    2.337037e-10\n",
      "890    3.544685e-10\n",
      "904    3.199503e-10\n",
      "916    3.506780e-10\n",
      "930    2.477983e-10\n",
      "932    2.066502e-10\n",
      "938    5.444394e-10\n",
      "945    3.893682e-10\n",
      "946    4.073716e-10\n",
      "956    2.594257e-10\n",
      "Name: osc_weight, dtype: float64\n"
     ]
    },
    {
     "name": "stderr",
     "output_type": "stream",
     "text": [
      "/tmp/ipykernel_45931/3908699960.py:36: SettingWithCopyWarning: \n",
      "A value is trying to be set on a copy of a slice from a DataFrame\n",
      "\n",
      "See the caveats in the documentation: https://pandas.pydata.org/pandas-docs/stable/user_guide/indexing.html#returning-a-view-versus-a-copy\n",
      "  osc_weight_MC['osc_weight'][osc_weight_MC['event_no'].isin((muon_neutrino_event_nos))] *= muon_neutrino_add_weight\n",
      "/tmp/ipykernel_45931/3908699960.py:37: SettingWithCopyWarning: \n",
      "A value is trying to be set on a copy of a slice from a DataFrame\n",
      "\n",
      "See the caveats in the documentation: https://pandas.pydata.org/pandas-docs/stable/user_guide/indexing.html#returning-a-view-versus-a-copy\n",
      "  osc_weight_MC['osc_weight'][osc_weight_MC['event_no'].isin((tau_neutrino_event_nos))] *= tau_neutrino_add_weight\n",
      "/tmp/ipykernel_45931/3908699960.py:38: SettingWithCopyWarning: \n",
      "A value is trying to be set on a copy of a slice from a DataFrame\n",
      "\n",
      "See the caveats in the documentation: https://pandas.pydata.org/pandas-docs/stable/user_guide/indexing.html#returning-a-view-versus-a-copy\n",
      "  osc_weight_MC['osc_weight'][osc_weight_MC['event_no'].isin((muon_event_nos))] *= muon_add_weight\n",
      "/tmp/ipykernel_45931/3908699960.py:39: SettingWithCopyWarning: \n",
      "A value is trying to be set on a copy of a slice from a DataFrame\n",
      "\n",
      "See the caveats in the documentation: https://pandas.pydata.org/pandas-docs/stable/user_guide/indexing.html#returning-a-view-versus-a-copy\n",
      "  osc_weight_MC['osc_weight'][osc_weight_MC['event_no'].isin((noise_event_nos))] *= noise_add_weight\n"
     ]
    }
   ],
   "source": [
    "nr_electron_neutrino_i3_files = 602\n",
    "nr_muon_neutrino_i3_files = 1518\n",
    "nr_tau_neutrino_i3_files = 334\n",
    "nr_muon_i3_files = 1093\n",
    "nr_noise_i3_files = 401\n",
    "\n",
    "nr_electron_neutrinos_total = 8118575 + 183333\n",
    "nr_muon_neutrinos_total = 19923619 + 183333\n",
    "nr_tau_neutrinos_total = 8702748 + 183333\n",
    "nr_muon_total = 169737 + 550000\n",
    "nr_noise_total = 321103 + 550000\n",
    "\n",
    "nr_electron_neutrinos_test = 8118575\n",
    "nr_muon_neutrinos_test = 19923619\n",
    "nr_tau_neutrinos_test = 8702748\n",
    "nr_muon_test = 169737\n",
    "nr_noise_test =321103\n",
    "\n",
    "electron_neutrino_add_weight = 1/(nr_electron_neutrino_i3_files*nr_electron_neutrinos_test/nr_electron_neutrinos_total)\n",
    "muon_neutrino_add_weight = 1/(nr_muon_neutrino_i3_files*nr_muon_neutrinos_test/nr_muon_neutrinos_total)\n",
    "tau_neutrino_add_weight = 1/(nr_tau_neutrino_i3_files*nr_tau_neutrinos_test/nr_tau_neutrinos_total)\n",
    "muon_add_weight = 1/(nr_muon_i3_files*nr_muon_test/nr_muon_total)\n",
    "noise_add_weight = 1/(nr_noise_i3_files*nr_noise_test/nr_noise_total)\n",
    "print(electron_neutrino_add_weight,muon_neutrino_add_weight,tau_neutrino_add_weight)\n",
    "\n",
    "electron_neutrino_event_nos = multiclass_MC['event_no'][multiclass_MC['pid'].isin((-12,12))].to_list()\n",
    "muon_neutrino_event_nos = multiclass_MC['event_no'][multiclass_MC['pid'].isin((-14,14))].to_list()\n",
    "tau_neutrino_event_nos = multiclass_MC['event_no'][multiclass_MC['pid'].isin((-16,16))].to_list()\n",
    "muon_event_nos = multiclass_MC['event_no'][multiclass_MC['pid'].isin((-13,13))].to_list()\n",
    "noise_event_nos = multiclass_MC['event_no'][multiclass_MC['pid'].isin((-1,1))].to_list()\n",
    "neutrino_event_nos = multiclass_MC['event_no'][multiclass_MC['pid'].isin((-12,12,-14,14,-16,16))].to_list()\n",
    "\n",
    "print(osc_weight_MC['osc_weight'][osc_weight_MC['event_no'].isin((electron_neutrino_event_nos))].head(10))\n",
    "osc_weight_MC['osc_weight'][osc_weight_MC['event_no'].isin((electron_neutrino_event_nos))] *= electron_neutrino_add_weight\n",
    "print(osc_weight_MC['osc_weight'][osc_weight_MC['event_no'].isin((electron_neutrino_event_nos))].head(10))\n",
    "osc_weight_MC['osc_weight'][osc_weight_MC['event_no'].isin((muon_neutrino_event_nos))] *= muon_neutrino_add_weight\n",
    "osc_weight_MC['osc_weight'][osc_weight_MC['event_no'].isin((tau_neutrino_event_nos))] *= tau_neutrino_add_weight\n",
    "osc_weight_MC['osc_weight'][osc_weight_MC['event_no'].isin((muon_event_nos))] *= muon_add_weight\n",
    "osc_weight_MC['osc_weight'][osc_weight_MC['event_no'].isin((noise_event_nos))] *= noise_add_weight"
   ]
  },
  {
   "cell_type": "code",
   "execution_count": 10,
   "metadata": {},
   "outputs": [
    {
     "name": "stdout",
     "output_type": "stream",
     "text": [
      "(37235782, 5)\n",
      "(37235782, 4)\n",
      "(37235782, 4)\n",
      "(37235782, 4)\n",
      "(37235782, 7)\n",
      "(37235782, 8)\n",
      "(38885781, 5)\n",
      "(38885781, 14)\n",
      "(38885781, 2)\n"
     ]
    }
   ],
   "source": [
    "print(np.shape(track_cascade_MC))\n",
    "print(np.shape(energy_MC))\n",
    "print(np.shape(zenith_MC))\n",
    "print(np.shape(azimuth_MC))\n",
    "print(np.shape(multiclass_MC))\n",
    "print(np.shape(position_MC))\n",
    "print(np.shape(pulses_strings_doms_MC))\n",
    "print(np.shape(lvl3_variables_MC))\n",
    "\n",
    "print(np.shape(osc_weight_MC))\n",
    "\n"
   ]
  },
  {
   "cell_type": "code",
   "execution_count": 16,
   "metadata": {},
   "outputs": [
    {
     "name": "stdout",
     "output_type": "stream",
     "text": [
      "   track_mu_pred  event_no  track_mu\n",
      "0       0.448105       0.0         1\n",
      "   energy_pred  event_no    energy\n",
      "0     3.793501       0.0  3.170023\n",
      "   zenith_pred  zenith_kappa  event_no    zenith\n",
      "0     1.799249      3.846686       0.0  1.586985\n",
      "   azimuth_pred  azimuth_kappa  event_no   azimuth\n",
      "0       0.11761       0.618752       0.0  4.110935\n",
      "   pid_noise_pred  pid_muon_pred  pid_neutrino_pred   pid  event_no  \\\n",
      "0        0.000318       0.000078           0.999604 -14.0       0.0   \n",
      "\n",
      "   pid_neutrino_pred_logit  \n",
      "0                 7.834167  \n",
      "   position_x_pred  position_y_pred  position_z_pred  position_x  position_y  \\\n",
      "0       115.700378       -60.552162      -341.636292  101.276772  -76.372551   \n",
      "\n",
      "   position_z  event_no  \n",
      "0 -336.303162       0.0  \n",
      "   event_no  N_pulses  N_string  N_doms  First_dom_time\n",
      "0         0        36        21      25    56783.915364\n",
      "   event_no  C2HR6  CausalVetoHits  CleanedFullTimeLength  DCFiducialHits  \\\n",
      "0         0    1.0             2.0                  649.0             5.0   \n",
      "\n",
      "   L3_oscNext_bool  NAbove200Hits  NchCleaned  NoiseEngineNoCharge  \\\n",
      "0              0.0            1.0         5.0                  1.0   \n",
      "\n",
      "   RTVetoCutHit  STW9000_DTW300Hits  UncleanedFullTimeLength  VertexGuessZ  \\\n",
      "0           1.0                 3.0                  10057.0        -242.0   \n",
      "\n",
      "   VetoFiducialRatioHits  \n",
      "0                    0.0  \n",
      "   event_no  total_osc_weight\n",
      "0         0      4.011465e-10\n"
     ]
    }
   ],
   "source": [
    "print(track_cascade_MC.head(1))\n",
    "print(energy_MC.head(1))\n",
    "print(zenith_MC.head(1))\n",
    "print(azimuth_MC.head(1))\n",
    "print(multiclass_MC.head(1))\n",
    "print(position_MC.head(1))\n",
    "print(pulses_strings_doms_MC.head(1))\n",
    "print(lvl3_variables_MC.head(1))\n",
    "\n",
    "print(osc_weight_MC.head(1))\n"
   ]
  },
  {
   "cell_type": "code",
   "execution_count": 12,
   "metadata": {},
   "outputs": [
    {
     "name": "stdout",
     "output_type": "stream",
     "text": [
      "None\n",
      "None\n",
      "None\n",
      "None\n",
      "None\n"
     ]
    }
   ],
   "source": [
    "print(track_cascade_MC.drop(columns=['Unnamed: 0','energy'],inplace=True))\n",
    "print(energy_MC.drop(columns='Unnamed: 0',inplace=True))\n",
    "#print(zenith_MC.drop(columns='Unnamed: 0',inplace=True))\n",
    "#print(azimuth_MC.drop(columns='Unnamed: 0',inplace=True))\n",
    "print(multiclass_MC.drop(columns='Unnamed: 0',inplace=True))\n",
    "print(position_MC.drop(columns='Unnamed: 0',inplace=True))\n",
    "#print(pulses_strings_doms_MC.drop(columns='Unnamed: 0',inplace=True))\n",
    "#print(lvl3_variables_MC.drop(columns='Unnamed: 0',inplace=True))\n",
    "#print(retro.drop(columns='Unnamed: 0',inplace=True))\n",
    "#print(osc_weight_MC.drop(columns='Unnamed: 0',inplace=True))\n",
    "print(osc_weight_MC.rename(columns={\"osc_weight\": \"total_osc_weight\"},inplace=True))"
   ]
  },
  {
   "cell_type": "code",
   "execution_count": 13,
   "metadata": {},
   "outputs": [],
   "source": [
    "indir_interaction_type = \"/groups/icecube/petersen/GraphNetDatabaseRepository/multi_classification_track_cascade_neutrino/using_new_muons_Peter_database/inference/Test_set/\"\n",
    "MC_interaction_type = pd.read_csv(indir_interaction_type + 'interaction_type_New_muon_test.csv').sort_values('event_no').reset_index(drop = True)"
   ]
  },
  {
   "cell_type": "code",
   "execution_count": 14,
   "metadata": {},
   "outputs": [],
   "source": [
    "MC_interaction_type.drop(columns='pid',inplace=True)"
   ]
  },
  {
   "cell_type": "code",
   "execution_count": 15,
   "metadata": {},
   "outputs": [
    {
     "name": "stdout",
     "output_type": "stream",
     "text": [
      "   event_no  interaction_type\n",
      "0         0               1.0\n",
      "(38885781, 2)\n"
     ]
    }
   ],
   "source": [
    "print(MC_interaction_type.head(1))\n",
    "print(np.shape(MC_interaction_type))"
   ]
  },
  {
   "cell_type": "code",
   "execution_count": 17,
   "metadata": {},
   "outputs": [],
   "source": [
    "total_MC = pd.merge(track_cascade_MC.reset_index(drop=True),energy_MC.reset_index(drop=True),on='event_no',how='inner').reset_index(drop=True)\n",
    "total_MC = pd.merge(total_MC.reset_index(drop=True),zenith_MC.reset_index(drop=True),on='event_no',how='inner').reset_index(drop=True)\n",
    "total_MC = pd.merge(total_MC.reset_index(drop=True),azimuth_MC.reset_index(drop=True),on='event_no',how='inner').reset_index(drop=True)\n",
    "total_MC = pd.merge(total_MC.reset_index(drop=True),multiclass_MC.reset_index(drop=True),on='event_no',how='inner').reset_index(drop=True)\n",
    "total_MC = pd.merge(total_MC.reset_index(drop=True),position_MC.reset_index(drop=True),on='event_no',how='inner').reset_index(drop=True)\n",
    "total_MC = pd.merge(total_MC.reset_index(drop=True),pulses_strings_doms_MC.reset_index(drop=True),on='event_no',how='inner').reset_index(drop=True)\n",
    "total_MC = pd.merge(total_MC.reset_index(drop=True),lvl3_variables_MC.reset_index(drop=True),on='event_no',how='inner').reset_index(drop=True)\n",
    "total_MC = pd.merge(total_MC.reset_index(drop=True),MC_interaction_type.reset_index(drop=True),on='event_no',how='inner').reset_index(drop=True)\n",
    "total_MC = pd.merge(total_MC.reset_index(drop=True),osc_weight_MC.reset_index(drop=True),on='event_no',how='inner').reset_index(drop=True)\n",
    "\n"
   ]
  },
  {
   "cell_type": "code",
   "execution_count": 18,
   "metadata": {},
   "outputs": [
    {
     "name": "stdout",
     "output_type": "stream",
     "text": [
      "Index(['track_mu_pred', 'event_no', 'track_mu', 'energy_pred', 'energy',\n",
      "       'zenith_pred', 'zenith_kappa', 'zenith', 'azimuth_pred',\n",
      "       'azimuth_kappa', 'azimuth', 'pid_noise_pred', 'pid_muon_pred',\n",
      "       'pid_neutrino_pred', 'pid', 'pid_neutrino_pred_logit',\n",
      "       'position_x_pred', 'position_y_pred', 'position_z_pred', 'position_x',\n",
      "       'position_y', 'position_z', 'N_pulses', 'N_string', 'N_doms',\n",
      "       'First_dom_time', 'C2HR6', 'CausalVetoHits', 'CleanedFullTimeLength',\n",
      "       'DCFiducialHits', 'L3_oscNext_bool', 'NAbove200Hits', 'NchCleaned',\n",
      "       'NoiseEngineNoCharge', 'RTVetoCutHit', 'STW9000_DTW300Hits',\n",
      "       'UncleanedFullTimeLength', 'VertexGuessZ', 'VetoFiducialRatioHits',\n",
      "       'interaction_type', 'total_osc_weight'],\n",
      "      dtype='object')\n"
     ]
    }
   ],
   "source": [
    "print(total_MC.columns)"
   ]
  },
  {
   "cell_type": "code",
   "execution_count": 20,
   "metadata": {},
   "outputs": [
    {
     "name": "stdout",
     "output_type": "stream",
     "text": [
      "   track_mu_pred  event_no  track_mu  energy_pred    energy  zenith_pred  \\\n",
      "0       0.448105       0.0         1     3.793501  3.170023     1.799249   \n",
      "\n",
      "   zenith_kappa    zenith  azimuth_pred  azimuth_kappa  ...  NAbove200Hits  \\\n",
      "0      3.846686  1.586985       0.11761       0.618752  ...            1.0   \n",
      "\n",
      "   NchCleaned  NoiseEngineNoCharge  RTVetoCutHit  STW9000_DTW300Hits  \\\n",
      "0         5.0                  1.0           1.0                 3.0   \n",
      "\n",
      "   UncleanedFullTimeLength  VertexGuessZ  VetoFiducialRatioHits  \\\n",
      "0                  10057.0        -242.0                    0.0   \n",
      "\n",
      "   interaction_type  total_osc_weight  \n",
      "0               1.0      4.011465e-10  \n",
      "\n",
      "[1 rows x 41 columns]\n",
      "(37235782, 41)\n"
     ]
    }
   ],
   "source": [
    "print(total_MC.head(1))\n",
    "print(np.shape(total_MC))"
   ]
  },
  {
   "cell_type": "code",
   "execution_count": 21,
   "metadata": {},
   "outputs": [],
   "source": [
    "outdir = \"/groups/icecube/petersen/GraphNetDatabaseRepository/multi_classification_track_cascade_neutrino/using_new_muons_Peter_database/inference/track_cascade_sets/\"\n",
    "\n",
    "total_MC.to_csv(outdir + 'Monte_Carlo_all_events_all_variables.csv',index=False)"
   ]
  },
  {
   "cell_type": "code",
   "execution_count": null,
   "metadata": {},
   "outputs": [],
   "source": [
    "np.shape(total_MC[total_MC['pid_neutrino_pred_logit']>1])"
   ]
  },
  {
   "cell_type": "code",
   "execution_count": null,
   "metadata": {},
   "outputs": [],
   "source": [
    "small_MC = total_MC[total_MC['pid_neutrino_pred_logit']>1]\n",
    "small_MC.to_csv(outdir + 'Monte_Carlo_neutrino_prob_logit_above_1_all_variables.csv',index=False)"
   ]
  },
  {
   "cell_type": "code",
   "execution_count": null,
   "metadata": {},
   "outputs": [],
   "source": [
    "outdir = \"/groups/icecube/petersen/GraphNetDatabaseRepository/multi_classification_track_cascade_neutrino/using_new_muons_Peter_database/inference/track_cascade_sets/\"\n"
   ]
  },
  {
   "cell_type": "code",
   "execution_count": 4,
   "metadata": {},
   "outputs": [
    {
     "name": "stdout",
     "output_type": "stream",
     "text": [
      "(12669623, 41)\n"
     ]
    }
   ],
   "source": [
    "# test = pd.read_csv(\"/groups/icecube/petersen/GraphNetDatabaseRepository/multi_classification_track_cascade_neutrino/using_new_muons_Peter_database/inference/track_cascade_sets/Monte_Carlo_neutrino_prob_logit_above_12_all_variables.csv\")\n",
    "# print(np.shape(test))"
   ]
  },
  {
   "cell_type": "code",
   "execution_count": 1,
   "metadata": {},
   "outputs": [
    {
     "ename": "NameError",
     "evalue": "name 'test' is not defined",
     "output_type": "error",
     "traceback": [
      "\u001b[0;31m---------------------------------------------------------------------------\u001b[0m",
      "\u001b[0;31mNameError\u001b[0m                                 Traceback (most recent call last)",
      "\u001b[1;32m/groups/icecube/peter/workspace/analyses/multi_classification_on_stop_and_track_muons/plotting/Final_plotting_Peter/New_muon_db/with_lvl_3_taken_care_off/make_total_csv_files_MC.ipynb Cell 21\u001b[0m in \u001b[0;36m1\n\u001b[0;32m----> <a href='vscode-notebook-cell://ssh-remote%2B7b22686f73744e616d65223a226865705f4350555f3032227d/groups/icecube/peter/workspace/analyses/multi_classification_on_stop_and_track_muons/plotting/Final_plotting_Peter/New_muon_db/with_lvl_3_taken_care_off/make_total_csv_files_MC.ipynb#X26sdnNjb2RlLXJlbW90ZQ%3D%3D?line=0'>1</a>\u001b[0m small_small_MC \u001b[39m=\u001b[39m test[test[\u001b[39m'\u001b[39m\u001b[39mpid_neutrino_pred_logit\u001b[39m\u001b[39m'\u001b[39m]\u001b[39m>\u001b[39m\u001b[39m12\u001b[39m]\n\u001b[1;32m      <a href='vscode-notebook-cell://ssh-remote%2B7b22686f73744e616d65223a226865705f4350555f3032227d/groups/icecube/peter/workspace/analyses/multi_classification_on_stop_and_track_muons/plotting/Final_plotting_Peter/New_muon_db/with_lvl_3_taken_care_off/make_total_csv_files_MC.ipynb#X26sdnNjb2RlLXJlbW90ZQ%3D%3D?line=1'>2</a>\u001b[0m small_small_MC\u001b[39m.\u001b[39mto_csv(outdir \u001b[39m+\u001b[39m \u001b[39m'\u001b[39m\u001b[39mMonte_Carlo_neutrino_prob_logit_above_12_all_variables.csv\u001b[39m\u001b[39m'\u001b[39m,index\u001b[39m=\u001b[39m\u001b[39mFalse\u001b[39;00m)\n",
      "\u001b[0;31mNameError\u001b[0m: name 'test' is not defined"
     ]
    }
   ],
   "source": [
    "small_small_MC = test[test['pid_neutrino_pred_logit']>12]\n",
    "small_small_MC.to_csv(outdir + 'Monte_Carlo_neutrino_prob_logit_above_12_all_variables.csv',index=False)"
   ]
  },
  {
   "cell_type": "code",
   "execution_count": null,
   "metadata": {},
   "outputs": [
    {
     "name": "stdout",
     "output_type": "stream",
     "text": [
      "(18226, 33)\n"
     ]
    }
   ],
   "source": [
    "print(np.shape(small_small_MC))"
   ]
  }
 ],
 "metadata": {
  "kernelspec": {
   "display_name": "graphnet",
   "language": "python",
   "name": "python3"
  },
  "language_info": {
   "codemirror_mode": {
    "name": "ipython",
    "version": 3
   },
   "file_extension": ".py",
   "mimetype": "text/x-python",
   "name": "python",
   "nbconvert_exporter": "python",
   "pygments_lexer": "ipython3",
   "version": "3.8.15"
  },
  "orig_nbformat": 4
 },
 "nbformat": 4,
 "nbformat_minor": 2
}
