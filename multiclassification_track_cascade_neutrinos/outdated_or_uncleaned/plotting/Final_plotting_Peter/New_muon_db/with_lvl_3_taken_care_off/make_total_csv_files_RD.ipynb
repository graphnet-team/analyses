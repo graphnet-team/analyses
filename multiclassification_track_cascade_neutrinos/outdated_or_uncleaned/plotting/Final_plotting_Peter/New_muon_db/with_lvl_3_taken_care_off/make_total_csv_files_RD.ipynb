{
 "cells": [
  {
   "cell_type": "code",
   "execution_count": 1,
   "metadata": {},
   "outputs": [],
   "source": [
    "import sqlite3 as sql\n",
    "\n",
    "import numpy as np\n",
    "import pandas as pd\n",
    "from pandas import cut, read_sql\n",
    "import pickle as pkl\n",
    "from random import choices\n",
    "from sklearn import metrics\n",
    "import matplotlib.pyplot as plt\n",
    "import matplotlib.colors as colors\n",
    "import scipy.optimize as optimize\n",
    "from standard_plotting import set_size"
   ]
  },
  {
   "cell_type": "code",
   "execution_count": 2,
   "metadata": {},
   "outputs": [],
   "source": [
    "indir_track_cascade_RD = \"/groups/icecube/petersen/GraphNetDatabaseRepository/multi_classification_track_cascade_neutrino/using_MP_lvl3/inference/track_mu_Burnsample_RD_Full_db.csv\"\n",
    "indir_energy_RD = \"/groups/icecube/petersen/GraphNetDatabaseRepository/multi_classification_track_cascade_neutrino/using_MP_lvl3/inference/energy_Burnsample_RD_Full_db.csv\"\n",
    "indir_zenith_RD = \"/groups/icecube/petersen/GraphNetDatabaseRepository/multi_classification_track_cascade_neutrino/using_MP_lvl3/inference/zenith_Burnsample_RD_Full_db.csv\"\n",
    "indir_azimuth_RD = \"/groups/icecube/petersen/GraphNetDatabaseRepository/multi_classification_track_cascade_neutrino/using_MP_lvl3/inference/azimuth_Burnsample_RD_Full_db.csv\"\n",
    "indir_multiclass_RD = \"/groups/icecube/petersen/GraphNetDatabaseRepository/multi_classification_track_cascade_neutrino/using_new_muons_Peter_database/inference/Burnsample/pid_Burnsample_RD_Full_db_new_muon.csv\"\n",
    "indir_position_RD = \"/groups/icecube/petersen/GraphNetDatabaseRepository/multi_classification_track_cascade_neutrino/using_new_muons_Peter_database/inference/Burnsample/['position_x', 'position_y', 'position_z']_Burnsample_RD_Full_db.csv\"\n",
    "pulses_strings_doms_RD_indir = \"/groups/icecube/petersen/GraphNetDatabaseRepository/multi_classification_track_cascade_neutrino/using_new_muons_Peter_database/inference/Burnsample/Pulses_doms_strings_times_burnsample.csv\"\n",
    "lvl3_variables_RD_indir = \"/groups/icecube/petersen/GraphNetDatabaseRepository/multi_classification_track_cascade_neutrino/using_new_muons_Peter_database/inference/Burnsample/lvl3_variables_burnsample.csv\"\n",
    "\n",
    "#Extra for MC: Retro, Oscweight"
   ]
  },
  {
   "cell_type": "code",
   "execution_count": 3,
   "metadata": {},
   "outputs": [],
   "source": [
    "track_cascade_RD = pd.read_csv(indir_track_cascade_RD).sort_values('event_no').reset_index(drop = True)\n",
    "energy_RD = pd.read_csv(indir_energy_RD).sort_values('event_no').reset_index(drop = True)\n",
    "zenith_RD = pd.read_csv(indir_zenith_RD).sort_values('event_no').reset_index(drop = True)\n",
    "azimuth_RD = pd.read_csv(indir_azimuth_RD).sort_values('event_no').reset_index(drop = True)\n",
    "multiclass_RD = pd.read_csv(indir_multiclass_RD).sort_values('event_no').reset_index(drop = True)\n",
    "position_RD = pd.read_csv(indir_position_RD).sort_values('event_no').reset_index(drop = True)\n",
    "pulses_strings_doms_RD = pd.read_csv(pulses_strings_doms_RD_indir).sort_values('event_no').reset_index(drop = True)\n",
    "\n",
    "useful_columns = ['event_no',\n",
    "       'C2HR6', 'CausalVetoHits', 'CleanedFullTimeLength', 'DCFiducialHits',\n",
    "       'L3_oscNext_bool', 'NAbove200Hits', 'NchCleaned', 'NoiseEngineNoCharge',\n",
    "       'RTVetoCutHit', 'STW9000_DTW300Hits', 'UncleanedFullTimeLength',\n",
    "       'VertexGuessZ', 'VetoFiducialRatioHits']\n",
    "\n",
    "lvl3_variables_RD = pd.read_csv(lvl3_variables_RD_indir,usecols=useful_columns).sort_values('event_no').reset_index(drop = True)\n",
    "\n"
   ]
  },
  {
   "cell_type": "code",
   "execution_count": 4,
   "metadata": {},
   "outputs": [],
   "source": [
    "def to_logit(p):\n",
    "    eps = 0.0000001\n",
    "    try:\n",
    "        if np.isnan(p):\n",
    "            return\n",
    "        p = p*(1-2*eps)+eps\n",
    "        logit = np.log(p/(1-p))\n",
    "    except ZeroDivisionError as e:\n",
    "        print(e)\n",
    "    return logit\n",
    "\n",
    "multiclass_RD['pid_neutrino_pred_logit'] = pd.Series(multiclass_RD['pid_neutrino_pred']).apply(to_logit)"
   ]
  },
  {
   "cell_type": "code",
   "execution_count": 6,
   "metadata": {},
   "outputs": [
    {
     "name": "stdout",
     "output_type": "stream",
     "text": [
      "(61739862, 3)\n",
      "(61739862, 3)\n",
      "(61739862, 4)\n",
      "(61739862, 4)\n",
      "(61739862, 7)\n",
      "(61739862, 5)\n",
      "(98212967, 5)\n",
      "(61739862, 14)\n"
     ]
    }
   ],
   "source": [
    "print(np.shape(track_cascade_RD))\n",
    "print(np.shape(energy_RD))\n",
    "print(np.shape(zenith_RD))\n",
    "print(np.shape(azimuth_RD))\n",
    "print(np.shape(multiclass_RD))\n",
    "#print(np.shape(lvl3_RD))\n",
    "print(np.shape(position_RD))\n",
    "print(np.shape(pulses_strings_doms_RD))\n",
    "print(np.shape(lvl3_variables_RD))\n"
   ]
  },
  {
   "cell_type": "code",
   "execution_count": 14,
   "metadata": {},
   "outputs": [
    {
     "name": "stdout",
     "output_type": "stream",
     "text": [
      "   track_mu_pred  event_no\n",
      "0       0.433383       0.0\n",
      "   energy_pred  event_no\n",
      "0       3.8938       0.0\n",
      "   zenith_pred  zenith_kappa  event_no\n",
      "0     1.779149      2.967215       0.0\n",
      "   azimuth_pred  azimuth_kappa  event_no\n",
      "0       2.71805       0.320058       0.0\n",
      "   pid_noise_pred  pid_muon_pred  pid_neutrino_pred  pid  event_no  \\\n",
      "0        0.894823       0.014967           0.090209 -1.0       0.0   \n",
      "\n",
      "   pid_neutrino_pred_logit  \n",
      "0                -2.311082  \n",
      "   position_x_pred  position_y_pred  position_z_pred  event_no\n",
      "0        63.402687       -109.64241      -194.517563       0.0\n",
      "   event_no  N_pulses  N_string  N_doms  First_dom_time\n",
      "0         0        31        22      28         16559.0\n",
      "   event_no     C2HR6  CausalVetoHits  CleanedFullTimeLength  DCFiducialHits  \\\n",
      "0         0  0.666667             4.0                 2316.0             5.0   \n",
      "\n",
      "   L3_oscNext_bool  NAbove200Hits  NchCleaned  NoiseEngineNoCharge  \\\n",
      "0              0.0            5.0         5.0                  0.0   \n",
      "\n",
      "   RTVetoCutHit  STW9000_DTW300Hits  UncleanedFullTimeLength  VertexGuessZ  \\\n",
      "0           1.0                 4.0                  10581.0   -268.549988   \n",
      "\n",
      "   VetoFiducialRatioHits  \n",
      "0                    0.0  \n"
     ]
    }
   ],
   "source": [
    "print((track_cascade_RD.head(1)))\n",
    "print((energy_RD.head(1)))\n",
    "print((zenith_RD.head(1)))\n",
    "print((azimuth_RD.head(1)))\n",
    "print((multiclass_RD.head(1)))\n",
    "print((position_RD.head(1)))\n",
    "print((pulses_strings_doms_RD.head(1)))\n",
    "print((lvl3_variables_RD.head(1)))\n"
   ]
  },
  {
   "cell_type": "code",
   "execution_count": 13,
   "metadata": {},
   "outputs": [
    {
     "name": "stdout",
     "output_type": "stream",
     "text": [
      "None\n",
      "None\n",
      "None\n",
      "None\n",
      "None\n"
     ]
    },
    {
     "ename": "KeyError",
     "evalue": "\"['Unnamed: 0'] not found in axis\"",
     "output_type": "error",
     "traceback": [
      "\u001b[0;31m---------------------------------------------------------------------------\u001b[0m",
      "\u001b[0;31mKeyError\u001b[0m                                  Traceback (most recent call last)",
      "\u001b[1;32m/groups/icecube/peter/workspace/analyses/multi_classification_on_stop_and_track_muons/plotting/Final_plotting_Peter/New_muon_db/with_lvl_3_taken_care_off/make_total_csv_files_RD.ipynb Cell 7\u001b[0m in \u001b[0;36m8\n\u001b[1;32m      <a href='vscode-notebook-cell://ssh-remote%2B7b22686f73744e616d65223a226865705f4350555f3032227d/groups/icecube/peter/workspace/analyses/multi_classification_on_stop_and_track_muons/plotting/Final_plotting_Peter/New_muon_db/with_lvl_3_taken_care_off/make_total_csv_files_RD.ipynb#X11sdnNjb2RlLXJlbW90ZQ%3D%3D?line=5'>6</a>\u001b[0m \u001b[39m#print((lvl3_RD.drop(columns='Unnamed: 0',inplace=True)))\u001b[39;00m\n\u001b[1;32m      <a href='vscode-notebook-cell://ssh-remote%2B7b22686f73744e616d65223a226865705f4350555f3032227d/groups/icecube/peter/workspace/analyses/multi_classification_on_stop_and_track_muons/plotting/Final_plotting_Peter/New_muon_db/with_lvl_3_taken_care_off/make_total_csv_files_RD.ipynb#X11sdnNjb2RlLXJlbW90ZQ%3D%3D?line=6'>7</a>\u001b[0m \u001b[39mprint\u001b[39m((position_RD\u001b[39m.\u001b[39mdrop(columns\u001b[39m=\u001b[39m\u001b[39m'\u001b[39m\u001b[39mUnnamed: 0\u001b[39m\u001b[39m'\u001b[39m,inplace\u001b[39m=\u001b[39m\u001b[39mTrue\u001b[39;00m)))\n\u001b[0;32m----> <a href='vscode-notebook-cell://ssh-remote%2B7b22686f73744e616d65223a226865705f4350555f3032227d/groups/icecube/peter/workspace/analyses/multi_classification_on_stop_and_track_muons/plotting/Final_plotting_Peter/New_muon_db/with_lvl_3_taken_care_off/make_total_csv_files_RD.ipynb#X11sdnNjb2RlLXJlbW90ZQ%3D%3D?line=7'>8</a>\u001b[0m \u001b[39mprint\u001b[39m((pulses_strings_doms_RD\u001b[39m.\u001b[39;49mdrop(columns\u001b[39m=\u001b[39;49m\u001b[39m'\u001b[39;49m\u001b[39mUnnamed: 0\u001b[39;49m\u001b[39m'\u001b[39;49m,inplace\u001b[39m=\u001b[39;49m\u001b[39mTrue\u001b[39;49;00m)))\n",
      "File \u001b[0;32m~/anaconda3/envs/graphnet/lib/python3.8/site-packages/pandas/util/_decorators.py:311\u001b[0m, in \u001b[0;36mdeprecate_nonkeyword_arguments.<locals>.decorate.<locals>.wrapper\u001b[0;34m(*args, **kwargs)\u001b[0m\n\u001b[1;32m    305\u001b[0m \u001b[39mif\u001b[39;00m \u001b[39mlen\u001b[39m(args) \u001b[39m>\u001b[39m num_allow_args:\n\u001b[1;32m    306\u001b[0m     warnings\u001b[39m.\u001b[39mwarn(\n\u001b[1;32m    307\u001b[0m         msg\u001b[39m.\u001b[39mformat(arguments\u001b[39m=\u001b[39marguments),\n\u001b[1;32m    308\u001b[0m         \u001b[39mFutureWarning\u001b[39;00m,\n\u001b[1;32m    309\u001b[0m         stacklevel\u001b[39m=\u001b[39mstacklevel,\n\u001b[1;32m    310\u001b[0m     )\n\u001b[0;32m--> 311\u001b[0m \u001b[39mreturn\u001b[39;00m func(\u001b[39m*\u001b[39;49margs, \u001b[39m*\u001b[39;49m\u001b[39m*\u001b[39;49mkwargs)\n",
      "File \u001b[0;32m~/anaconda3/envs/graphnet/lib/python3.8/site-packages/pandas/core/frame.py:4954\u001b[0m, in \u001b[0;36mDataFrame.drop\u001b[0;34m(self, labels, axis, index, columns, level, inplace, errors)\u001b[0m\n\u001b[1;32m   4806\u001b[0m \u001b[39m@deprecate_nonkeyword_arguments\u001b[39m(version\u001b[39m=\u001b[39m\u001b[39mNone\u001b[39;00m, allowed_args\u001b[39m=\u001b[39m[\u001b[39m\"\u001b[39m\u001b[39mself\u001b[39m\u001b[39m\"\u001b[39m, \u001b[39m\"\u001b[39m\u001b[39mlabels\u001b[39m\u001b[39m\"\u001b[39m])\n\u001b[1;32m   4807\u001b[0m \u001b[39mdef\u001b[39;00m \u001b[39mdrop\u001b[39m(\n\u001b[1;32m   4808\u001b[0m     \u001b[39mself\u001b[39m,\n\u001b[0;32m   (...)\u001b[0m\n\u001b[1;32m   4815\u001b[0m     errors: \u001b[39mstr\u001b[39m \u001b[39m=\u001b[39m \u001b[39m\"\u001b[39m\u001b[39mraise\u001b[39m\u001b[39m\"\u001b[39m,\n\u001b[1;32m   4816\u001b[0m ):\n\u001b[1;32m   4817\u001b[0m     \u001b[39m\"\"\"\u001b[39;00m\n\u001b[1;32m   4818\u001b[0m \u001b[39m    Drop specified labels from rows or columns.\u001b[39;00m\n\u001b[1;32m   4819\u001b[0m \n\u001b[0;32m   (...)\u001b[0m\n\u001b[1;32m   4952\u001b[0m \u001b[39m            weight  1.0     0.8\u001b[39;00m\n\u001b[1;32m   4953\u001b[0m \u001b[39m    \"\"\"\u001b[39;00m\n\u001b[0;32m-> 4954\u001b[0m     \u001b[39mreturn\u001b[39;00m \u001b[39msuper\u001b[39;49m()\u001b[39m.\u001b[39;49mdrop(\n\u001b[1;32m   4955\u001b[0m         labels\u001b[39m=\u001b[39;49mlabels,\n\u001b[1;32m   4956\u001b[0m         axis\u001b[39m=\u001b[39;49maxis,\n\u001b[1;32m   4957\u001b[0m         index\u001b[39m=\u001b[39;49mindex,\n\u001b[1;32m   4958\u001b[0m         columns\u001b[39m=\u001b[39;49mcolumns,\n\u001b[1;32m   4959\u001b[0m         level\u001b[39m=\u001b[39;49mlevel,\n\u001b[1;32m   4960\u001b[0m         inplace\u001b[39m=\u001b[39;49minplace,\n\u001b[1;32m   4961\u001b[0m         errors\u001b[39m=\u001b[39;49merrors,\n\u001b[1;32m   4962\u001b[0m     )\n",
      "File \u001b[0;32m~/anaconda3/envs/graphnet/lib/python3.8/site-packages/pandas/core/generic.py:4267\u001b[0m, in \u001b[0;36mNDFrame.drop\u001b[0;34m(self, labels, axis, index, columns, level, inplace, errors)\u001b[0m\n\u001b[1;32m   4265\u001b[0m \u001b[39mfor\u001b[39;00m axis, labels \u001b[39min\u001b[39;00m axes\u001b[39m.\u001b[39mitems():\n\u001b[1;32m   4266\u001b[0m     \u001b[39mif\u001b[39;00m labels \u001b[39mis\u001b[39;00m \u001b[39mnot\u001b[39;00m \u001b[39mNone\u001b[39;00m:\n\u001b[0;32m-> 4267\u001b[0m         obj \u001b[39m=\u001b[39m obj\u001b[39m.\u001b[39;49m_drop_axis(labels, axis, level\u001b[39m=\u001b[39;49mlevel, errors\u001b[39m=\u001b[39;49merrors)\n\u001b[1;32m   4269\u001b[0m \u001b[39mif\u001b[39;00m inplace:\n\u001b[1;32m   4270\u001b[0m     \u001b[39mself\u001b[39m\u001b[39m.\u001b[39m_update_inplace(obj)\n",
      "File \u001b[0;32m~/anaconda3/envs/graphnet/lib/python3.8/site-packages/pandas/core/generic.py:4311\u001b[0m, in \u001b[0;36mNDFrame._drop_axis\u001b[0;34m(self, labels, axis, level, errors, consolidate, only_slice)\u001b[0m\n\u001b[1;32m   4309\u001b[0m         new_axis \u001b[39m=\u001b[39m axis\u001b[39m.\u001b[39mdrop(labels, level\u001b[39m=\u001b[39mlevel, errors\u001b[39m=\u001b[39merrors)\n\u001b[1;32m   4310\u001b[0m     \u001b[39melse\u001b[39;00m:\n\u001b[0;32m-> 4311\u001b[0m         new_axis \u001b[39m=\u001b[39m axis\u001b[39m.\u001b[39;49mdrop(labels, errors\u001b[39m=\u001b[39;49merrors)\n\u001b[1;32m   4312\u001b[0m     indexer \u001b[39m=\u001b[39m axis\u001b[39m.\u001b[39mget_indexer(new_axis)\n\u001b[1;32m   4314\u001b[0m \u001b[39m# Case for non-unique axis\u001b[39;00m\n\u001b[1;32m   4315\u001b[0m \u001b[39melse\u001b[39;00m:\n",
      "File \u001b[0;32m~/anaconda3/envs/graphnet/lib/python3.8/site-packages/pandas/core/indexes/base.py:6644\u001b[0m, in \u001b[0;36mIndex.drop\u001b[0;34m(self, labels, errors)\u001b[0m\n\u001b[1;32m   6642\u001b[0m \u001b[39mif\u001b[39;00m mask\u001b[39m.\u001b[39many():\n\u001b[1;32m   6643\u001b[0m     \u001b[39mif\u001b[39;00m errors \u001b[39m!=\u001b[39m \u001b[39m\"\u001b[39m\u001b[39mignore\u001b[39m\u001b[39m\"\u001b[39m:\n\u001b[0;32m-> 6644\u001b[0m         \u001b[39mraise\u001b[39;00m \u001b[39mKeyError\u001b[39;00m(\u001b[39mf\u001b[39m\u001b[39m\"\u001b[39m\u001b[39m{\u001b[39;00m\u001b[39mlist\u001b[39m(labels[mask])\u001b[39m}\u001b[39;00m\u001b[39m not found in axis\u001b[39m\u001b[39m\"\u001b[39m)\n\u001b[1;32m   6645\u001b[0m     indexer \u001b[39m=\u001b[39m indexer[\u001b[39m~\u001b[39mmask]\n\u001b[1;32m   6646\u001b[0m \u001b[39mreturn\u001b[39;00m \u001b[39mself\u001b[39m\u001b[39m.\u001b[39mdelete(indexer)\n",
      "\u001b[0;31mKeyError\u001b[0m: \"['Unnamed: 0'] not found in axis\""
     ]
    }
   ],
   "source": [
    "# track_cascade_RD.drop(columns='Unnamed: 0',inplace=True,inplace=True)\n",
    "# print((energy_RD.drop(columns='Unnamed: 0',inplace=True)))\n",
    "# print((zenith_RD.drop(columns='Unnamed: 0',inplace=True)))\n",
    "# print((azimuth_RD.drop(columns='Unnamed: 0',inplace=True)))\n",
    "# print((multiclass_RD.drop(columns='Unnamed: 0',inplace=True)))\n",
    "# print((lvl3_RD.drop(columns='Unnamed: 0',inplace=True)))\n",
    "# print((position_RD.drop(columns='Unnamed: 0',inplace=True)))\n",
    "# print((pulses_strings_doms_RD.drop(columns='Unnamed: 0',inplace=True)))\n",
    "# print((lvl3_variables_RD.drop(columns='Unnamed: 0',inplace=True)))"
   ]
  },
  {
   "cell_type": "code",
   "execution_count": 15,
   "metadata": {},
   "outputs": [],
   "source": [
    "total_RD = pd.merge(track_cascade_RD.reset_index(drop=True),energy_RD.reset_index(drop=True),on='event_no',how='inner').reset_index(drop=True)\n",
    "total_RD = pd.merge(total_RD.reset_index(drop=True),zenith_RD.reset_index(drop=True),on='event_no',how='inner').reset_index(drop=True)\n",
    "total_RD = pd.merge(total_RD.reset_index(drop=True),azimuth_RD.reset_index(drop=True),on='event_no',how='inner').reset_index(drop=True)\n",
    "total_RD = pd.merge(total_RD.reset_index(drop=True),multiclass_RD.reset_index(drop=True),on='event_no',how='inner').reset_index(drop=True)\n",
    "total_RD = pd.merge(total_RD.reset_index(drop=True),position_RD.reset_index(drop=True),on='event_no',how='inner').reset_index(drop=True)\n",
    "total_RD = pd.merge(total_RD.reset_index(drop=True),pulses_strings_doms_RD.reset_index(drop=True),on='event_no',how='inner').reset_index(drop=True)\n",
    "total_RD = pd.merge(total_RD.reset_index(drop=True),lvl3_variables_RD.reset_index(drop=True),on='event_no',how='inner').reset_index(drop=True)\n",
    "\n"
   ]
  },
  {
   "cell_type": "code",
   "execution_count": 16,
   "metadata": {},
   "outputs": [
    {
     "name": "stdout",
     "output_type": "stream",
     "text": [
      "   track_mu_pred  event_no  energy_pred  zenith_pred  zenith_kappa  \\\n",
      "0       0.433383       0.0       3.8938     1.779149      2.967215   \n",
      "\n",
      "   azimuth_pred  azimuth_kappa  pid_noise_pred  pid_muon_pred  \\\n",
      "0       2.71805       0.320058        0.894823       0.014967   \n",
      "\n",
      "   pid_neutrino_pred  ...  DCFiducialHits  L3_oscNext_bool  NAbove200Hits  \\\n",
      "0           0.090209  ...             5.0              0.0            5.0   \n",
      "\n",
      "   NchCleaned  NoiseEngineNoCharge  RTVetoCutHit  STW9000_DTW300Hits  \\\n",
      "0         5.0                  0.0           1.0                 4.0   \n",
      "\n",
      "   UncleanedFullTimeLength  VertexGuessZ  VetoFiducialRatioHits  \n",
      "0                  10581.0   -268.549988                    0.0  \n",
      "\n",
      "[1 rows x 32 columns]\n"
     ]
    }
   ],
   "source": [
    "print(total_RD.head(1))"
   ]
  },
  {
   "cell_type": "code",
   "execution_count": 17,
   "metadata": {},
   "outputs": [],
   "source": [
    "Burnsample_weight = 1/(365.2425*24*3600*10*0.01)\n",
    "total_RD['total_osc_weight'] = np.ones(len(total_RD))*Burnsample_weight"
   ]
  },
  {
   "cell_type": "code",
   "execution_count": 20,
   "metadata": {},
   "outputs": [
    {
     "name": "stdout",
     "output_type": "stream",
     "text": [
      "Index(['track_mu_pred', 'event_no', 'energy_pred', 'zenith_pred',\n",
      "       'zenith_kappa', 'azimuth_pred', 'azimuth_kappa', 'pid_noise_pred',\n",
      "       'pid_muon_pred', 'pid_neutrino_pred', 'pid', 'pid_neutrino_pred_logit',\n",
      "       'position_x_pred', 'position_y_pred', 'position_z_pred', 'N_pulses',\n",
      "       'N_string', 'N_doms', 'First_dom_time', 'C2HR6', 'CausalVetoHits',\n",
      "       'CleanedFullTimeLength', 'DCFiducialHits', 'L3_oscNext_bool',\n",
      "       'NAbove200Hits', 'NchCleaned', 'NoiseEngineNoCharge', 'RTVetoCutHit',\n",
      "       'STW9000_DTW300Hits', 'UncleanedFullTimeLength', 'VertexGuessZ',\n",
      "       'VetoFiducialRatioHits', 'total_osc_weight'],\n",
      "      dtype='object')\n"
     ]
    }
   ],
   "source": [
    "print(total_RD.columns)"
   ]
  },
  {
   "cell_type": "code",
   "execution_count": 21,
   "metadata": {},
   "outputs": [],
   "source": [
    "outdir = \"/groups/icecube/petersen/GraphNetDatabaseRepository/multi_classification_track_cascade_neutrino/using_new_muons_Peter_database/inference/track_cascade_sets/\"\n",
    "\n",
    "total_RD.to_csv(outdir + 'Burnsample_1_percent_all_events_all_variables.csv',index=False)"
   ]
  },
  {
   "cell_type": "code",
   "execution_count": 24,
   "metadata": {},
   "outputs": [
    {
     "data": {
      "text/plain": [
       "(966537, 33)"
      ]
     },
     "execution_count": 24,
     "metadata": {},
     "output_type": "execute_result"
    }
   ],
   "source": [
    "np.shape(total_RD[total_RD['pid_neutrino_pred_logit']>1])"
   ]
  },
  {
   "cell_type": "code",
   "execution_count": 25,
   "metadata": {},
   "outputs": [],
   "source": [
    "small_RD = total_RD[total_RD['pid_neutrino_pred_logit']>1]\n",
    "small_RD.to_csv(outdir + 'Burnsample_1_percent_neutrino_prob_logit_above_1_all_variables.csv',index=False)"
   ]
  },
  {
   "cell_type": "code",
   "execution_count": 4,
   "metadata": {},
   "outputs": [],
   "source": [
    "outdir = \"/groups/icecube/petersen/GraphNetDatabaseRepository/multi_classification_track_cascade_neutrino/using_new_muons_Peter_database/inference/track_cascade_sets/\"\n"
   ]
  },
  {
   "cell_type": "code",
   "execution_count": 2,
   "metadata": {},
   "outputs": [],
   "source": [
    "test = pd.read_csv(\"/groups/icecube/petersen/GraphNetDatabaseRepository/multi_classification_track_cascade_neutrino/using_new_muons_Peter_database/inference/track_cascade_sets/Burnsample_1_percent_all_events_all_variables.csv\")"
   ]
  },
  {
   "cell_type": "code",
   "execution_count": 5,
   "metadata": {},
   "outputs": [],
   "source": [
    "small_small_RD = test[test['pid_neutrino_pred_logit']>12]\n",
    "small_small_RD.to_csv(outdir + 'Burnsample_1_percent_neutrino_prob_logit_above_12_all_variables.csv',index=False)"
   ]
  },
  {
   "cell_type": "code",
   "execution_count": 6,
   "metadata": {},
   "outputs": [
    {
     "name": "stdout",
     "output_type": "stream",
     "text": [
      "(18226, 33)\n"
     ]
    }
   ],
   "source": [
    "print(np.shape(small_small_RD))"
   ]
  },
  {
   "cell_type": "code",
   "execution_count": null,
   "metadata": {},
   "outputs": [],
   "source": []
  }
 ],
 "metadata": {
  "kernelspec": {
   "display_name": "graphnet",
   "language": "python",
   "name": "python3"
  },
  "language_info": {
   "codemirror_mode": {
    "name": "ipython",
    "version": 3
   },
   "file_extension": ".py",
   "mimetype": "text/x-python",
   "name": "python",
   "nbconvert_exporter": "python",
   "pygments_lexer": "ipython3",
   "version": "3.8.15"
  },
  "orig_nbformat": 4
 },
 "nbformat": 4,
 "nbformat_minor": 2
}
