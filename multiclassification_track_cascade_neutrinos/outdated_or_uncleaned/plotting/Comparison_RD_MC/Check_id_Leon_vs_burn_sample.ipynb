{
 "cells": [
  {
   "cell_type": "code",
   "execution_count": 2,
   "metadata": {},
   "outputs": [],
   "source": [
    "import sqlite3 as sql\n",
    "\n",
    "import numpy as np\n",
    "import pandas as pd\n",
    "from pandas import cut, read_sql\n",
    "import pickle as pkl\n",
    "from random import choices\n",
    "from sklearn import metrics\n",
    "import matplotlib.pyplot as plt\n",
    "import matplotlib.colors as colors\n",
    "import scipy.optimize as optimize\n",
    "\n",
    "indir_burn_sample_db = \"/groups/icecube/petersen/GraphNetDatabaseRepository/dev_lvl3_genie_burnsample/dev_lvl3_genie_burnsample_v5.db\"\n",
    "indir_Leon_MC = \"/groups/icecube/petersen/GraphNetDatabaseRepository/Leon2022_DataAndMC_CSVandDB_StoppedMuons/last_one_lvl3MC.db\"\n",
    "\n",
    "outdir = \"/groups/icecube/petersen/GraphNetDatabaseRepository/multi_classification_stop_track_muon/plotting/\"\n",
    "\n"
   ]
  },
  {
   "cell_type": "code",
   "execution_count": 3,
   "metadata": {},
   "outputs": [],
   "source": [
    "with sql.connect(indir_burn_sample_db) as con:\n",
    "    query = \"\"\"\n",
    "    SELECT\n",
    "        EventID, RunID, SubEventID, SubrunID, event_no, energy, zenith, sim_type, pid\n",
    "    FROM \n",
    "        truth\n",
    "    where pid = 14\n",
    "    \"\"\"\n",
    "    burn_sample = read_sql(query,con)\n",
    "\n",
    "burn_sample_MC = burn_sample[burn_sample['sim_type'] != 'data']\n",
    "\n",
    "with sql.connect(indir_Leon_MC) as con:\n",
    "    query = \"\"\"\n",
    "    SELECT\n",
    "        EventID, RunID, SubEventID, SubrunID, event_no, energy, zenith, sim_type, pid\n",
    "    FROM \n",
    "        truth\n",
    "    where pid = 14\n",
    "    \"\"\"\n",
    "    Leon = read_sql(query,con)\n"
   ]
  },
  {
   "cell_type": "code",
   "execution_count": 22,
   "metadata": {},
   "outputs": [],
   "source": [
    "list = []\n",
    "for i in range(10):\n",
    "    sample = Leon.values[i]\n",
    "    sample_condition = (burn_sample[\"EventID\"] == sample[0]) & (burn_sample[\"SubrunID\"] == sample[3])\n",
    "    list.append(burn_sample[sample_condition].values)\n"
   ]
  },
  {
   "cell_type": "code",
   "execution_count": 27,
   "metadata": {},
   "outputs": [
    {
     "name": "stdout",
     "output_type": "stream",
     "text": [
      "[2.0 140000.0 0.0 25.0 388351 3.2141274167972873 1.576494973014479 'genie'\n",
      " 14.0]\n",
      "[2.0 140000.0 0.0 25.0 57468263 3.2141274167972873 1.576494973014479\n",
      " 'genie' 14.0]\n",
      "[8.0 140000.0 0.0 25.0 388354 2.980081624978137 2.2973398557185276 'genie'\n",
      " 14.0]\n",
      "[8.0 140000.0 0.0 25.0 57468266 2.980081624978137 2.2973398557185276\n",
      " 'genie' 14.0]\n",
      "[10.0 140000.0 0.0 25.0 388355 4.6258758539554625 0.633335958500516\n",
      " 'genie' 14.0]\n",
      "[10.0 140000.0 0.0 25.0 57468267 4.6258758539554625 0.633335958500516\n",
      " 'genie' 14.0]\n",
      "[12.0 140000.0 0.0 25.0 388356 3.1043504236383668 1.883971943112743\n",
      " 'genie' 14.0]\n",
      "[12.0 140000.0 0.0 25.0 57468268 3.1043504236383668 1.883971943112743\n",
      " 'genie' 14.0]\n",
      "[14.0 140000.0 0.0 25.0 388357 3.072998969080343 2.500261215841083 'genie'\n",
      " 14.0]\n",
      "[14.0 140000.0 0.0 25.0 57468269 3.072998969080343 2.500261215841083\n",
      " 'genie' 14.0]\n",
      "[18.0 140000.0 0.0 25.0 388359 3.973020984382667 1.5658910736547798\n",
      " 'genie' 14.0]\n",
      "[18.0 140000.0 0.0 25.0 57468271 3.973020984382667 1.5658910736547798\n",
      " 'genie' 14.0]\n",
      "[24.0 140000.0 0.0 25.0 388362 3.23586959920075 2.4339156589144837 'genie'\n",
      " 14.0]\n",
      "[24.0 140000.0 0.0 25.0 57468274 3.23586959920075 2.4339156589144837\n",
      " 'genie' 14.0]\n",
      "[26.0 140000.0 0.0 25.0 388363 2.5899236790678892 0.493303999407654\n",
      " 'genie' 14.0]\n",
      "[26.0 140000.0 0.0 25.0 57468275 2.5899236790678892 0.493303999407654\n",
      " 'genie' 14.0]\n",
      "[28.0 140000.0 0.0 25.0 388364 4.857173757694945 2.5312918002053935\n",
      " 'genie' 14.0]\n",
      "[28.0 140000.0 0.0 25.0 57468276 4.857173757694945 2.5312918002053935\n",
      " 'genie' 14.0]\n",
      "[30.0 140000.0 0.0 25.0 388365 3.831625630832585 1.986672833228749 'genie'\n",
      " 14.0]\n",
      "[30.0 140000.0 0.0 25.0 57468277 3.831625630832585 1.986672833228749\n",
      " 'genie' 14.0]\n"
     ]
    }
   ],
   "source": [
    "for i in range(len(list)):\n",
    "    print(Leon.values[i])\n",
    "    print(list[i][0])"
   ]
  },
  {
   "cell_type": "code",
   "execution_count": null,
   "metadata": {},
   "outputs": [],
   "source": []
  }
 ],
 "metadata": {
  "kernelspec": {
   "display_name": "graphnet",
   "language": "python",
   "name": "python3"
  },
  "language_info": {
   "codemirror_mode": {
    "name": "ipython",
    "version": 3
   },
   "file_extension": ".py",
   "mimetype": "text/x-python",
   "name": "python",
   "nbconvert_exporter": "python",
   "pygments_lexer": "ipython3",
   "version": "3.8.15"
  },
  "orig_nbformat": 4,
  "vscode": {
   "interpreter": {
    "hash": "f8d6fa195492ab7b6c0e437eb2aec4cd83dac16aa95613845cf8e9e173beed9d"
   }
  }
 },
 "nbformat": 4,
 "nbformat_minor": 2
}
